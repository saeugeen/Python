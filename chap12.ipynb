{
  "nbformat": 4,
  "nbformat_minor": 0,
  "metadata": {
    "colab": {
      "name": "Untitled2.ipynb",
      "provenance": [],
      "private_outputs": true,
      "collapsed_sections": [],
      "authorship_tag": "ABX9TyMt2YH99Wa7LgsDAl0Yopwn",
      "include_colab_link": true
    },
    "kernelspec": {
      "name": "python3",
      "display_name": "Python 3"
    },
    "accelerator": "GPU"
  },
  "cells": [
    {
      "cell_type": "markdown",
      "metadata": {
        "id": "view-in-github",
        "colab_type": "text"
      },
      "source": [
        "<a href=\"https://colab.research.google.com/github/saeugeen/Python_data-structure_algorithm/blob/master/chap12.ipynb\" target=\"_parent\"><img src=\"https://colab.research.google.com/assets/colab-badge.svg\" alt=\"Open In Colab\"/></a>"
      ]
    },
    {
      "cell_type": "markdown",
      "metadata": {
        "id": "cJycLqjfpnve",
        "colab_type": "text"
      },
      "source": [
        "9.3.1 병합정렬"
      ]
    },
    {
      "cell_type": "code",
      "metadata": {
        "id": "DCzMMw_ooG0f",
        "colab_type": "code",
        "colab": {}
      },
      "source": [
        "def merge_sort(seq):\n",
        "  if len(seq)<2:\n",
        "    return seq\n",
        "\n",
        "  mid = len(seq) //2\n",
        "  left,right =seq[:mid],seq[:mid]\n",
        "  if len(left)>1:\n",
        "    left = merge_sort(left)\n",
        "  if len(right)>1:\n",
        "    right = merge_sort(right)\n",
        "\n",
        "  res = []\n",
        "  while left and right:\n",
        "    if left[-1] >= right[-1]:\n",
        "      res.append(left.pop())\n",
        "    else:\n",
        "      res.append(right.pop())\n",
        "  res.reverse()\n",
        "  return (left or right) + res\n",
        "\n",
        "def test_merge_sort():\n",
        "  seq = [3,5,2,6,8,1,0,3,5,6,2]\n",
        "  seq= sorted(seq)\n",
        "  print(seq)\n",
        "\n",
        "if __name__ == \"__main__\":\n",
        "  test_merge_sort()"
      ],
      "execution_count": null,
      "outputs": []
    },
    {
      "cell_type": "markdown",
      "metadata": {
        "id": "ohH6xLbXzvGM",
        "colab_type": "text"
      },
      "source": [
        "9.3.3퀵 정렬"
      ]
    },
    {
      "cell_type": "code",
      "metadata": {
        "id": "3rjJm6r6rn19",
        "colab_type": "code",
        "colab": {}
      },
      "source": [
        "def partition(seq, start, end):\n",
        "  pivot = seq[start]\n",
        "  left = start+1\n",
        "  right = end\n",
        "  done = False\n",
        "  while not done:\n",
        "    while left <=right and seq[left] <=pivot:\n",
        "      left+=1\n",
        "    while left <= right and pivot <seq[right]:\n",
        "      right -=1\n",
        "    if right < left:\n",
        "      done = True\n",
        "    else:\n",
        "      seq[left] , seq [right] = seq[right],seq[left]\n",
        "  seq[start],seq[right] = seq[right],seq[start]\n",
        "  return right\n",
        "'''\n",
        "def quick_sort(seq,start,end):\n",
        "  if start <end:\n",
        "    pivot = partition(seq,start,end)\n",
        "    quick_sort(seq,start,pivot-1)\n",
        "    quick_sort(seq,pivot+1,end)\n",
        "  return seq\n",
        "  '''\n",
        "\n",
        "def test_quick_sort():\n",
        "  seq = [3,5,2,6,8,1,0,3,5,6,2]\n",
        "  seq= partition(seq,0,len(seq)-1)\n",
        "  print(seq)\n",
        "\n",
        "if __name__ == \"__main__\":\n",
        "  test_quick_sort()\n"
      ],
      "execution_count": null,
      "outputs": []
    },
    {
      "cell_type": "markdown",
      "metadata": {
        "id": "Qw0DulPzA5S_",
        "colab_type": "text"
      },
      "source": [
        "9.3.4 힙정렬"
      ]
    },
    {
      "cell_type": "code",
      "metadata": {
        "id": "0_DakHoTA4xr",
        "colab_type": "code",
        "colab": {}
      },
      "source": [
        "def heap_sort3(seq):\n",
        "  for start in range((len(seq)-2)//2,-1,-1):\n",
        "    siftdown(seq,start,len(seq)-1)\n",
        "  for end in range(len(seq)-1,0,-1):\n",
        "    seq[end],seq[0] =seq[0],seq[end]\n",
        "    siftdown(seq,0,end-1)\n",
        "  return seq\n",
        "\n",
        "def siftdown(seq,start,end):\n",
        "  root = start\n",
        "  while True:\n",
        "    child = root*2+1\n",
        "    if child>end:\n",
        "      break\n",
        "    if child+1 <=end and seq[child] <seq[child+1]:\n",
        "      child +=1\n",
        "    if seq[root] <seq[child]:\n",
        "      seq[root],seq[child] =seq[child],seq[root]\n",
        "      root =child\n",
        "    else:\n",
        "      break\n",
        "\n",
        "def test_heap_sort():\n",
        "  seq = [3,5,2,6,8,1,0,3,5,6,2]\n",
        "  assert(heap_sort3(seq) == sorted(seq))\n",
        "  print(seq)\n",
        "\n",
        "if __name__ == \"__main__\":\n",
        "  test_heap_sort()"
      ],
      "execution_count": null,
      "outputs": []
    },
    {
      "cell_type": "markdown",
      "metadata": {
        "id": "kb1K9Aq0TPrn",
        "colab_type": "text"
      },
      "source": [
        "10.2.1 이진 검색"
      ]
    },
    {
      "cell_type": "code",
      "metadata": {
        "id": "njo_VU_N5UVj",
        "colab_type": "code",
        "colab": {}
      },
      "source": [
        "def binary_search_rec(seq, target,low,high):\n",
        "  if low>high:\n",
        "    return None\n",
        "  mid = (low+high)//2\n",
        "  if target == seq[mid]:\n",
        "    return mid\n",
        "  elif target<seq[mid]:\n",
        "    return binary_search_rec(seq,target,low,mid-1)\n",
        "  else:\n",
        "    return binary_search_rec(seq,target,mid+1,high)\n",
        "\n",
        "def binary_search_iter(seq,target):\n",
        "  high,low =len(seq),0\n",
        "  while low<high:\n",
        "    mid =(high + low) //2\n",
        "    if target == seq[mid]:\n",
        "      return mid\n",
        "    elif target <seq[mid]:\n",
        "      high = mid\n",
        "    else:\n",
        "      low = mid +1\n",
        "  return None\n",
        "\n",
        "def test_binary_search():\n",
        "  seq = [1,2,5,6,7,10,12,12,14,15]\n",
        "  target =6\n",
        "  assert(binary_search_iter(seq,target) == 3)\n",
        "  assert(binary_search_rec(seq,target,0,len(seq)) == 3)\n",
        "  print(\"테스트 통과\")\n",
        "\n",
        "if __name__ == \"__main__\":\n",
        "  test_binary_search()"
      ],
      "execution_count": null,
      "outputs": []
    },
    {
      "cell_type": "markdown",
      "metadata": {
        "id": "DgkOnyGUugCr",
        "colab_type": "text"
      },
      "source": [
        "11.1 메모이제이션"
      ]
    },
    {
      "cell_type": "code",
      "metadata": {
        "id": "u3ukc9ZVV5QJ",
        "colab_type": "code",
        "colab": {}
      },
      "source": [
        "from functools import wraps\n",
        "\n",
        "from benchmark import benchmark\n",
        "\n",
        "def memo(func):\n",
        "  cache = {}\n",
        "\n",
        "  @wraps(func)\n",
        "  def wrap(*args):\n",
        "    if args not in cache:\n",
        "      cache[args] = func(*args)\n",
        "    return cache[args]\n",
        "  return wrap\n",
        "\n",
        "def fib(n):\n",
        "  if n <2:\n",
        "    return 1\n",
        "  else:\n",
        "    return fib(n-1) +fib(n-2)\n",
        "\n",
        "@memo\n",
        "def fib2(n):\n",
        "  if n<2:\n",
        "    return 1\n",
        "  else:\n",
        "    return fib2(n-1) +fib2(n-2)\n",
        "\n",
        "def fib3(m,n):\n",
        "  if m[n] == 0:\n",
        "    m[n] = fib3(m,n-1) +fib3(m,n-2)\n",
        "  return m[n]\n",
        "\n",
        "@benchmark\n",
        "def test_fib(n):\n",
        "  print(fib(n))\n",
        "\n",
        "@benchmark\n",
        "def test_fib2(n):\n",
        "  print(fib2(n))\n",
        "\n",
        "@benchmark\n",
        "def test_fib3(n):\n",
        "  m=[0]*(n+1)\n",
        "  m[0], m[1] = 1,1\n",
        "  print(fib3(m,n))\n",
        "\n",
        "if __name__ == \"__main__\":\n",
        "  n=35\n",
        "  test_fib(n)\n",
        "  test_fib2(n)\n",
        "  test_fib3(n)\n",
        "\n"
      ],
      "execution_count": null,
      "outputs": []
    },
    {
      "cell_type": "code",
      "metadata": {
        "id": "YG--DUJ0v8-p",
        "colab_type": "code",
        "colab": {}
      },
      "source": [
        "from functools import wraps\n",
        "from benchmark import benchmark\n",
        "import time\n",
        "\n",
        "def bechmark(method):\n",
        "  @wraps(method)\n",
        "\n",
        "  def timed(*args, **kw):\n",
        "    ts = time.time()\n",
        "    result = method(*args, **kw)\n",
        "    te = time.time()\n",
        "    print(\"{0}:{1:0.2f}ms\".format(method.__name,((te-ts)*1000)))\n",
        "    return result\n",
        "  return timed\n",
        "\n",
        "def memo(func):\n",
        "  cache = {}\n",
        "\n",
        "  @wraps(func)\n",
        "  def wrap(*args):\n",
        "    if args not in cache:\n",
        "      cache[args] = func(*args)\n",
        "    return cache[args]\n",
        "  return wrap\n",
        "\n",
        "def fib(n):\n",
        "  if n <2:\n",
        "    return 1\n",
        "  else:\n",
        "    return fib(n-1) +fib(n-2)\n",
        "\n",
        "@memo\n",
        "def fib2(n):\n",
        "  if n<2:\n",
        "    return 1\n",
        "  else:\n",
        "    return fib2(n-1) +fib2(n-2)\n",
        "\n",
        "def fib3(m,n):\n",
        "  if m[n] == 0:\n",
        "    m[n] = fib3(m,n-1) +fib3(m,n-2)\n",
        "  return m[n]\n",
        "\n",
        "@benchmark\n",
        "def test_fib(n):\n",
        "  print(fib(n))\n",
        "\n",
        "@benchmark\n",
        "def test_fib2(n):\n",
        "  print(fib2(n))\n",
        "\n",
        "@benchmark\n",
        "def test_fib3(n):\n",
        "  m=[0]*(n+1)\n",
        "  m[0], m[1] = 1,1\n",
        "  print(fib3(m,n))\n",
        "\n",
        "if __name__ == \"__main__\":\n",
        "  n=35\n",
        "  test_fib(n)\n",
        "  test_fib2(n)\n",
        "  test_fib3(n)"
      ],
      "execution_count": null,
      "outputs": []
    },
    {
      "cell_type": "code",
      "metadata": {
        "id": "w5050Vuhw8xQ",
        "colab_type": "code",
        "colab": {}
      },
      "source": [
        "import libarchive"
      ],
      "execution_count": null,
      "outputs": []
    },
    {
      "cell_type": "code",
      "metadata": {
        "id": "3ZskpxVQxya8",
        "colab_type": "code",
        "colab": {}
      },
      "source": [
        "# https://pypi.python.org/pypi/libarchive\n",
        "!apt-get -qq install -y libarchive-dev && pip install -U libarchive\n",
        "import libarchive"
      ],
      "execution_count": null,
      "outputs": []
    },
    {
      "cell_type": "code",
      "metadata": {
        "id": "pEu4yRLEyFHl",
        "colab_type": "code",
        "colab": {}
      },
      "source": [
        "!pip install --upgrade gspread"
      ],
      "execution_count": null,
      "outputs": []
    },
    {
      "cell_type": "code",
      "metadata": {
        "id": "yA7r5HBqyFG1",
        "colab_type": "code",
        "colab": {}
      },
      "source": [
        "from google.colab import auth\n",
        "auth.authenticate_user()\n",
        "\n",
        "import gspread\n",
        "from oauth2client.client import GoogleCredentials\n",
        "\n",
        "gc = gspread.authorize(GoogleCredentials.get_application_default())\n",
        "\n",
        "worksheet = gc.open('Your spreadsheet name').sheet1\n",
        "\n",
        "# get_all_values gives a list of rows.\n",
        "rows = worksheet.get_all_values()\n",
        "print(rows)\n",
        "\n",
        "# Convert to a DataFrame and render.\n",
        "import pandas as pd\n",
        "pd.DataFrame.from_records(rows)"
      ],
      "execution_count": null,
      "outputs": []
    },
    {
      "cell_type": "code",
      "metadata": {
        "id": "uzFLPZoVxwwm",
        "colab_type": "code",
        "colab": {}
      },
      "source": [
        "from functools import wraps\n",
        "\n",
        "def logged(func):\n",
        "  def with_logging(*args, **kwargs):\n",
        "    \"\"\"with_logging()함수\"\"\"\n",
        "    print(func.__name__+\"호출\")\n",
        "    return func(*args, **kwargs)\n",
        "  return with_logging\n",
        "\n",
        "@logged\n",
        "def f(x):\n",
        "  \"\"\"첫 번째,데커레이더 사용\"\"\"\n",
        "  return x + x*x\n",
        "\n",
        "def f2(x):\n",
        "  \"\"\"두 번째,데커레이더 사용\"\"\"\n",
        "  return x + x*x\n",
        "\n",
        "def logged2(func):\n",
        "  @wraps(func)\n",
        "  def with_logging(*args, **kwargs):\n",
        "    print(func.__name__+\"호출\")\n",
        "    return func(*args, **kwargs)\n",
        "  return with_logging\n",
        "\n",
        "@logged2\n",
        "def f3(x):\n",
        "  \"\"\"세 번째,wraps와 데커레이더 사용\"\"\"\n",
        "  return x + x*x\n",
        "\n",
        "if __name__ == \"__main__\":\n",
        "  print(\"결과:{0}\".format(f(5)))\n",
        "  print(\"__name__:{0}\".format(f.__name__))\n",
        "  print(\"__doc__:{0}\".format(f.__doc__))\n",
        "  print(\"---------------------------\")\n",
        "  f2=logged(f2)\n",
        "  print(\"결과:{0}\".format(f2(5)))\n",
        "  print(\"__name__:{0}\".format(f2.__name__))\n",
        "  print(\"__doc__:{0}\".format(f2.__doc__))\n",
        "  print(\"---------------------------\")\n",
        "  print(\"결과:{0}\".format(f3(5)))\n",
        "  print(\"__name__:{0}\".format(f3.__name__))\n",
        "  print(\"__doc__:{0}\".format(f3.__doc__))\n",
        "\n"
      ],
      "execution_count": null,
      "outputs": []
    },
    {
      "cell_type": "markdown",
      "metadata": {
        "id": "s00dMMPhA6-G",
        "colab_type": "text"
      },
      "source": [
        "13 트리의 구현"
      ]
    },
    {
      "cell_type": "code",
      "metadata": {
        "id": "VfLO_JIx3KDF",
        "colab_type": "code",
        "colab": {}
      },
      "source": [
        "class Node:\n",
        "  def __init__(self,data):\n",
        "    self.data = data\n",
        "    self.left = None\n",
        "    self.right = None\n",
        "  \n",
        "root = Node(1)\n",
        "root.left = Node(2)\n",
        "root.right = Node(3)\n",
        "root.left.left = Node(4)\n",
        "root.left.right = Node(5)\n",
        "root.right.left = Node(6)\n",
        "root.right.right = Node(7)\n",
        "\n",
        "#직관적인 코드"
      ],
      "execution_count": null,
      "outputs": []
    },
    {
      "cell_type": "code",
      "metadata": {
        "id": "QN0eZ5vjBOqp",
        "colab_type": "code",
        "colab": {}
      },
      "source": [
        "def pre_order(temp):\n",
        "  if temp is None:\n",
        "    return\n",
        "  print(temp.data)\n",
        "  pre_order(temp.left)\n",
        "  pre_order(temp.right)\n",
        "\n",
        "pre_order(root)"
      ],
      "execution_count": null,
      "outputs": []
    },
    {
      "cell_type": "code",
      "metadata": {
        "id": "0De_Mk8GDSxc",
        "colab_type": "code",
        "colab": {}
      },
      "source": [
        "def in_order(temp):\n",
        "  if temp is None:\n",
        "    return\n",
        "  \n",
        "  in_order(temp.left)\n",
        "  print(temp.data)\n",
        "  in_order(temp.right)\n",
        "\n",
        "in_order(root)"
      ],
      "execution_count": null,
      "outputs": []
    },
    {
      "cell_type": "code",
      "metadata": {
        "id": "2f2h-1v5EhMl",
        "colab_type": "code",
        "colab": {}
      },
      "source": [
        "def post_order(temp):\n",
        "  if temp is None:\n",
        "    return\n",
        "  \n",
        "  post_order(temp.left)\n",
        "  post_order(temp.right)\n",
        "  print(temp.data)\n",
        "  \n",
        "post_order(root)"
      ],
      "execution_count": null,
      "outputs": []
    },
    {
      "cell_type": "code",
      "metadata": {
        "id": "CI2dUorTEwoU",
        "colab_type": "code",
        "colab": {}
      },
      "source": [
        "def dispalay(temp, level = 0):\n",
        "  if temp is None:\n",
        "    return\n",
        "\n",
        "def display2(temp, level):\n",
        "  if temp / \n",
        "  \n",
        "  dispalay(temp.right,level+1)\n",
        "  print(\"\\t\"*level,temp.data)\n",
        "  dispalay(temp.left,level+1)\n",
        "\n",
        "dispalay(root)"
      ],
      "execution_count": null,
      "outputs": []
    },
    {
      "cell_type": "code",
      "metadata": {
        "id": "19qA49VXQXui",
        "colab_type": "code",
        "colab": {}
      },
      "source": [
        "col=0\n",
        "def _display(a,temp,row=0):\n",
        "  global col\n",
        "  if temp is None:\n",
        "    return\n",
        "  _display(a,temp.left,row+1)\n",
        "  a[row][col] = temp.data\n",
        "  col += 1\n",
        "  _display(a,temp.right,row+1)\n",
        "\n",
        "def dispalay(temp):\n",
        "  n=10\n",
        "  a=[[0]*n for i in range(n)]\n",
        "  _display(a,temp)\n",
        "  for i in range(n):\n",
        "    for j in range(n):\n",
        "      if a[i][j] !=0:\n",
        "        print(\"%4d\"%a[i][j], end = \"\")\n",
        "      else:\n",
        "        print(\"%4s\"%\"\", end = \"\")\n",
        "    print()\n",
        "\n",
        "dispalay(root)"
      ],
      "execution_count": null,
      "outputs": []
    },
    {
      "cell_type": "code",
      "metadata": {
        "id": "-UTQ75_YSUfg",
        "colab_type": "code",
        "colab": {}
      },
      "source": [
        ""
      ],
      "execution_count": null,
      "outputs": []
    }
  ]
}