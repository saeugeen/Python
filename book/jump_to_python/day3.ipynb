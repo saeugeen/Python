{
  "nbformat": 4,
  "nbformat_minor": 0,
  "metadata": {
    "kernelspec": {
      "display_name": "Python 3",
      "language": "python",
      "name": "python3"
    },
    "language_info": {
      "codemirror_mode": {
        "name": "ipython",
        "version": 3
      },
      "file_extension": ".py",
      "mimetype": "text/x-python",
      "name": "python",
      "nbconvert_exporter": "python",
      "pygments_lexer": "ipython3",
      "version": "3.7.6"
    },
    "colab": {
      "name": "03_day.ipynb",
      "provenance": [],
      "toc_visible": true,
      "include_colab_link": true
    }
  },
  "cells": [
    {
      "cell_type": "markdown",
      "metadata": {
        "id": "view-in-github",
        "colab_type": "text"
      },
      "source": [
        "<a href=\"https://colab.research.google.com/github/saeugeen/Python/blob/master/book/jump_to_python/day3.ipynb\" target=\"_parent\"><img src=\"https://colab.research.google.com/assets/colab-badge.svg\" alt=\"Open In Colab\"/></a>"
      ]
    },
    {
      "cell_type": "code",
      "metadata": {
        "id": "MgPbT_nuTmWS",
        "colab_type": "code",
        "colab": {},
        "outputId": "e0cfc544-dc6d-4df7-e18d-b35bb2ad81b2"
      },
      "source": [
        "n=11\n",
        "inc = 0 \n",
        "flag = 1\n",
        "for i in range(n):\n",
        "    print(' '*(n-inc-1), end='')\n",
        "    print('*'*(inc*2+1))\n",
        "    if( i == n//2 ):\n",
        "        flag = -flag\n",
        "    inc += flag\n",
        "    "
      ],
      "execution_count": null,
      "outputs": [
        {
          "output_type": "stream",
          "text": [
            "          *\n",
            "         ***\n",
            "        *****\n",
            "       *******\n",
            "      *********\n",
            "     ***********\n",
            "      *********\n",
            "       *******\n",
            "        *****\n",
            "         ***\n",
            "          *\n"
          ],
          "name": "stdout"
        }
      ]
    },
    {
      "cell_type": "code",
      "metadata": {
        "id": "j8wTkDtOTmWW",
        "colab_type": "code",
        "colab": {},
        "outputId": "afc1b74c-7f60-422f-b0fd-756b471fa5fb"
      },
      "source": [
        "n=11\n",
        "inc = 0 \n",
        "flag = 1\n",
        "for i in range(n):\n",
        "    print('*'*(inc+1) , end='')\n",
        "    if((n - (inc+1)*2)>0):\n",
        "        print(' '*(n - (inc+1)*2), end='')\n",
        "    if( i == n//2 ):\n",
        "        print('*'*inc)\n",
        "    else:\n",
        "        print('*'*(inc+1))\n",
        "    if( i == n//2 ):\n",
        "        flag = -flag\n",
        "    inc += flag\n"
      ],
      "execution_count": null,
      "outputs": [
        {
          "output_type": "stream",
          "text": [
            "*         *\n",
            "**       **\n",
            "***     ***\n",
            "****   ****\n",
            "***** *****\n",
            "***********\n",
            "***** *****\n",
            "****   ****\n",
            "***     ***\n",
            "**       **\n",
            "*         *\n"
          ],
          "name": "stdout"
        }
      ]
    },
    {
      "cell_type": "markdown",
      "metadata": {
        "id": "SLm7flg3TmWY",
        "colab_type": "text"
      },
      "source": [
        "## 함수"
      ]
    },
    {
      "cell_type": "markdown",
      "metadata": {
        "id": "uueQ_CeIWMrC",
        "colab_type": "text"
      },
      "source": [
        "함수 사용 이유 : 반복해서 작성해야 하는 부분을 입력해야 하는 상황에서 사용\n",
        "\n",
        "* def는 함수를 만들때 사용하는 예약어이다\n",
        "* def 함수이름(매개변수):\n",
        "\n",
        "\n",
        "\n"
      ]
    },
    {
      "cell_type": "code",
      "metadata": {
        "id": "nfrZEDFsTmWZ",
        "colab_type": "code",
        "colab": {},
        "outputId": "0d5a62d0-6fb9-4090-decf-96e91b3b0f3d"
      },
      "source": [
        "a = 3\n",
        "b = 4\n",
        "a+b"
      ],
      "execution_count": null,
      "outputs": [
        {
          "output_type": "execute_result",
          "data": {
            "text/plain": [
              "7"
            ]
          },
          "metadata": {
            "tags": []
          },
          "execution_count": 48
        }
      ]
    },
    {
      "cell_type": "code",
      "metadata": {
        "id": "RVWHSwD8TmWc",
        "colab_type": "code",
        "colab": {}
      },
      "source": [
        "def add(a,b):\n",
        "    return a+b"
      ],
      "execution_count": null,
      "outputs": []
    },
    {
      "cell_type": "code",
      "metadata": {
        "id": "_-1IJ3DJTmWe",
        "colab_type": "code",
        "colab": {},
        "outputId": "1626cbca-c5e2-4080-d8ee-43b1268d9446"
      },
      "source": [
        "c = add(1,2)\n",
        "print(c)\n",
        "print(add(3,4))"
      ],
      "execution_count": null,
      "outputs": [
        {
          "output_type": "stream",
          "text": [
            "3\n",
            "7\n"
          ],
          "name": "stdout"
        }
      ]
    },
    {
      "cell_type": "markdown",
      "metadata": {
        "id": "GdjYRQpVTmWg",
        "colab_type": "text"
      },
      "source": [
        "### 입력값이 없는 함수"
      ]
    },
    {
      "cell_type": "code",
      "metadata": {
        "id": "9Cymq4O6TmWg",
        "colab_type": "code",
        "colab": {},
        "outputId": "7035bd9d-1029-4469-c2f7-076f6dac8faa"
      },
      "source": [
        "def say():\n",
        "    return 'Hi'\n",
        "\n",
        "a = say()\n",
        "print(a)"
      ],
      "execution_count": null,
      "outputs": [
        {
          "output_type": "stream",
          "text": [
            "Hi\n"
          ],
          "name": "stdout"
        }
      ]
    },
    {
      "cell_type": "markdown",
      "metadata": {
        "id": "1JOPkzfATmWi",
        "colab_type": "text"
      },
      "source": [
        "### 결과값이 없는 함수"
      ]
    },
    {
      "cell_type": "code",
      "metadata": {
        "id": "E6KgLGBjTmWj",
        "colab_type": "code",
        "colab": {},
        "outputId": "d200fd80-4cdb-4925-9492-52b29686dd9e"
      },
      "source": [
        "def add(a,b):\n",
        "    print( \"%d + %d = %d\"%(a, b, a+b))\n",
        "\n",
        "a = add(3,4)\n",
        "print(a)"
      ],
      "execution_count": null,
      "outputs": [
        {
          "output_type": "stream",
          "text": [
            "3 + 4 = 7\n",
            "None\n"
          ],
          "name": "stdout"
        }
      ]
    },
    {
      "cell_type": "markdown",
      "metadata": {
        "id": "_H7_1M2-TmWl",
        "colab_type": "text"
      },
      "source": [
        "### 입력값도 없고 결과값도 없는 함수"
      ]
    },
    {
      "cell_type": "code",
      "metadata": {
        "id": "r7kHSdeHTmWl",
        "colab_type": "code",
        "colab": {},
        "outputId": "2d692128-e4c4-4965-e3c2-cfa97a678626"
      },
      "source": [
        "def say():\n",
        "    print(\"Hi\")\n",
        "\n",
        "say()"
      ],
      "execution_count": null,
      "outputs": [
        {
          "output_type": "stream",
          "text": [
            "Hi\n"
          ],
          "name": "stdout"
        }
      ]
    },
    {
      "cell_type": "markdown",
      "metadata": {
        "id": "zsczTNT5TmWn",
        "colab_type": "text"
      },
      "source": [
        "### 매개변수 지정하여 호출하기"
      ]
    },
    {
      "cell_type": "markdown",
      "metadata": {
        "id": "naKMUD1EW5FT",
        "colab_type": "text"
      },
      "source": [
        "* 매개변수 : 함수에 입력으로 전달된 값을 받는 변수\n",
        "\n",
        "* 인수 : 함수를 호출 할 때 전달하는 입력값"
      ]
    },
    {
      "cell_type": "code",
      "metadata": {
        "id": "_zGBg0O2TmWn",
        "colab_type": "code",
        "colab": {},
        "outputId": "c5026526-ef7c-452a-9ace-fee7e7b5afe8"
      },
      "source": [
        "def add(a,b):\n",
        "    return a+b\n",
        "\n",
        "add(3,4)"
      ],
      "execution_count": null,
      "outputs": [
        {
          "output_type": "execute_result",
          "data": {
            "text/plain": [
              "7"
            ]
          },
          "metadata": {
            "tags": []
          },
          "execution_count": 61
        }
      ]
    },
    {
      "cell_type": "code",
      "metadata": {
        "id": "0c7rJsUqTmWp",
        "colab_type": "code",
        "colab": {},
        "outputId": "8c561da5-1e82-4900-8b44-d7e6a26927d4"
      },
      "source": [
        "def add(a=3,b=4):\n",
        "    return a+b\n",
        "\n",
        "add()"
      ],
      "execution_count": null,
      "outputs": [
        {
          "output_type": "execute_result",
          "data": {
            "text/plain": [
              "7"
            ]
          },
          "metadata": {
            "tags": []
          },
          "execution_count": 62
        }
      ]
    },
    {
      "cell_type": "code",
      "metadata": {
        "id": "xdT9TwiZTmWs",
        "colab_type": "code",
        "colab": {},
        "outputId": "77792b75-d6c1-472c-f6ad-2d1e85f9306b"
      },
      "source": [
        "add(10)"
      ],
      "execution_count": null,
      "outputs": [
        {
          "output_type": "execute_result",
          "data": {
            "text/plain": [
              "14"
            ]
          },
          "metadata": {
            "tags": []
          },
          "execution_count": 63
        }
      ]
    },
    {
      "cell_type": "markdown",
      "metadata": {
        "id": "j-fyx9kKTmWu",
        "colab_type": "text"
      },
      "source": [
        "### 여러 개의 입력값을 받는 함수 만들기 "
      ]
    },
    {
      "cell_type": "code",
      "metadata": {
        "id": "-bI18yN6TmWv",
        "colab_type": "code",
        "colab": {
          "base_uri": "https://localhost:8080/",
          "height": 36
        },
        "outputId": "d0824468-902e-4c72-9346-423992118c12"
      },
      "source": [
        "def add_many( *args ): # args = (1,2,3,4,5)\n",
        "    result = 0\n",
        "    for i in args:\n",
        "        result = result + i\n",
        "    return result\n",
        "\n",
        "add_many( 1,2,3,4,5)\n",
        "\n"
      ],
      "execution_count": 1,
      "outputs": [
        {
          "output_type": "execute_result",
          "data": {
            "text/plain": [
              "15"
            ]
          },
          "metadata": {
            "tags": []
          },
          "execution_count": 1
        }
      ]
    },
    {
      "cell_type": "code",
      "metadata": {
        "id": "uekI_ZVwTmWw",
        "colab_type": "code",
        "colab": {},
        "outputId": "1511ef1b-3ede-47a9-ce3c-e4444adfc8d2"
      },
      "source": [
        "def add_many( choice, *args ): # args = (1,2,3,4,5)\n",
        "    if choice == 'add':\n",
        "        result = 0\n",
        "        for i in args:\n",
        "            result = result + i\n",
        "        \n",
        "    elif choice == 'mul':\n",
        "        result = 1\n",
        "        for i in args:\n",
        "            result = result * i\n",
        "    return result\n",
        "\n",
        "add_many( 'mul' , 1,2,3,4,5)"
      ],
      "execution_count": null,
      "outputs": [
        {
          "output_type": "execute_result",
          "data": {
            "text/plain": [
              "120"
            ]
          },
          "metadata": {
            "tags": []
          },
          "execution_count": 69
        }
      ]
    },
    {
      "cell_type": "code",
      "metadata": {
        "id": "KKFPNp6RTmWy",
        "colab_type": "code",
        "colab": {},
        "outputId": "90a34d7e-1ec0-495b-acd3-4740d572ef6d"
      },
      "source": [
        "def print_kwargs( **kwargs ):\n",
        "    print(kwargs)\n",
        "\n",
        "    \n",
        "print_kwargs( a=1 )\n",
        "print_kwargs( name='foo', age=3 )    \n"
      ],
      "execution_count": null,
      "outputs": [
        {
          "output_type": "stream",
          "text": [
            "{'a': 1}\n",
            "{'name': 'foo', 'age': 3}\n"
          ],
          "name": "stdout"
        }
      ]
    },
    {
      "cell_type": "markdown",
      "metadata": {
        "id": "uqGDzvNCTmW0",
        "colab_type": "text"
      },
      "source": [
        "###  함수의 결과값은 하나다."
      ]
    },
    {
      "cell_type": "code",
      "metadata": {
        "id": "z_dU0dOjTmW0",
        "colab_type": "code",
        "colab": {},
        "outputId": "1481b109-2373-48b5-e319-08286aacc54e"
      },
      "source": [
        "def add_and_mul(a,b):\n",
        "    return a+b, a*b # return (a+b, a*b)\n",
        "\n",
        "result = add_and_mul(3,4)\n",
        "print(result)"
      ],
      "execution_count": null,
      "outputs": [
        {
          "output_type": "stream",
          "text": [
            "(7, 12)\n"
          ],
          "name": "stdout"
        }
      ]
    },
    {
      "cell_type": "code",
      "metadata": {
        "id": "-9jT1tWrTmW3",
        "colab_type": "code",
        "colab": {},
        "outputId": "950ece1d-5b5a-4d86-b3f8-445313dc0ff2"
      },
      "source": [
        "c, d = add_and_mul(3,4)\n",
        "print(c, d)"
      ],
      "execution_count": null,
      "outputs": [
        {
          "output_type": "stream",
          "text": [
            "7 12\n"
          ],
          "name": "stdout"
        }
      ]
    },
    {
      "cell_type": "code",
      "metadata": {
        "id": "bStknpyXTmW5",
        "colab_type": "code",
        "colab": {}
      },
      "source": [
        "a, b = (1,2)"
      ],
      "execution_count": null,
      "outputs": []
    },
    {
      "cell_type": "code",
      "metadata": {
        "id": "ObAJVuoOTmW7",
        "colab_type": "code",
        "colab": {},
        "outputId": "ce609fa6-1bfc-4c8d-d720-028d067466c5"
      },
      "source": [
        "print(a)\n",
        "print(b)"
      ],
      "execution_count": null,
      "outputs": [
        {
          "output_type": "stream",
          "text": [
            "1\n",
            "2\n"
          ],
          "name": "stdout"
        }
      ]
    },
    {
      "cell_type": "code",
      "metadata": {
        "id": "9O6R8tNlTmW9",
        "colab_type": "code",
        "colab": {},
        "outputId": "183ee2f5-1313-4fe2-8ea1-e53b70183d85"
      },
      "source": [
        "def add_and_mul(a,b):\n",
        "    return a+b\n",
        "    return a*b\n",
        "\n",
        "result = add_and_mul(3,4)\n",
        "print(result)"
      ],
      "execution_count": null,
      "outputs": [
        {
          "output_type": "stream",
          "text": [
            "7\n"
          ],
          "name": "stdout"
        }
      ]
    },
    {
      "cell_type": "code",
      "metadata": {
        "id": "10yAUUoeTmW_",
        "colab_type": "code",
        "colab": {}
      },
      "source": [
        "def say_myself( name, old, man=True):\n",
        "    pass\n",
        "\n",
        "say_myself(\"홍길동\", 27)"
      ],
      "execution_count": null,
      "outputs": []
    },
    {
      "cell_type": "markdown",
      "metadata": {
        "id": "2f_GEKFBTmXC",
        "colab_type": "text"
      },
      "source": [
        "### 함수 안에서 선언한 변수의 효력 범위"
      ]
    },
    {
      "cell_type": "code",
      "metadata": {
        "id": "XbH74z4RTmXC",
        "colab_type": "code",
        "colab": {},
        "outputId": "302f6d0e-759c-49df-ae48-3e6ee638308f"
      },
      "source": [
        "a = 1\n",
        "\n",
        "def vartest(a):\n",
        "    a = a+1\n",
        "    print('vartest():%d'%a)\n",
        "    \n",
        "vartest(a)\n",
        "print(a)"
      ],
      "execution_count": null,
      "outputs": [
        {
          "output_type": "stream",
          "text": [
            "vartest():2\n",
            "1\n"
          ],
          "name": "stdout"
        }
      ]
    },
    {
      "cell_type": "code",
      "metadata": {
        "id": "RPoIOUvqTmXE",
        "colab_type": "code",
        "colab": {},
        "outputId": "42c28685-167b-43d2-9245-83e5406e4b26"
      },
      "source": [
        "def vartest(local):\n",
        "    local = local+1\n",
        "    print('vartest():%d'%local)\n",
        "    \n",
        "vartest(3)\n",
        "print(local)"
      ],
      "execution_count": null,
      "outputs": [
        {
          "output_type": "stream",
          "text": [
            "vartest():4\n"
          ],
          "name": "stdout"
        },
        {
          "output_type": "error",
          "ename": "NameError",
          "evalue": "name 'local' is not defined",
          "traceback": [
            "\u001b[1;31m---------------------------------------------------------------------------\u001b[0m",
            "\u001b[1;31mNameError\u001b[0m                                 Traceback (most recent call last)",
            "\u001b[1;32m<ipython-input-84-547d1174ab8c>\u001b[0m in \u001b[0;36m<module>\u001b[1;34m\u001b[0m\n\u001b[0;32m      4\u001b[0m \u001b[1;33m\u001b[0m\u001b[0m\n\u001b[0;32m      5\u001b[0m \u001b[0mvartest\u001b[0m\u001b[1;33m(\u001b[0m\u001b[1;36m3\u001b[0m\u001b[1;33m)\u001b[0m\u001b[1;33m\u001b[0m\u001b[1;33m\u001b[0m\u001b[0m\n\u001b[1;32m----> 6\u001b[1;33m \u001b[0mprint\u001b[0m\u001b[1;33m(\u001b[0m\u001b[0mlocal\u001b[0m\u001b[1;33m)\u001b[0m\u001b[1;33m\u001b[0m\u001b[1;33m\u001b[0m\u001b[0m\n\u001b[0m",
            "\u001b[1;31mNameError\u001b[0m: name 'local' is not defined"
          ]
        }
      ]
    },
    {
      "cell_type": "code",
      "metadata": {
        "id": "geDI7D-iTmXH",
        "colab_type": "code",
        "colab": {},
        "outputId": "0c676400-4709-4328-c389-6a542d3c4fb7"
      },
      "source": [
        "def vartest(local):\n",
        "    local = local+1\n",
        "    print('vartest():%d'%local)\n",
        "    return local\n",
        "    \n",
        "result = vartest(3)\n",
        "print(result)"
      ],
      "execution_count": null,
      "outputs": [
        {
          "output_type": "stream",
          "text": [
            "vartest():4\n",
            "4\n"
          ],
          "name": "stdout"
        }
      ]
    },
    {
      "cell_type": "code",
      "metadata": {
        "id": "O3UENAVxTmXJ",
        "colab_type": "code",
        "colab": {},
        "outputId": "b5f9b69d-3c33-4a9a-803c-ec43cf4223d1"
      },
      "source": [
        "a = 1\n",
        "\n",
        "def vartest():\n",
        "    global a\n",
        "    a = a+1\n",
        "    print('vartest():%d'%a)\n",
        "    \n",
        "vartest()\n",
        "print(a)"
      ],
      "execution_count": null,
      "outputs": [
        {
          "output_type": "stream",
          "text": [
            "vartest():2\n",
            "2\n"
          ],
          "name": "stdout"
        }
      ]
    },
    {
      "cell_type": "markdown",
      "metadata": {
        "id": "gd9UCQ-6TmXL",
        "colab_type": "text"
      },
      "source": [
        "### 람다(익명의 함수)"
      ]
    },
    {
      "cell_type": "code",
      "metadata": {
        "id": "LfiQiyo-TmXM",
        "colab_type": "code",
        "colab": {
          "base_uri": "https://localhost:8080/",
          "height": 36
        },
        "outputId": "126618a0-b672-4421-a02f-6fd7b621ffe2"
      },
      "source": [
        "add = lambda a,b : a+b\n",
        "type(add)\n",
        "result = add(2,4)\n",
        "print(result)\n",
        "\n",
        "# lambda 예약어로 만든 함수는 return 명령어가 없어도 결과값을 돌려준다"
      ],
      "execution_count": 2,
      "outputs": [
        {
          "output_type": "stream",
          "text": [
            "6\n"
          ],
          "name": "stdout"
        }
      ]
    },
    {
      "cell_type": "markdown",
      "metadata": {
        "id": "eskTWdmHTmXP",
        "colab_type": "text"
      },
      "source": [
        "## 파일 읽고 쓰기"
      ]
    },
    {
      "cell_type": "code",
      "metadata": {
        "id": "DhOKytosTmXQ",
        "colab_type": "code",
        "colab": {}
      },
      "source": [
        "f = open( \"새파일.txt\", \"w\") # WRONLY | CREAT | TRUNC\n",
        "f.close()"
      ],
      "execution_count": 4,
      "outputs": []
    },
    {
      "cell_type": "code",
      "metadata": {
        "id": "VFSIBg8tTmXR",
        "colab_type": "code",
        "colab": {}
      },
      "source": [
        "f = open( \"새파일.txt\", \"w\") # WRONLY | CREAT | TRUNC\n",
        "\n",
        "for i in range(1,11):\n",
        "    data = \"%d번째 줄입니다.\\n\"%i\n",
        "    f.write(data) #data를 파일 객체에 f에 넣기\n",
        "    \n",
        "f.close()"
      ],
      "execution_count": 5,
      "outputs": []
    },
    {
      "cell_type": "markdown",
      "metadata": {
        "id": "Tr2ReKFaTmXU",
        "colab_type": "text"
      },
      "source": [
        "### 파일을 읽는 방법"
      ]
    },
    {
      "cell_type": "code",
      "metadata": {
        "id": "CAp87f-fTmXV",
        "colab_type": "code",
        "colab": {
          "base_uri": "https://localhost:8080/",
          "height": 388
        },
        "outputId": "b74f39c9-38e3-4374-e7a0-52bec1f562a7"
      },
      "source": [
        "f = open( \"새파일.txt\", \"r\") # RDONLY \n",
        "\n",
        "while True:\n",
        "    line = f.readline()\n",
        "    if not line :  break\n",
        "    print(line)\n",
        "    \n",
        "f.close()"
      ],
      "execution_count": 6,
      "outputs": [
        {
          "output_type": "stream",
          "text": [
            "1번째 줄입니다.\n",
            "\n",
            "2번째 줄입니다.\n",
            "\n",
            "3번째 줄입니다.\n",
            "\n",
            "4번째 줄입니다.\n",
            "\n",
            "5번째 줄입니다.\n",
            "\n",
            "6번째 줄입니다.\n",
            "\n",
            "7번째 줄입니다.\n",
            "\n",
            "8번째 줄입니다.\n",
            "\n",
            "9번째 줄입니다.\n",
            "\n",
            "10번째 줄입니다.\n",
            "\n"
          ],
          "name": "stdout"
        }
      ]
    },
    {
      "cell_type": "code",
      "metadata": {
        "id": "49VYBg7aTmXX",
        "colab_type": "code",
        "colab": {},
        "outputId": "375c4f22-a30d-4cc2-a597-4029dccb6ffd"
      },
      "source": [
        "#외부에 저장된 파일을 읽는 방법 : readline\n",
        "f = open( \"새파일.txt\", \"r\") # RDONLY \n",
        "\n",
        "lines = f.readlines()\n",
        "for line in lines:\n",
        "    print(line)\n",
        "    \n",
        "f.close()"
      ],
      "execution_count": null,
      "outputs": [
        {
          "output_type": "stream",
          "text": [
            "1번째 줄입니다.\n",
            "\n",
            "2번째 줄입니다.\n",
            "\n",
            "3번째 줄입니다.\n",
            "\n",
            "4번째 줄입니다.\n",
            "\n",
            "5번째 줄입니다.\n",
            "\n",
            "6번째 줄입니다.\n",
            "\n",
            "7번째 줄입니다.\n",
            "\n",
            "8번째 줄입니다.\n",
            "\n",
            "9번째 줄입니다.\n",
            "\n",
            "10번째 줄입니다.\n",
            "\n"
          ],
          "name": "stdout"
        }
      ]
    },
    {
      "cell_type": "code",
      "metadata": {
        "id": "uqLSWH_mTmXb",
        "colab_type": "code",
        "colab": {},
        "outputId": "8addb1e7-e0c8-45c8-d18e-56f865f3c919"
      },
      "source": [
        "f = open( \"새파일.txt\", \"r\") # RDONLY \n",
        "\n",
        "data = f.read()\n",
        "print(data)\n",
        "    \n",
        "f.close()"
      ],
      "execution_count": null,
      "outputs": [
        {
          "output_type": "stream",
          "text": [
            "1번째 줄입니다.\n",
            "2번째 줄입니다.\n",
            "3번째 줄입니다.\n",
            "4번째 줄입니다.\n",
            "5번째 줄입니다.\n",
            "6번째 줄입니다.\n",
            "7번째 줄입니다.\n",
            "8번째 줄입니다.\n",
            "9번째 줄입니다.\n",
            "10번째 줄입니다.\n",
            "\n"
          ],
          "name": "stdout"
        }
      ]
    },
    {
      "cell_type": "code",
      "metadata": {
        "id": "on-krW-3TmXd",
        "colab_type": "code",
        "colab": {}
      },
      "source": [
        "f = open( \"새파일.txt\", \"a\") # WRONLY | APPEND\n",
        "\n",
        "for i in range(11,21):\n",
        "    data = \"%d번째 줄입니다.\\n\"%i\n",
        "    f.write(data)\n",
        "    \n",
        "f.close()"
      ],
      "execution_count": null,
      "outputs": []
    },
    {
      "cell_type": "code",
      "metadata": {
        "id": "eECqKDq5TmXf",
        "colab_type": "code",
        "colab": {},
        "outputId": "4ae9b6a7-886f-4753-ef5d-5d84b636ced5"
      },
      "source": [
        "f = open( \"새파일.txt\", \"r\") # RDONLY \n",
        "\n",
        "data = f.read()\n",
        "print(data)\n",
        "    \n",
        "f.close()"
      ],
      "execution_count": null,
      "outputs": [
        {
          "output_type": "stream",
          "text": [
            "1번째 줄입니다.\n",
            "2번째 줄입니다.\n",
            "3번째 줄입니다.\n",
            "4번째 줄입니다.\n",
            "5번째 줄입니다.\n",
            "6번째 줄입니다.\n",
            "7번째 줄입니다.\n",
            "8번째 줄입니다.\n",
            "9번째 줄입니다.\n",
            "10번째 줄입니다.\n",
            "11번째 줄입니다.\n",
            "12번째 줄입니다.\n",
            "13번째 줄입니다.\n",
            "14번째 줄입니다.\n",
            "15번째 줄입니다.\n",
            "16번째 줄입니다.\n",
            "17번째 줄입니다.\n",
            "18번째 줄입니다.\n",
            "19번째 줄입니다.\n",
            "20번째 줄입니다.\n",
            "\n"
          ],
          "name": "stdout"
        }
      ]
    },
    {
      "cell_type": "markdown",
      "metadata": {
        "id": "rITD4zckTmXh",
        "colab_type": "text"
      },
      "source": [
        "### with문과 함께 사용하기"
      ]
    },
    {
      "cell_type": "code",
      "metadata": {
        "id": "C7me-XC9TmXh",
        "colab_type": "code",
        "colab": {}
      },
      "source": [
        "f = open( \"foo.txt\", \"w\") \n",
        "\n",
        "f.write('Life is too short, you need python')\n",
        "    \n",
        "f.close()"
      ],
      "execution_count": null,
      "outputs": []
    },
    {
      "cell_type": "code",
      "metadata": {
        "id": "hFciSWJETmXl",
        "colab_type": "code",
        "colab": {}
      },
      "source": [
        "with  open( \"foo.txt\", \"w\")  as f:\n",
        "    f.write('Life is too short, you need python')\n",
        "    "
      ],
      "execution_count": null,
      "outputs": []
    },
    {
      "cell_type": "markdown",
      "metadata": {
        "id": "7pqfF9hLTmXn",
        "colab_type": "text"
      },
      "source": [
        "### 파이썬 객체지향 프로그램"
      ]
    },
    {
      "cell_type": "code",
      "metadata": {
        "id": "6-AcfYKfTmXn",
        "colab_type": "code",
        "colab": {
          "base_uri": "https://localhost:8080/",
          "height": 203
        },
        "outputId": "fd807ab4-a678-4267-9ae8-ccc720b5b789"
      },
      "source": [
        "class Calculator:\n",
        "    def __init__(self):\n",
        "        print(\"Calculator.__init__()\", self)\n",
        "        self.result = 0\n",
        "        \n",
        "    def add(self, num):\n",
        "        print(\"Calculator.add()\", self)\n",
        "        self.result += num\n",
        "        return self.result\n",
        "\n",
        "cal1 = Calculator()\n",
        "cal2 = Calculator()\n",
        "print(cal1.add(3))\n",
        "print(cal1.add(4))\n",
        "print(cal2.add(3))\n",
        "print(cal2.add(7))"
      ],
      "execution_count": 7,
      "outputs": [
        {
          "output_type": "stream",
          "text": [
            "Calculator.__init__() <__main__.Calculator object at 0x7f40aa6fceb8>\n",
            "Calculator.__init__() <__main__.Calculator object at 0x7f40aa6fce48>\n",
            "Calculator.add() <__main__.Calculator object at 0x7f40aa6fceb8>\n",
            "3\n",
            "Calculator.add() <__main__.Calculator object at 0x7f40aa6fceb8>\n",
            "7\n",
            "Calculator.add() <__main__.Calculator object at 0x7f40aa6fce48>\n",
            "3\n",
            "Calculator.add() <__main__.Calculator object at 0x7f40aa6fce48>\n",
            "10\n"
          ],
          "name": "stdout"
        }
      ]
    },
    {
      "cell_type": "markdown",
      "metadata": {
        "id": "gL_D7IKKTmXq",
        "colab_type": "text"
      },
      "source": [
        "### 클래스 구조 만들기"
      ]
    },
    {
      "cell_type": "code",
      "metadata": {
        "id": "KbHe_tFhTmXs",
        "colab_type": "code",
        "colab": {}
      },
      "source": [
        "class Fourcal:\n",
        "    pass"
      ],
      "execution_count": 8,
      "outputs": []
    },
    {
      "cell_type": "code",
      "metadata": {
        "id": "V1B2BqAtTmXx",
        "colab_type": "code",
        "colab": {
          "base_uri": "https://localhost:8080/",
          "height": 36
        },
        "outputId": "520f53c9-c7a5-4b2c-d80d-b4ab08d5ddee"
      },
      "source": [
        "a = Fourcal()\n",
        "id(a)"
      ],
      "execution_count": 9,
      "outputs": [
        {
          "output_type": "execute_result",
          "data": {
            "text/plain": [
              "139915714103224"
            ]
          },
          "metadata": {
            "tags": []
          },
          "execution_count": 9
        }
      ]
    },
    {
      "cell_type": "code",
      "metadata": {
        "id": "NyhvPXi-TmXz",
        "colab_type": "code",
        "colab": {
          "base_uri": "https://localhost:8080/",
          "height": 36
        },
        "outputId": "35a590e7-4f5f-4052-9a35-2446f2de80e2"
      },
      "source": [
        "type(a)"
      ],
      "execution_count": 10,
      "outputs": [
        {
          "output_type": "execute_result",
          "data": {
            "text/plain": [
              "__main__.Fourcal"
            ]
          },
          "metadata": {
            "tags": []
          },
          "execution_count": 10
        }
      ]
    },
    {
      "cell_type": "code",
      "metadata": {
        "id": "ZilxKI1kTmX2",
        "colab_type": "code",
        "colab": {},
        "outputId": "b3489cdd-0e9e-4674-de45-99247925f58c"
      },
      "source": [
        "a.setdata(4, 2)"
      ],
      "execution_count": null,
      "outputs": [
        {
          "output_type": "error",
          "ename": "AttributeError",
          "evalue": "'Fourcal' object has no attribute 'setdata'",
          "traceback": [
            "\u001b[1;31m---------------------------------------------------------------------------\u001b[0m",
            "\u001b[1;31mAttributeError\u001b[0m                            Traceback (most recent call last)",
            "\u001b[1;32m<ipython-input-107-c97ff6fd13f1>\u001b[0m in \u001b[0;36m<module>\u001b[1;34m\u001b[0m\n\u001b[1;32m----> 1\u001b[1;33m \u001b[0ma\u001b[0m\u001b[1;33m.\u001b[0m\u001b[0msetdata\u001b[0m\u001b[1;33m(\u001b[0m\u001b[1;36m4\u001b[0m\u001b[1;33m,\u001b[0m \u001b[1;36m2\u001b[0m\u001b[1;33m)\u001b[0m\u001b[1;33m\u001b[0m\u001b[1;33m\u001b[0m\u001b[0m\n\u001b[0m",
            "\u001b[1;31mAttributeError\u001b[0m: 'Fourcal' object has no attribute 'setdata'"
          ]
        }
      ]
    },
    {
      "cell_type": "code",
      "metadata": {
        "id": "gfXkTCseTmX5",
        "colab_type": "code",
        "colab": {}
      },
      "source": [
        "class Fourcal:\n",
        "    def setdata(self, first, second):\n",
        "        self.first = first\n",
        "        self.second = second\n",
        "        \n",
        "    def add(self):\n",
        "        result = self.first + self.second \n",
        "        return result\n"
      ],
      "execution_count": null,
      "outputs": []
    },
    {
      "cell_type": "code",
      "metadata": {
        "id": "fNeeWzmhTmX7",
        "colab_type": "code",
        "colab": {},
        "outputId": "8319f9bf-2820-4ab6-ea99-93bcaeb6bf09"
      },
      "source": [
        "a = Fourcal()\n",
        "a.setdata(4,2)\n",
        "print(a.first)\n",
        "print(a.second)\n",
        "print(a.add())"
      ],
      "execution_count": null,
      "outputs": [
        {
          "output_type": "stream",
          "text": [
            "4\n",
            "2\n",
            "6\n"
          ],
          "name": "stdout"
        }
      ]
    },
    {
      "cell_type": "code",
      "metadata": {
        "id": "MB4BLGuVTmX9",
        "colab_type": "code",
        "colab": {}
      },
      "source": [
        ""
      ],
      "execution_count": null,
      "outputs": []
    }
  ]
}