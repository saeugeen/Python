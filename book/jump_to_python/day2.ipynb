{
  "nbformat": 4,
  "nbformat_minor": 0,
  "metadata": {
    "kernelspec": {
      "display_name": "Python 3",
      "language": "python",
      "name": "python3"
    },
    "language_info": {
      "codemirror_mode": {
        "name": "ipython",
        "version": 3
      },
      "file_extension": ".py",
      "mimetype": "text/x-python",
      "name": "python",
      "nbconvert_exporter": "python",
      "pygments_lexer": "ipython3",
      "version": "3.7.6"
    },
    "colab": {
      "name": "02_day.ipynb",
      "provenance": [],
      "toc_visible": true,
      "include_colab_link": true
    }
  },
  "cells": [
    {
      "cell_type": "markdown",
      "metadata": {
        "id": "view-in-github",
        "colab_type": "text"
      },
      "source": [
        "<a href=\"https://colab.research.google.com/github/saeugeen/Python/blob/master/book/jump_to_python/day2.ipynb\" target=\"_parent\"><img src=\"https://colab.research.google.com/assets/colab-badge.svg\" alt=\"Open In Colab\"/></a>"
      ]
    },
    {
      "cell_type": "code",
      "metadata": {
        "id": "xHCl8TpJOVMc",
        "colab_type": "code",
        "colab": {},
        "outputId": "8247707b-30f6-4a45-8c45-02a7b7a1307e"
      },
      "source": [
        "\"I eat {0} apples\".format(3)"
      ],
      "execution_count": null,
      "outputs": [
        {
          "output_type": "execute_result",
          "data": {
            "text/plain": [
              "'I eat 3 apples'"
            ]
          },
          "metadata": {
            "tags": []
          },
          "execution_count": 1
        }
      ]
    },
    {
      "cell_type": "code",
      "metadata": {
        "id": "fO43kSQfOVMg",
        "colab_type": "code",
        "colab": {},
        "outputId": "c657ab6a-2f54-4862-ff34-496cd5c09736"
      },
      "source": [
        "\"I eat {0} apples\".format(\"five\")"
      ],
      "execution_count": null,
      "outputs": [
        {
          "output_type": "execute_result",
          "data": {
            "text/plain": [
              "'I eat five apples'"
            ]
          },
          "metadata": {
            "tags": []
          },
          "execution_count": 3
        }
      ]
    },
    {
      "cell_type": "code",
      "metadata": {
        "id": "tc_ck7GIOVMj",
        "colab_type": "code",
        "colab": {},
        "outputId": "a5bf8678-b3f9-48fd-d6ea-369b5d585a0a"
      },
      "source": [
        "number = 3\n",
        "\"I eat {0} apples\".format(number)"
      ],
      "execution_count": null,
      "outputs": [
        {
          "output_type": "execute_result",
          "data": {
            "text/plain": [
              "'I eat 3 apples'"
            ]
          },
          "metadata": {
            "tags": []
          },
          "execution_count": 4
        }
      ]
    },
    {
      "cell_type": "code",
      "metadata": {
        "id": "VCWI_zUNOVMl",
        "colab_type": "code",
        "colab": {},
        "outputId": "456dd3e3-b822-4f22-a84c-9653707a2c17"
      },
      "source": [
        "number = 3\n",
        "day = \"three\"\n",
        "\"I ate {0} apples. so I was sick for {1} days\".format(number,day)"
      ],
      "execution_count": null,
      "outputs": [
        {
          "output_type": "execute_result",
          "data": {
            "text/plain": [
              "'I ate 3 apples. so I was sick for three days'"
            ]
          },
          "metadata": {
            "tags": []
          },
          "execution_count": 5
        }
      ]
    },
    {
      "cell_type": "code",
      "metadata": {
        "id": "HWnUGCDEOVMo",
        "colab_type": "code",
        "colab": {},
        "outputId": "3486954d-e197-4f49-c683-7767a2e95a3e"
      },
      "source": [
        "\"I ate {number} apples. so I was sick for {day} days\".format(number=10,day=3)"
      ],
      "execution_count": null,
      "outputs": [
        {
          "output_type": "execute_result",
          "data": {
            "text/plain": [
              "'I ate 10 apples. so I was sick for 3 days'"
            ]
          },
          "metadata": {
            "tags": []
          },
          "execution_count": 7
        }
      ]
    },
    {
      "cell_type": "code",
      "metadata": {
        "id": "SDyZG-WGOVMs",
        "colab_type": "code",
        "colab": {},
        "outputId": "c878a890-fba4-4650-f92e-b94311605da3"
      },
      "source": [
        "\"I ate {0} apples. so I was sick for {day} days\".format(10,day=3)"
      ],
      "execution_count": null,
      "outputs": [
        {
          "output_type": "execute_result",
          "data": {
            "text/plain": [
              "'I ate 10 apples. so I was sick for 3 days'"
            ]
          },
          "metadata": {
            "tags": []
          },
          "execution_count": 8
        }
      ]
    },
    {
      "cell_type": "code",
      "metadata": {
        "id": "CbcqkDsoOVMx",
        "colab_type": "code",
        "colab": {},
        "outputId": "d6f8c249-4d93-496f-a78f-133b22052619"
      },
      "source": [
        "\"{0:<10}\".format(\"hi\")"
      ],
      "execution_count": null,
      "outputs": [
        {
          "output_type": "execute_result",
          "data": {
            "text/plain": [
              "'hi        '"
            ]
          },
          "metadata": {
            "tags": []
          },
          "execution_count": 9
        }
      ]
    },
    {
      "cell_type": "code",
      "metadata": {
        "id": "cz-iiMOXOVM0",
        "colab_type": "code",
        "colab": {},
        "outputId": "fbd03181-8b9a-4054-e458-278938b39032"
      },
      "source": [
        "\"{0:>10}\".format(\"hi\")"
      ],
      "execution_count": null,
      "outputs": [
        {
          "output_type": "execute_result",
          "data": {
            "text/plain": [
              "'        hi'"
            ]
          },
          "metadata": {
            "tags": []
          },
          "execution_count": 10
        }
      ]
    },
    {
      "cell_type": "code",
      "metadata": {
        "id": "mQ4N74ABOVM3",
        "colab_type": "code",
        "colab": {},
        "outputId": "35f956b8-0a4e-46e0-f3e1-35df7f2f9d4e"
      },
      "source": [
        "\"{0:^10}\".format(\"hi\")"
      ],
      "execution_count": null,
      "outputs": [
        {
          "output_type": "execute_result",
          "data": {
            "text/plain": [
              "'    hi    '"
            ]
          },
          "metadata": {
            "tags": []
          },
          "execution_count": 11
        }
      ]
    },
    {
      "cell_type": "code",
      "metadata": {
        "id": "VHjfzl1pOVM6",
        "colab_type": "code",
        "colab": {},
        "outputId": "2252a2b9-2761-45e2-898d-89b96ab378d2"
      },
      "source": [
        "\"{0:=^10}\".format(\"hi\")"
      ],
      "execution_count": null,
      "outputs": [
        {
          "output_type": "execute_result",
          "data": {
            "text/plain": [
              "'====hi===='"
            ]
          },
          "metadata": {
            "tags": []
          },
          "execution_count": 12
        }
      ]
    },
    {
      "cell_type": "code",
      "metadata": {
        "id": "pA84XIlAOVM8",
        "colab_type": "code",
        "colab": {},
        "outputId": "9657faf0-ddd9-49f4-9cae-9e9976d4f1f7"
      },
      "source": [
        "\"{0:!^10}\".format(\"hi\")"
      ],
      "execution_count": null,
      "outputs": [
        {
          "output_type": "execute_result",
          "data": {
            "text/plain": [
              "'!!!!hi!!!!'"
            ]
          },
          "metadata": {
            "tags": []
          },
          "execution_count": 13
        }
      ]
    },
    {
      "cell_type": "code",
      "metadata": {
        "id": "-u8MRpUGOVM-",
        "colab_type": "code",
        "colab": {},
        "outputId": "6124068d-ba58-4d55-fa14-6f3f8f03dcaa"
      },
      "source": [
        "y = 3.42134234\n",
        "\"{0:0.4f}\".format(y)"
      ],
      "execution_count": null,
      "outputs": [
        {
          "output_type": "execute_result",
          "data": {
            "text/plain": [
              "'3.4213'"
            ]
          },
          "metadata": {
            "tags": []
          },
          "execution_count": 14
        }
      ]
    },
    {
      "cell_type": "code",
      "metadata": {
        "id": "od7YrEsnOVNA",
        "colab_type": "code",
        "colab": {},
        "outputId": "e56efec6-612b-4532-d72b-30cbf38ee3e2"
      },
      "source": [
        "y = 3.42134234\n",
        "\"{0:10.4f}\".format(y)"
      ],
      "execution_count": null,
      "outputs": [
        {
          "output_type": "execute_result",
          "data": {
            "text/plain": [
              "'    3.4213'"
            ]
          },
          "metadata": {
            "tags": []
          },
          "execution_count": 15
        }
      ]
    },
    {
      "cell_type": "code",
      "metadata": {
        "id": "xw4oU1nIOVND",
        "colab_type": "code",
        "colab": {},
        "outputId": "5f5c19cd-b227-41c6-81dc-d32fb88dbb91"
      },
      "source": [
        "\"{{and}}\".format()"
      ],
      "execution_count": null,
      "outputs": [
        {
          "output_type": "execute_result",
          "data": {
            "text/plain": [
              "'{and}'"
            ]
          },
          "metadata": {
            "tags": []
          },
          "execution_count": 18
        }
      ]
    },
    {
      "cell_type": "code",
      "metadata": {
        "id": "KMSSk6m3OVNF",
        "colab_type": "code",
        "colab": {},
        "outputId": "71bea33e-9492-4d9d-f5e1-0fbb3cfb79fe"
      },
      "source": [
        "name = '홍길동'\n",
        "age = 30\n",
        "f'나의 이름은 {name}입니다. 나이는 {age} 입니다.'"
      ],
      "execution_count": null,
      "outputs": [
        {
          "output_type": "execute_result",
          "data": {
            "text/plain": [
              "'나의 이름은 홍길동입니다. 나이는 30 입니다.'"
            ]
          },
          "metadata": {
            "tags": []
          },
          "execution_count": 19
        }
      ]
    },
    {
      "cell_type": "code",
      "metadata": {
        "id": "bx8rmQqjOVNI",
        "colab_type": "code",
        "colab": {},
        "outputId": "475e0839-667c-4d9a-9910-daca1358eab5"
      },
      "source": [
        "age = 30\n",
        "f'나는 내년이면  {age+1} 살이 된다.'"
      ],
      "execution_count": null,
      "outputs": [
        {
          "output_type": "execute_result",
          "data": {
            "text/plain": [
              "'나는 내년이면  31 살이 된다.'"
            ]
          },
          "metadata": {
            "tags": []
          },
          "execution_count": 20
        }
      ]
    },
    {
      "cell_type": "code",
      "metadata": {
        "id": "VccIFc0YOVNK",
        "colab_type": "code",
        "colab": {},
        "outputId": "1781785c-e209-42b1-97fe-d409c8670d6a"
      },
      "source": [
        "d = {'name':'홍길동', 'age':30}\n",
        "f'나의 이름은 {d[\"name\"]}입니다. 나이는 {d[\"age\"]} 입니다.'"
      ],
      "execution_count": null,
      "outputs": [
        {
          "output_type": "execute_result",
          "data": {
            "text/plain": [
              "'나의 이름은 홍길동입니다. 나이는 30 입니다.'"
            ]
          },
          "metadata": {
            "tags": []
          },
          "execution_count": 23
        }
      ]
    },
    {
      "cell_type": "code",
      "metadata": {
        "id": "xkE5wI5COVNO",
        "colab_type": "code",
        "colab": {},
        "outputId": "39ed7df7-224e-4e90-ccc3-f918e579dc3b"
      },
      "source": [
        "f'{\"hi\":<10}'"
      ],
      "execution_count": null,
      "outputs": [
        {
          "output_type": "execute_result",
          "data": {
            "text/plain": [
              "'hi        '"
            ]
          },
          "metadata": {
            "tags": []
          },
          "execution_count": 26
        }
      ]
    },
    {
      "cell_type": "code",
      "metadata": {
        "id": "duIifHr8OVNS",
        "colab_type": "code",
        "colab": {},
        "outputId": "6c941073-36b9-4d16-d84c-6a2adede1756"
      },
      "source": [
        "f'{\"hi\":>10}'"
      ],
      "execution_count": null,
      "outputs": [
        {
          "output_type": "execute_result",
          "data": {
            "text/plain": [
              "'        hi'"
            ]
          },
          "metadata": {
            "tags": []
          },
          "execution_count": 27
        }
      ]
    },
    {
      "cell_type": "code",
      "metadata": {
        "id": "uvLeoS33OVNV",
        "colab_type": "code",
        "colab": {},
        "outputId": "7da4f7c4-616f-4ae9-87d3-399da052b438"
      },
      "source": [
        "f'{\"hi\":^10}'"
      ],
      "execution_count": null,
      "outputs": [
        {
          "output_type": "execute_result",
          "data": {
            "text/plain": [
              "'    hi    '"
            ]
          },
          "metadata": {
            "tags": []
          },
          "execution_count": 28
        }
      ]
    },
    {
      "cell_type": "code",
      "metadata": {
        "id": "6ftkmQUzOVNX",
        "colab_type": "code",
        "colab": {},
        "outputId": "c7516d4c-95c1-4b58-b3de-a7b3df18f95f"
      },
      "source": [
        "f'{\"hi\":=^10}'"
      ],
      "execution_count": null,
      "outputs": [
        {
          "output_type": "execute_result",
          "data": {
            "text/plain": [
              "'====hi===='"
            ]
          },
          "metadata": {
            "tags": []
          },
          "execution_count": 29
        }
      ]
    },
    {
      "cell_type": "code",
      "metadata": {
        "id": "tqkBsX7mOVNa",
        "colab_type": "code",
        "colab": {},
        "outputId": "4c4d3327-7b84-4a1d-8302-371a3df75cbc"
      },
      "source": [
        "f'{\"hi\":@^10}'"
      ],
      "execution_count": null,
      "outputs": [
        {
          "output_type": "execute_result",
          "data": {
            "text/plain": [
              "'@@@@hi@@@@'"
            ]
          },
          "metadata": {
            "tags": []
          },
          "execution_count": 30
        }
      ]
    },
    {
      "cell_type": "code",
      "metadata": {
        "id": "9HknUilbOVNc",
        "colab_type": "code",
        "colab": {},
        "outputId": "5bd23af1-82ff-46a6-b74d-b82713a0da0a"
      },
      "source": [
        "y = 3.42134234\n",
        "f'{y:0.4f}'"
      ],
      "execution_count": null,
      "outputs": [
        {
          "output_type": "execute_result",
          "data": {
            "text/plain": [
              "'3.4213'"
            ]
          },
          "metadata": {
            "tags": []
          },
          "execution_count": 32
        }
      ]
    },
    {
      "cell_type": "code",
      "metadata": {
        "id": "7bjgy7FYOVNe",
        "colab_type": "code",
        "colab": {},
        "outputId": "d0c3a1f1-022c-4779-9a60-0b87150f00de"
      },
      "source": [
        "y = 3.42134234\n",
        "f'{y:10.4f}'"
      ],
      "execution_count": null,
      "outputs": [
        {
          "output_type": "execute_result",
          "data": {
            "text/plain": [
              "'    3.4213'"
            ]
          },
          "metadata": {
            "tags": []
          },
          "execution_count": 33
        }
      ]
    },
    {
      "cell_type": "code",
      "metadata": {
        "id": "bCXSPuM1OVNh",
        "colab_type": "code",
        "colab": {},
        "outputId": "43276e5f-4ba2-481c-b35e-36e6332d451c"
      },
      "source": [
        "f'{{and}}'"
      ],
      "execution_count": null,
      "outputs": [
        {
          "output_type": "execute_result",
          "data": {
            "text/plain": [
              "'{and}'"
            ]
          },
          "metadata": {
            "tags": []
          },
          "execution_count": 36
        }
      ]
    },
    {
      "cell_type": "markdown",
      "metadata": {
        "id": "oWm6XqWyOVNl",
        "colab_type": "text"
      },
      "source": [
        "## 문자열 관련 함수"
      ]
    },
    {
      "cell_type": "markdown",
      "metadata": {
        "id": "OaOgAPqYOVNl",
        "colab_type": "text"
      },
      "source": [
        "### 문자 개수 세기(count)"
      ]
    },
    {
      "cell_type": "code",
      "metadata": {
        "id": "cmvpqYyiOVNm",
        "colab_type": "code",
        "colab": {},
        "outputId": "236f6ba1-6991-4fc2-a40b-8b40e3299849"
      },
      "source": [
        "a = \"hobby\"\n",
        "a.count('b')"
      ],
      "execution_count": null,
      "outputs": [
        {
          "output_type": "execute_result",
          "data": {
            "text/plain": [
              "2"
            ]
          },
          "metadata": {
            "tags": []
          },
          "execution_count": 37
        }
      ]
    },
    {
      "cell_type": "markdown",
      "metadata": {
        "id": "aoKJvELQOVNp",
        "colab_type": "text"
      },
      "source": [
        "### 위치 알려주기 (find)"
      ]
    },
    {
      "cell_type": "code",
      "metadata": {
        "id": "4fKyNVdrOVNp",
        "colab_type": "code",
        "colab": {},
        "outputId": "7986a5ea-521d-4717-fcbf-d6ab7d37ad85"
      },
      "source": [
        "a = \"Python is the best choice\"\n",
        "a.find('b')"
      ],
      "execution_count": null,
      "outputs": [
        {
          "output_type": "execute_result",
          "data": {
            "text/plain": [
              "14"
            ]
          },
          "metadata": {
            "tags": []
          },
          "execution_count": 38
        }
      ]
    },
    {
      "cell_type": "code",
      "metadata": {
        "id": "bXp71-CnOVNr",
        "colab_type": "code",
        "colab": {},
        "outputId": "08ba4140-03ae-4034-f8d8-e4468f150be2"
      },
      "source": [
        "a = \"Python is the best choice\"\n",
        "a.find('k')"
      ],
      "execution_count": null,
      "outputs": [
        {
          "output_type": "execute_result",
          "data": {
            "text/plain": [
              "-1"
            ]
          },
          "metadata": {
            "tags": []
          },
          "execution_count": 39
        }
      ]
    },
    {
      "cell_type": "markdown",
      "metadata": {
        "id": "yQIoZHFvOVNu",
        "colab_type": "text"
      },
      "source": [
        "### 위치 알려주기 (index)"
      ]
    },
    {
      "cell_type": "code",
      "metadata": {
        "id": "aNXugr4qOVNu",
        "colab_type": "code",
        "colab": {},
        "outputId": "78da050e-d183-413b-eb4e-d154d74b6d29"
      },
      "source": [
        "a = \"Life is too short\"\n",
        "a.index('t')"
      ],
      "execution_count": null,
      "outputs": [
        {
          "output_type": "execute_result",
          "data": {
            "text/plain": [
              "8"
            ]
          },
          "metadata": {
            "tags": []
          },
          "execution_count": 41
        }
      ]
    },
    {
      "cell_type": "code",
      "metadata": {
        "id": "7p715bcBOVNw",
        "colab_type": "code",
        "colab": {},
        "outputId": "5bce03ab-207c-4134-84cb-c8d264b17dcf"
      },
      "source": [
        "a.index('k')"
      ],
      "execution_count": null,
      "outputs": [
        {
          "output_type": "error",
          "ename": "ValueError",
          "evalue": "substring not found",
          "traceback": [
            "\u001b[1;31m---------------------------------------------------------------------------\u001b[0m",
            "\u001b[1;31mValueError\u001b[0m                                Traceback (most recent call last)",
            "\u001b[1;32m<ipython-input-42-cb6c8ec35229>\u001b[0m in \u001b[0;36m<module>\u001b[1;34m\u001b[0m\n\u001b[1;32m----> 1\u001b[1;33m \u001b[0ma\u001b[0m\u001b[1;33m.\u001b[0m\u001b[0mindex\u001b[0m\u001b[1;33m(\u001b[0m\u001b[1;34m'k'\u001b[0m\u001b[1;33m)\u001b[0m\u001b[1;33m\u001b[0m\u001b[1;33m\u001b[0m\u001b[0m\n\u001b[0m",
            "\u001b[1;31mValueError\u001b[0m: substring not found"
          ]
        }
      ]
    },
    {
      "cell_type": "markdown",
      "metadata": {
        "id": "P1JWDcGGOVNz",
        "colab_type": "text"
      },
      "source": [
        "### 문자열 삽입(join)"
      ]
    },
    {
      "cell_type": "code",
      "metadata": {
        "id": "ATO3uzQQOVN0",
        "colab_type": "code",
        "colab": {},
        "outputId": "245910c6-6691-4871-a100-f29743e76cce"
      },
      "source": [
        "\",\".join('abcd')"
      ],
      "execution_count": null,
      "outputs": [
        {
          "output_type": "execute_result",
          "data": {
            "text/plain": [
              "'a,b,c,d'"
            ]
          },
          "metadata": {
            "tags": []
          },
          "execution_count": 43
        }
      ]
    },
    {
      "cell_type": "code",
      "metadata": {
        "id": "94n8SCwhOVN2",
        "colab_type": "code",
        "colab": {},
        "outputId": "3fb081b0-5129-4900-f333-0ab886c87dc6"
      },
      "source": [
        "\",\".join(['a','b','c','d'])"
      ],
      "execution_count": null,
      "outputs": [
        {
          "output_type": "execute_result",
          "data": {
            "text/plain": [
              "'a,b,c,d'"
            ]
          },
          "metadata": {
            "tags": []
          },
          "execution_count": 44
        }
      ]
    },
    {
      "cell_type": "markdown",
      "metadata": {
        "id": "haWYa1MDOVN5",
        "colab_type": "text"
      },
      "source": [
        "### 소문자를 대문자로 바꾸기(upper)"
      ]
    },
    {
      "cell_type": "code",
      "metadata": {
        "id": "ltCZ-8T9OVN5",
        "colab_type": "code",
        "colab": {},
        "outputId": "042f3725-5d75-4ed2-a5d1-ee22f0566627"
      },
      "source": [
        "a = 'hi'\n",
        "a.upper()"
      ],
      "execution_count": null,
      "outputs": [
        {
          "output_type": "execute_result",
          "data": {
            "text/plain": [
              "'HI'"
            ]
          },
          "metadata": {
            "tags": []
          },
          "execution_count": 45
        }
      ]
    },
    {
      "cell_type": "markdown",
      "metadata": {
        "id": "d2762UIJOVN7",
        "colab_type": "text"
      },
      "source": [
        "### 대문자를 소문자로 바꾸기(lower)"
      ]
    },
    {
      "cell_type": "code",
      "metadata": {
        "id": "3h9-NFYKOVN7",
        "colab_type": "code",
        "colab": {},
        "outputId": "d69309b4-dc83-4430-8eba-32dd609128db"
      },
      "source": [
        "a = 'HI'\n",
        "a.lower()"
      ],
      "execution_count": null,
      "outputs": [
        {
          "output_type": "execute_result",
          "data": {
            "text/plain": [
              "'hi'"
            ]
          },
          "metadata": {
            "tags": []
          },
          "execution_count": 46
        }
      ]
    },
    {
      "cell_type": "markdown",
      "metadata": {
        "id": "2sb3XP3UOVN9",
        "colab_type": "text"
      },
      "source": [
        "### 왼쪽 공백 지우기(lstrip)"
      ]
    },
    {
      "cell_type": "code",
      "metadata": {
        "id": "Qp7eHjO5OVN-",
        "colab_type": "code",
        "colab": {},
        "outputId": "54edb17b-eeb0-472b-ce2b-c238a608f570"
      },
      "source": [
        "a = \" hi \"\n",
        "a.lstrip()"
      ],
      "execution_count": null,
      "outputs": [
        {
          "output_type": "execute_result",
          "data": {
            "text/plain": [
              "'hi '"
            ]
          },
          "metadata": {
            "tags": []
          },
          "execution_count": 47
        }
      ]
    },
    {
      "cell_type": "code",
      "metadata": {
        "id": "xHAyHoRnOVOA",
        "colab_type": "code",
        "colab": {},
        "outputId": "5081a545-7b29-4643-afc0-9751f6d9def1"
      },
      "source": [
        "a = \" hi \"\n",
        "a.rstrip()"
      ],
      "execution_count": null,
      "outputs": [
        {
          "output_type": "execute_result",
          "data": {
            "text/plain": [
              "' hi'"
            ]
          },
          "metadata": {
            "tags": []
          },
          "execution_count": 48
        }
      ]
    },
    {
      "cell_type": "code",
      "metadata": {
        "id": "2-aucNHGOVOB",
        "colab_type": "code",
        "colab": {},
        "outputId": "d350aedb-aec4-4a69-e180-6284978d693b"
      },
      "source": [
        "a = \" hi \"\n",
        "a.strip()"
      ],
      "execution_count": null,
      "outputs": [
        {
          "output_type": "execute_result",
          "data": {
            "text/plain": [
              "'hi'"
            ]
          },
          "metadata": {
            "tags": []
          },
          "execution_count": 49
        }
      ]
    },
    {
      "cell_type": "markdown",
      "metadata": {
        "id": "FErqF2OlOVOE",
        "colab_type": "text"
      },
      "source": [
        "### 문자열 바꾸기(replace)"
      ]
    },
    {
      "cell_type": "code",
      "metadata": {
        "id": "Mch6bOzcOVOE",
        "colab_type": "code",
        "colab": {},
        "outputId": "5d986113-0e98-4776-f216-3804079f09c9"
      },
      "source": [
        "a = \"Life is too short\"\n",
        "a.replace(\"Life\", 'Your leg')"
      ],
      "execution_count": null,
      "outputs": [
        {
          "output_type": "execute_result",
          "data": {
            "text/plain": [
              "'Your leg is too short'"
            ]
          },
          "metadata": {
            "tags": []
          },
          "execution_count": 51
        }
      ]
    },
    {
      "cell_type": "markdown",
      "metadata": {
        "id": "CZr3_EICOVOH",
        "colab_type": "text"
      },
      "source": [
        "### 문자열 나누기(split)"
      ]
    },
    {
      "cell_type": "code",
      "metadata": {
        "id": "JYbxS3MUOVOI",
        "colab_type": "code",
        "colab": {
          "base_uri": "https://localhost:8080/",
          "height": 35
        },
        "outputId": "96a28e35-8ea3-4213-fc69-bab5e5dd4aba"
      },
      "source": [
        "a = \"Life is too short\"\n",
        "a.split() # 공백을 기준으로 문자열을 나눔"
      ],
      "execution_count": 1,
      "outputs": [
        {
          "output_type": "execute_result",
          "data": {
            "text/plain": [
              "['Life', 'is', 'too', 'short']"
            ]
          },
          "metadata": {
            "tags": []
          },
          "execution_count": 1
        }
      ]
    },
    {
      "cell_type": "code",
      "metadata": {
        "id": "EizeQk71OVOL",
        "colab_type": "code",
        "colab": {
          "base_uri": "https://localhost:8080/",
          "height": 35
        },
        "outputId": "081f54ba-ab7e-47d7-e41c-76717d8a0b85"
      },
      "source": [
        "b = \"a:b:c:d\"\n",
        "b.split(':') # :기호를 기준으로 문자열을 나눔"
      ],
      "execution_count": 2,
      "outputs": [
        {
          "output_type": "execute_result",
          "data": {
            "text/plain": [
              "['a', 'b', 'c', 'd']"
            ]
          },
          "metadata": {
            "tags": []
          },
          "execution_count": 2
        }
      ]
    },
    {
      "cell_type": "markdown",
      "metadata": {
        "id": "8jPwEM9-OVOP",
        "colab_type": "text"
      },
      "source": [
        "## 리스트 자료형"
      ]
    },
    {
      "cell_type": "markdown",
      "metadata": {
        "id": "KfVuut-YP1sw",
        "colab_type": "text"
      },
      "source": [
        "리스트 =[요소1,요소2,.....]"
      ]
    },
    {
      "cell_type": "code",
      "metadata": {
        "id": "5DxlwTAUOVOP",
        "colab_type": "code",
        "colab": {}
      },
      "source": [
        "odd = {1,3,5,7,9}"
      ],
      "execution_count": null,
      "outputs": []
    },
    {
      "cell_type": "code",
      "metadata": {
        "id": "RFmAbbJ4OVOR",
        "colab_type": "code",
        "colab": {}
      },
      "source": [
        "a = []"
      ],
      "execution_count": null,
      "outputs": []
    },
    {
      "cell_type": "code",
      "metadata": {
        "id": "z08P0RzOOVOU",
        "colab_type": "code",
        "colab": {}
      },
      "source": [
        "b = [1,2,3]"
      ],
      "execution_count": null,
      "outputs": []
    },
    {
      "cell_type": "code",
      "metadata": {
        "id": "10GVBnyjOVOX",
        "colab_type": "code",
        "colab": {}
      },
      "source": [
        "c = ['Life', 'is', 'too', 'short']"
      ],
      "execution_count": null,
      "outputs": []
    },
    {
      "cell_type": "code",
      "metadata": {
        "id": "pAxsCzT4OVOa",
        "colab_type": "code",
        "colab": {}
      },
      "source": [
        "d = [1, 2, 'Life', 'is']"
      ],
      "execution_count": null,
      "outputs": []
    },
    {
      "cell_type": "code",
      "metadata": {
        "id": "RlLyDGDbOVOd",
        "colab_type": "code",
        "colab": {}
      },
      "source": [
        "e = [1, 2, ['Life', 'is']]"
      ],
      "execution_count": null,
      "outputs": []
    },
    {
      "cell_type": "markdown",
      "metadata": {
        "id": "peAzF7BWOVOf",
        "colab_type": "text"
      },
      "source": [
        "### 리스트 인덱싱"
      ]
    },
    {
      "cell_type": "code",
      "metadata": {
        "id": "XUuo78K5OVOf",
        "colab_type": "code",
        "colab": {},
        "outputId": "b83ac93f-6a97-4f28-be52-d99b71f1fd79"
      },
      "source": [
        "a = [1, 2, 3]\n",
        "a"
      ],
      "execution_count": null,
      "outputs": [
        {
          "output_type": "execute_result",
          "data": {
            "text/plain": [
              "[1, 2, 3]"
            ]
          },
          "metadata": {
            "tags": []
          },
          "execution_count": 62
        }
      ]
    },
    {
      "cell_type": "code",
      "metadata": {
        "id": "aQaME99COVOi",
        "colab_type": "code",
        "colab": {},
        "outputId": "d899bcf4-e7eb-4621-f602-6f273df591ed"
      },
      "source": [
        "a[0]"
      ],
      "execution_count": null,
      "outputs": [
        {
          "output_type": "execute_result",
          "data": {
            "text/plain": [
              "1"
            ]
          },
          "metadata": {
            "tags": []
          },
          "execution_count": 63
        }
      ]
    },
    {
      "cell_type": "code",
      "metadata": {
        "id": "DUm43NsfOVOm",
        "colab_type": "code",
        "colab": {},
        "outputId": "db2f0c30-0c37-4bfb-f6a4-c3905db7e1a8"
      },
      "source": [
        "a[2]"
      ],
      "execution_count": null,
      "outputs": [
        {
          "output_type": "execute_result",
          "data": {
            "text/plain": [
              "3"
            ]
          },
          "metadata": {
            "tags": []
          },
          "execution_count": 64
        }
      ]
    },
    {
      "cell_type": "code",
      "metadata": {
        "id": "UCJMY2MnOVOo",
        "colab_type": "code",
        "colab": {},
        "outputId": "570307d9-114c-4dcd-fe48-55c38b91a7a9"
      },
      "source": [
        "a[0] + a[2]"
      ],
      "execution_count": null,
      "outputs": [
        {
          "output_type": "execute_result",
          "data": {
            "text/plain": [
              "4"
            ]
          },
          "metadata": {
            "tags": []
          },
          "execution_count": 65
        }
      ]
    },
    {
      "cell_type": "code",
      "metadata": {
        "id": "SzRk1z3pOVOs",
        "colab_type": "code",
        "colab": {},
        "outputId": "9bebbf3a-c5c2-4184-91bc-3d3ab6fcf806"
      },
      "source": [
        "a[-1]"
      ],
      "execution_count": null,
      "outputs": [
        {
          "output_type": "execute_result",
          "data": {
            "text/plain": [
              "3"
            ]
          },
          "metadata": {
            "tags": []
          },
          "execution_count": 66
        }
      ]
    },
    {
      "cell_type": "code",
      "metadata": {
        "id": "I-ySsAKHOVOu",
        "colab_type": "code",
        "colab": {}
      },
      "source": [
        "a = [1,2,3,['a','b','c']]"
      ],
      "execution_count": null,
      "outputs": []
    },
    {
      "cell_type": "code",
      "metadata": {
        "id": "cjgs86DpOVOx",
        "colab_type": "code",
        "colab": {},
        "outputId": "26564dfa-097f-4424-f949-a7a1303a9737"
      },
      "source": [
        "a[0]"
      ],
      "execution_count": null,
      "outputs": [
        {
          "output_type": "execute_result",
          "data": {
            "text/plain": [
              "1"
            ]
          },
          "metadata": {
            "tags": []
          },
          "execution_count": 68
        }
      ]
    },
    {
      "cell_type": "code",
      "metadata": {
        "id": "Zoh0fq2hOVOz",
        "colab_type": "code",
        "colab": {},
        "outputId": "76b650be-1b4f-4244-dc1e-c0a447a8e53a"
      },
      "source": [
        "a[-1]"
      ],
      "execution_count": null,
      "outputs": [
        {
          "output_type": "execute_result",
          "data": {
            "text/plain": [
              "['a', 'b', 'c']"
            ]
          },
          "metadata": {
            "tags": []
          },
          "execution_count": 69
        }
      ]
    },
    {
      "cell_type": "code",
      "metadata": {
        "id": "hmgdTrXZOVO1",
        "colab_type": "code",
        "colab": {},
        "outputId": "18c8cb38-8e1f-45ee-fa74-034901caf1c3"
      },
      "source": [
        "a[-1][0]"
      ],
      "execution_count": null,
      "outputs": [
        {
          "output_type": "execute_result",
          "data": {
            "text/plain": [
              "'a'"
            ]
          },
          "metadata": {
            "tags": []
          },
          "execution_count": 70
        }
      ]
    },
    {
      "cell_type": "code",
      "metadata": {
        "id": "lcKf6QXxOVO3",
        "colab_type": "code",
        "colab": {},
        "outputId": "ae910adc-c96a-4abe-cc80-c46b30dab12f"
      },
      "source": [
        "a[-1][1]"
      ],
      "execution_count": null,
      "outputs": [
        {
          "output_type": "execute_result",
          "data": {
            "text/plain": [
              "'b'"
            ]
          },
          "metadata": {
            "tags": []
          },
          "execution_count": 71
        }
      ]
    },
    {
      "cell_type": "code",
      "metadata": {
        "id": "T2iobpS2OVO4",
        "colab_type": "code",
        "colab": {},
        "outputId": "5d49de53-ff26-4095-ee8b-7cfb527c2660"
      },
      "source": [
        "a[3][2]"
      ],
      "execution_count": null,
      "outputs": [
        {
          "output_type": "execute_result",
          "data": {
            "text/plain": [
              "'c'"
            ]
          },
          "metadata": {
            "tags": []
          },
          "execution_count": 72
        }
      ]
    },
    {
      "cell_type": "code",
      "metadata": {
        "id": "9Dw9_kXMOVO6",
        "colab_type": "code",
        "colab": {}
      },
      "source": [
        "a=[1,2,['a','b',['Life','is']]] #삼중 리스트에서 인덱싱하기"
      ],
      "execution_count": 3,
      "outputs": []
    },
    {
      "cell_type": "code",
      "metadata": {
        "id": "nkJLG9xzOVO8",
        "colab_type": "code",
        "colab": {},
        "outputId": "c796f35d-45c5-48c2-84fb-affb7ff1a7c6"
      },
      "source": [
        "a[2][2][0]"
      ],
      "execution_count": null,
      "outputs": [
        {
          "output_type": "execute_result",
          "data": {
            "text/plain": [
              "'Life'"
            ]
          },
          "metadata": {
            "tags": []
          },
          "execution_count": 74
        }
      ]
    },
    {
      "cell_type": "code",
      "metadata": {
        "id": "hgqOI_cTOVO_",
        "colab_type": "code",
        "colab": {},
        "outputId": "721c317a-ba1a-4eb8-8801-b8f6b99659a8"
      },
      "source": [
        "a[-1][-1][0]"
      ],
      "execution_count": null,
      "outputs": [
        {
          "output_type": "execute_result",
          "data": {
            "text/plain": [
              "'Life'"
            ]
          },
          "metadata": {
            "tags": []
          },
          "execution_count": 75
        }
      ]
    },
    {
      "cell_type": "code",
      "metadata": {
        "id": "OfRxZvI6OVPB",
        "colab_type": "code",
        "colab": {}
      },
      "source": [
        "a = [1,2,3,4,5]"
      ],
      "execution_count": null,
      "outputs": []
    },
    {
      "cell_type": "code",
      "metadata": {
        "id": "Bh5XFnIpOVPC",
        "colab_type": "code",
        "colab": {},
        "outputId": "2dcde1e7-85a5-4c48-a06a-3f7e045e798f"
      },
      "source": [
        "a[0:2]"
      ],
      "execution_count": null,
      "outputs": [
        {
          "output_type": "execute_result",
          "data": {
            "text/plain": [
              "[1, 2]"
            ]
          },
          "metadata": {
            "tags": []
          },
          "execution_count": 76
        }
      ]
    },
    {
      "cell_type": "code",
      "metadata": {
        "id": "OD6-eGTpOVPE",
        "colab_type": "code",
        "colab": {},
        "outputId": "2fc5cc61-3d41-4a40-e539-b024fe7ff01f"
      },
      "source": [
        "a = \"12345\"\n",
        "a[0:2]"
      ],
      "execution_count": null,
      "outputs": [
        {
          "output_type": "execute_result",
          "data": {
            "text/plain": [
              "'12'"
            ]
          },
          "metadata": {
            "tags": []
          },
          "execution_count": 77
        }
      ]
    },
    {
      "cell_type": "code",
      "metadata": {
        "id": "Yh1iHRHIOVPG",
        "colab_type": "code",
        "colab": {},
        "outputId": "84e7b6ca-d124-49e4-bbbb-c70f0da67fa4"
      },
      "source": [
        "a = [1,2,3,4,5]\n",
        "a[:2]"
      ],
      "execution_count": null,
      "outputs": [
        {
          "output_type": "execute_result",
          "data": {
            "text/plain": [
              "[1, 2]"
            ]
          },
          "metadata": {
            "tags": []
          },
          "execution_count": 78
        }
      ]
    },
    {
      "cell_type": "code",
      "metadata": {
        "id": "2U2iy-S-OVPH",
        "colab_type": "code",
        "colab": {},
        "outputId": "61931819-58d6-4a75-b21e-5f2558e9f1e5"
      },
      "source": [
        "a[2:]"
      ],
      "execution_count": null,
      "outputs": [
        {
          "output_type": "execute_result",
          "data": {
            "text/plain": [
              "[3, 4, 5]"
            ]
          },
          "metadata": {
            "tags": []
          },
          "execution_count": 79
        }
      ]
    },
    {
      "cell_type": "code",
      "metadata": {
        "id": "lq9AvE7IOVPJ",
        "colab_type": "code",
        "colab": {}
      },
      "source": [
        "a=[1,2,3,['a','b','c'],4,5]"
      ],
      "execution_count": null,
      "outputs": []
    },
    {
      "cell_type": "code",
      "metadata": {
        "id": "Fg6m4PwnOVPK",
        "colab_type": "code",
        "colab": {},
        "outputId": "d2a87111-48db-4e0e-e9f5-aeb109c7537d"
      },
      "source": [
        "a[2:5]"
      ],
      "execution_count": null,
      "outputs": [
        {
          "output_type": "execute_result",
          "data": {
            "text/plain": [
              "[3, ['a', 'b', 'c'], 4]"
            ]
          },
          "metadata": {
            "tags": []
          },
          "execution_count": 82
        }
      ]
    },
    {
      "cell_type": "code",
      "metadata": {
        "id": "csOLtxQ8OVPQ",
        "colab_type": "code",
        "colab": {},
        "outputId": "475988d5-1ef8-4256-841a-695e25b665ed"
      },
      "source": [
        "a[3][:2]"
      ],
      "execution_count": null,
      "outputs": [
        {
          "output_type": "execute_result",
          "data": {
            "text/plain": [
              "['a', 'b']"
            ]
          },
          "metadata": {
            "tags": []
          },
          "execution_count": 83
        }
      ]
    },
    {
      "cell_type": "markdown",
      "metadata": {
        "id": "gOqZ8xWVOVPV",
        "colab_type": "text"
      },
      "source": [
        "## 리스트 연산"
      ]
    },
    {
      "cell_type": "markdown",
      "metadata": {
        "id": "fd2bmgKhOVPV",
        "colab_type": "text"
      },
      "source": [
        "### 리스트 더하기(+)"
      ]
    },
    {
      "cell_type": "code",
      "metadata": {
        "id": "qobCxLhKOVPV",
        "colab_type": "code",
        "colab": {
          "base_uri": "https://localhost:8080/",
          "height": 35
        },
        "outputId": "d3e9c85c-a125-40f9-996b-087b573a7cb6"
      },
      "source": [
        "a = [1,2,3]\n",
        "b = [4,5,6]\n",
        "a + b"
      ],
      "execution_count": 4,
      "outputs": [
        {
          "output_type": "execute_result",
          "data": {
            "text/plain": [
              "[1, 2, 3, 4, 5, 6]"
            ]
          },
          "metadata": {
            "tags": []
          },
          "execution_count": 4
        }
      ]
    },
    {
      "cell_type": "markdown",
      "metadata": {
        "id": "n54e-ixBOVPX",
        "colab_type": "text"
      },
      "source": [
        "### 리스트 반복하기(*)"
      ]
    },
    {
      "cell_type": "code",
      "metadata": {
        "id": "BkUsH9sHOVPY",
        "colab_type": "code",
        "colab": {
          "base_uri": "https://localhost:8080/",
          "height": 35
        },
        "outputId": "c35079b8-1f10-402a-afa6-bf45435450fa"
      },
      "source": [
        "a=[1,2,3]\n",
        "a*3"
      ],
      "execution_count": 5,
      "outputs": [
        {
          "output_type": "execute_result",
          "data": {
            "text/plain": [
              "[1, 2, 3, 1, 2, 3, 1, 2, 3]"
            ]
          },
          "metadata": {
            "tags": []
          },
          "execution_count": 5
        }
      ]
    },
    {
      "cell_type": "markdown",
      "metadata": {
        "id": "RQItB46_OVPa",
        "colab_type": "text"
      },
      "source": [
        "### 리스트 길이 구하기"
      ]
    },
    {
      "cell_type": "code",
      "metadata": {
        "id": "a9j8U5n7OVPa",
        "colab_type": "code",
        "colab": {
          "base_uri": "https://localhost:8080/",
          "height": 35
        },
        "outputId": "65528c10-715b-432c-b95e-25cc34ce9331"
      },
      "source": [
        "a = [1,2,3]\n",
        "len(a)"
      ],
      "execution_count": 6,
      "outputs": [
        {
          "output_type": "execute_result",
          "data": {
            "text/plain": [
              "3"
            ]
          },
          "metadata": {
            "tags": []
          },
          "execution_count": 6
        }
      ]
    },
    {
      "cell_type": "code",
      "metadata": {
        "id": "Fd8ZtWu2OVPc",
        "colab_type": "code",
        "colab": {
          "base_uri": "https://localhost:8080/",
          "height": 226
        },
        "outputId": "29908698-b0ce-4934-bbcf-8e9a6b03f36b"
      },
      "source": [
        "a=[1,2,3]\n",
        "a[2]+\"hi\" #초보자가 실수하기 쉬운 리스트 연산 오류\n",
        "\n",
        "#3은 정수이고 hi는 문자열이기 때문에 오류가 발생한다"
      ],
      "execution_count": 8,
      "outputs": [
        {
          "output_type": "error",
          "ename": "TypeError",
          "evalue": "ignored",
          "traceback": [
            "\u001b[0;31m---------------------------------------------------------------------------\u001b[0m",
            "\u001b[0;31mTypeError\u001b[0m                                 Traceback (most recent call last)",
            "\u001b[0;32m<ipython-input-8-bfb674995da4>\u001b[0m in \u001b[0;36m<module>\u001b[0;34m()\u001b[0m\n\u001b[1;32m      1\u001b[0m \u001b[0ma\u001b[0m\u001b[0;34m=\u001b[0m\u001b[0;34m[\u001b[0m\u001b[0;36m1\u001b[0m\u001b[0;34m,\u001b[0m\u001b[0;36m2\u001b[0m\u001b[0;34m,\u001b[0m\u001b[0;36m3\u001b[0m\u001b[0;34m]\u001b[0m\u001b[0;34m\u001b[0m\u001b[0;34m\u001b[0m\u001b[0m\n\u001b[0;32m----> 2\u001b[0;31m \u001b[0ma\u001b[0m\u001b[0;34m[\u001b[0m\u001b[0;36m2\u001b[0m\u001b[0;34m]\u001b[0m\u001b[0;34m+\u001b[0m\u001b[0;34m\"hi\"\u001b[0m \u001b[0;31m#초보자가 실수하기 쉬운 리스트 연산 오류\u001b[0m\u001b[0;34m\u001b[0m\u001b[0;34m\u001b[0m\u001b[0m\n\u001b[0m\u001b[1;32m      3\u001b[0m \u001b[0;34m\u001b[0m\u001b[0m\n\u001b[1;32m      4\u001b[0m \u001b[0;31m#3은 정수이고 hi는 문자열이기 때문에 오류가 발생한다\u001b[0m\u001b[0;34m\u001b[0m\u001b[0;34m\u001b[0m\u001b[0;34m\u001b[0m\u001b[0m\n",
            "\u001b[0;31mTypeError\u001b[0m: unsupported operand type(s) for +: 'int' and 'str'"
          ]
        }
      ]
    },
    {
      "cell_type": "code",
      "metadata": {
        "id": "CKepRbHTOVPf",
        "colab_type": "code",
        "colab": {}
      },
      "source": [
        "a=[1,2,3]\n",
        "str(a[2])+\"hi\""
      ],
      "execution_count": null,
      "outputs": []
    },
    {
      "cell_type": "markdown",
      "metadata": {
        "id": "9_l_0CNVOVPj",
        "colab_type": "text"
      },
      "source": [
        "## 리스트의 수정과 삭제"
      ]
    },
    {
      "cell_type": "markdown",
      "metadata": {
        "id": "b0dMcTq6OVPj",
        "colab_type": "text"
      },
      "source": [
        "### 리스트에서 값 수정하기"
      ]
    },
    {
      "cell_type": "code",
      "metadata": {
        "id": "wEtRosLAOVPk",
        "colab_type": "code",
        "colab": {}
      },
      "source": [
        "a = [1,2,3]\n",
        "a[2] = 4"
      ],
      "execution_count": null,
      "outputs": []
    },
    {
      "cell_type": "code",
      "metadata": {
        "id": "FnDQtk7OOVPm",
        "colab_type": "code",
        "colab": {},
        "outputId": "ff778c9f-9a14-48b8-ce78-9ce50279f8f9"
      },
      "source": [
        "a"
      ],
      "execution_count": null,
      "outputs": [
        {
          "output_type": "execute_result",
          "data": {
            "text/plain": [
              "[1, 2, 4]"
            ]
          },
          "metadata": {
            "tags": []
          },
          "execution_count": 93
        }
      ]
    },
    {
      "cell_type": "code",
      "metadata": {
        "id": "J4-MD7cKOVPo",
        "colab_type": "code",
        "colab": {},
        "outputId": "b3b41695-beb0-4a5f-a750-2eae4ab64eac"
      },
      "source": [
        "a = [1,2,3]\n",
        "del a[1]\n",
        "a\n",
        "\n",
        "#del 객체 \n",
        "#객체란 파이썬에서 사용되는 모든 자료형을 말한다"
      ],
      "execution_count": null,
      "outputs": [
        {
          "output_type": "execute_result",
          "data": {
            "text/plain": [
              "[1, 3]"
            ]
          },
          "metadata": {
            "tags": []
          },
          "execution_count": 95
        }
      ]
    },
    {
      "cell_type": "code",
      "metadata": {
        "id": "5bCMMiCjOVPq",
        "colab_type": "code",
        "colab": {},
        "outputId": "6116525c-8e3b-4ac2-c7af-4b603cb56894"
      },
      "source": [
        "a = [1,2,3,4,5]\n",
        "del a[2:]\n",
        "a"
      ],
      "execution_count": null,
      "outputs": [
        {
          "output_type": "execute_result",
          "data": {
            "text/plain": [
              "[1, 2]"
            ]
          },
          "metadata": {
            "tags": []
          },
          "execution_count": 96
        }
      ]
    },
    {
      "cell_type": "markdown",
      "metadata": {
        "id": "cS8my4RQOVPt",
        "colab_type": "text"
      },
      "source": [
        "## 리스트 관련 함수"
      ]
    },
    {
      "cell_type": "markdown",
      "metadata": {
        "id": "3pt8iJxJOVPt",
        "colab_type": "text"
      },
      "source": [
        "### 리스트에 요소 추가(append)"
      ]
    },
    {
      "cell_type": "code",
      "metadata": {
        "id": "VugFcqotOVPu",
        "colab_type": "code",
        "colab": {}
      },
      "source": [
        "a = [1,2,3]\n",
        "a.append(4)"
      ],
      "execution_count": null,
      "outputs": []
    },
    {
      "cell_type": "code",
      "metadata": {
        "id": "iadACwy3OVPw",
        "colab_type": "code",
        "colab": {},
        "outputId": "05b4f880-fffc-4506-a933-d5ebca7337d3"
      },
      "source": [
        "a"
      ],
      "execution_count": null,
      "outputs": [
        {
          "output_type": "execute_result",
          "data": {
            "text/plain": [
              "[1, 2, 3, 4]"
            ]
          },
          "metadata": {
            "tags": []
          },
          "execution_count": 98
        }
      ]
    },
    {
      "cell_type": "code",
      "metadata": {
        "id": "fWvVaqTmOVP0",
        "colab_type": "code",
        "colab": {}
      },
      "source": [
        "a.append([5,6])"
      ],
      "execution_count": null,
      "outputs": []
    },
    {
      "cell_type": "code",
      "metadata": {
        "id": "xgaQzMXeOVP1",
        "colab_type": "code",
        "colab": {},
        "outputId": "56e60113-570a-47ce-d8b0-9197f56945dc"
      },
      "source": [
        "a"
      ],
      "execution_count": null,
      "outputs": [
        {
          "output_type": "execute_result",
          "data": {
            "text/plain": [
              "[1, 2, 3, 4, [5, 6]]"
            ]
          },
          "metadata": {
            "tags": []
          },
          "execution_count": 100
        }
      ]
    },
    {
      "cell_type": "markdown",
      "metadata": {
        "id": "PD77n_e_OVP3",
        "colab_type": "text"
      },
      "source": [
        "### 리스트 정렬(sort)"
      ]
    },
    {
      "cell_type": "code",
      "metadata": {
        "id": "02sTEQJkOVP3",
        "colab_type": "code",
        "colab": {}
      },
      "source": [
        "a = [1,4,3,2]\n",
        "\n",
        "# 리스트 요소를 순거대로 정렬해 준다"
      ],
      "execution_count": 9,
      "outputs": []
    },
    {
      "cell_type": "code",
      "metadata": {
        "id": "g8O6jTx2OVP5",
        "colab_type": "code",
        "colab": {}
      },
      "source": [
        "a.sort()"
      ],
      "execution_count": null,
      "outputs": []
    },
    {
      "cell_type": "code",
      "metadata": {
        "id": "UFcp7pgROVP6",
        "colab_type": "code",
        "colab": {},
        "outputId": "ccd72010-5985-479e-846e-6681a0c312de"
      },
      "source": [
        "a"
      ],
      "execution_count": null,
      "outputs": [
        {
          "output_type": "execute_result",
          "data": {
            "text/plain": [
              "[1, 2, 3, 4]"
            ]
          },
          "metadata": {
            "tags": []
          },
          "execution_count": 103
        }
      ]
    },
    {
      "cell_type": "code",
      "metadata": {
        "id": "hrv-LWkDOVP8",
        "colab_type": "code",
        "colab": {}
      },
      "source": [
        "a = ['a','c','b']"
      ],
      "execution_count": null,
      "outputs": []
    },
    {
      "cell_type": "code",
      "metadata": {
        "id": "WiNM54Q6OVP9",
        "colab_type": "code",
        "colab": {}
      },
      "source": [
        "a.sort()"
      ],
      "execution_count": null,
      "outputs": []
    },
    {
      "cell_type": "code",
      "metadata": {
        "id": "P4HjxaUaOVP-",
        "colab_type": "code",
        "colab": {},
        "outputId": "5395a23c-1e6e-4fa0-abf4-134211479f00"
      },
      "source": [
        "a"
      ],
      "execution_count": null,
      "outputs": [
        {
          "output_type": "execute_result",
          "data": {
            "text/plain": [
              "['a', 'b', 'c']"
            ]
          },
          "metadata": {
            "tags": []
          },
          "execution_count": 106
        }
      ]
    },
    {
      "cell_type": "markdown",
      "metadata": {
        "id": "fFevv8ceOVQB",
        "colab_type": "text"
      },
      "source": [
        "### 리스트 뒤집기(reverse)"
      ]
    },
    {
      "cell_type": "code",
      "metadata": {
        "id": "XYZOcPspOVQC",
        "colab_type": "code",
        "colab": {}
      },
      "source": [
        "a = ['a','c','b']\n",
        "a.reverse()"
      ],
      "execution_count": null,
      "outputs": []
    },
    {
      "cell_type": "code",
      "metadata": {
        "id": "jhR9vGLOOVQD",
        "colab_type": "code",
        "colab": {},
        "outputId": "23afc2c6-b7c3-4b72-8006-5d2333f7b911"
      },
      "source": [
        "a"
      ],
      "execution_count": null,
      "outputs": [
        {
          "output_type": "execute_result",
          "data": {
            "text/plain": [
              "['b', 'c', 'a']"
            ]
          },
          "metadata": {
            "tags": []
          },
          "execution_count": 108
        }
      ]
    },
    {
      "cell_type": "markdown",
      "metadata": {
        "id": "xDFpMtCsOVQF",
        "colab_type": "text"
      },
      "source": [
        "### 위치 반환(index)"
      ]
    },
    {
      "cell_type": "code",
      "metadata": {
        "id": "ExdXlRh1OVQF",
        "colab_type": "code",
        "colab": {},
        "outputId": "784d3030-f294-48e0-d22a-fc4140ea438c"
      },
      "source": [
        "a=[1,2,3]\n",
        "a.index(3)"
      ],
      "execution_count": null,
      "outputs": [
        {
          "output_type": "execute_result",
          "data": {
            "text/plain": [
              "2"
            ]
          },
          "metadata": {
            "tags": []
          },
          "execution_count": 109
        }
      ]
    },
    {
      "cell_type": "code",
      "metadata": {
        "id": "2sKB2fIiOVQG",
        "colab_type": "code",
        "colab": {},
        "outputId": "50ee289b-fafd-46f2-ff62-59d23f4f5c9f"
      },
      "source": [
        "a.index(1)"
      ],
      "execution_count": null,
      "outputs": [
        {
          "output_type": "execute_result",
          "data": {
            "text/plain": [
              "0"
            ]
          },
          "metadata": {
            "tags": []
          },
          "execution_count": 110
        }
      ]
    },
    {
      "cell_type": "code",
      "metadata": {
        "id": "pUUsVCxmOVQI",
        "colab_type": "code",
        "colab": {
          "base_uri": "https://localhost:8080/",
          "height": 208
        },
        "outputId": "0bb9f133-510a-4463-f7fd-a0b852ce8cc6"
      },
      "source": [
        "a.index(0)\n",
        "\n",
        "# 값 0은 리스트에 존재하지 않기 때문에 값 오류(valueError)가 발생한다"
      ],
      "execution_count": 10,
      "outputs": [
        {
          "output_type": "error",
          "ename": "ValueError",
          "evalue": "ignored",
          "traceback": [
            "\u001b[0;31m---------------------------------------------------------------------------\u001b[0m",
            "\u001b[0;31mValueError\u001b[0m                                Traceback (most recent call last)",
            "\u001b[0;32m<ipython-input-10-09cc83539082>\u001b[0m in \u001b[0;36m<module>\u001b[0;34m()\u001b[0m\n\u001b[0;32m----> 1\u001b[0;31m \u001b[0ma\u001b[0m\u001b[0;34m.\u001b[0m\u001b[0mindex\u001b[0m\u001b[0;34m(\u001b[0m\u001b[0;36m0\u001b[0m\u001b[0;34m)\u001b[0m\u001b[0;34m\u001b[0m\u001b[0;34m\u001b[0m\u001b[0m\n\u001b[0m\u001b[1;32m      2\u001b[0m \u001b[0;34m\u001b[0m\u001b[0m\n\u001b[1;32m      3\u001b[0m \u001b[0;31m# 값 0은 리스트에 존재하지 않기 때문에 값 오류(valueError)가 발생한다\u001b[0m\u001b[0;34m\u001b[0m\u001b[0;34m\u001b[0m\u001b[0;34m\u001b[0m\u001b[0m\n",
            "\u001b[0;31mValueError\u001b[0m: 0 is not in list"
          ]
        }
      ]
    },
    {
      "cell_type": "markdown",
      "metadata": {
        "id": "2a9SLokkOVQJ",
        "colab_type": "text"
      },
      "source": [
        "### 리스트에 요소 삽입(insert)"
      ]
    },
    {
      "cell_type": "code",
      "metadata": {
        "id": "FtrSddrlOVQJ",
        "colab_type": "code",
        "colab": {}
      },
      "source": [
        "a=[1,2,3]\n",
        "a.insert(0, 4)"
      ],
      "execution_count": null,
      "outputs": []
    },
    {
      "cell_type": "code",
      "metadata": {
        "id": "d98C2mukOVQM",
        "colab_type": "code",
        "colab": {},
        "outputId": "8aa58927-d201-4a62-f516-df43d1decceb"
      },
      "source": [
        "a"
      ],
      "execution_count": null,
      "outputs": [
        {
          "output_type": "execute_result",
          "data": {
            "text/plain": [
              "[4, 1, 2, 3]"
            ]
          },
          "metadata": {
            "tags": []
          },
          "execution_count": 114
        }
      ]
    },
    {
      "cell_type": "code",
      "metadata": {
        "id": "x_KisITBOVQP",
        "colab_type": "code",
        "colab": {},
        "outputId": "f56621fc-1cf9-4173-b9f5-7cac39b17f5d"
      },
      "source": [
        "a.insert(3,5)\n",
        "a"
      ],
      "execution_count": null,
      "outputs": [
        {
          "output_type": "execute_result",
          "data": {
            "text/plain": [
              "[4, 1, 2, 5, 3]"
            ]
          },
          "metadata": {
            "tags": []
          },
          "execution_count": 115
        }
      ]
    },
    {
      "cell_type": "markdown",
      "metadata": {
        "id": "q2sAyVoNOVQS",
        "colab_type": "text"
      },
      "source": [
        "### 리스트 요소 삭제(remove)"
      ]
    },
    {
      "cell_type": "code",
      "metadata": {
        "id": "_A-Rq4fAOVQT",
        "colab_type": "code",
        "colab": {}
      },
      "source": [
        "a=[1,2,3,1,2,3]\n",
        "a.remove(3)"
      ],
      "execution_count": null,
      "outputs": []
    },
    {
      "cell_type": "code",
      "metadata": {
        "id": "Kzkr2tOzOVQU",
        "colab_type": "code",
        "colab": {},
        "outputId": "70f40d19-b2fe-4ded-d610-d17e319b576c"
      },
      "source": [
        "a"
      ],
      "execution_count": null,
      "outputs": [
        {
          "output_type": "execute_result",
          "data": {
            "text/plain": [
              "[1, 2, 1, 2, 3]"
            ]
          },
          "metadata": {
            "tags": []
          },
          "execution_count": 129
        }
      ]
    },
    {
      "cell_type": "code",
      "metadata": {
        "id": "V3fOgLX2OVQV",
        "colab_type": "code",
        "colab": {},
        "outputId": "736b9785-24a7-4bf9-c28b-e00b28bca47a"
      },
      "source": [
        "a.remove(3)\n",
        "a"
      ],
      "execution_count": null,
      "outputs": [
        {
          "output_type": "execute_result",
          "data": {
            "text/plain": [
              "[1, 2, 1, 2]"
            ]
          },
          "metadata": {
            "tags": []
          },
          "execution_count": 130
        }
      ]
    },
    {
      "cell_type": "code",
      "metadata": {
        "id": "lbt3kpfDOVQX",
        "colab_type": "code",
        "colab": {},
        "outputId": "069f6a09-8589-48f2-ce52-76637ff81921"
      },
      "source": [
        "a=[1,2,3,1,2,3]\n",
        "del a[3]\n",
        "a"
      ],
      "execution_count": null,
      "outputs": [
        {
          "output_type": "execute_result",
          "data": {
            "text/plain": [
              "[1, 2, 3, 2, 3]"
            ]
          },
          "metadata": {
            "tags": []
          },
          "execution_count": 120
        }
      ]
    },
    {
      "cell_type": "markdown",
      "metadata": {
        "id": "JIVgNG0KOVQY",
        "colab_type": "text"
      },
      "source": [
        "### 리스트 요소 끄집어 내기(pop)"
      ]
    },
    {
      "cell_type": "code",
      "metadata": {
        "id": "FXfXzBUZOVQY",
        "colab_type": "code",
        "colab": {},
        "outputId": "9af777d1-9165-4503-cc06-5fb999e32e41"
      },
      "source": [
        "a=[1,2,3]\n",
        "a[2]"
      ],
      "execution_count": null,
      "outputs": [
        {
          "output_type": "execute_result",
          "data": {
            "text/plain": [
              "3"
            ]
          },
          "metadata": {
            "tags": []
          },
          "execution_count": 134
        }
      ]
    },
    {
      "cell_type": "code",
      "metadata": {
        "id": "ftcjcJqhOVQa",
        "colab_type": "code",
        "colab": {},
        "outputId": "2ba52291-8a94-4711-af5e-b1383043b21b"
      },
      "source": [
        "a"
      ],
      "execution_count": null,
      "outputs": [
        {
          "output_type": "execute_result",
          "data": {
            "text/plain": [
              "[1, 2, 3]"
            ]
          },
          "metadata": {
            "tags": []
          },
          "execution_count": 133
        }
      ]
    },
    {
      "cell_type": "code",
      "metadata": {
        "id": "sSRxv2cTOVQc",
        "colab_type": "code",
        "colab": {},
        "outputId": "15eb69bf-c067-4d91-d39d-32d669753cca"
      },
      "source": [
        "a.pop()"
      ],
      "execution_count": null,
      "outputs": [
        {
          "output_type": "execute_result",
          "data": {
            "text/plain": [
              "3"
            ]
          },
          "metadata": {
            "tags": []
          },
          "execution_count": 135
        }
      ]
    },
    {
      "cell_type": "code",
      "metadata": {
        "id": "Ha9PPwLGOVQd",
        "colab_type": "code",
        "colab": {},
        "outputId": "a6f365a0-14aa-4633-8c08-748b20839211"
      },
      "source": [
        "a"
      ],
      "execution_count": null,
      "outputs": [
        {
          "output_type": "execute_result",
          "data": {
            "text/plain": [
              "[1, 2]"
            ]
          },
          "metadata": {
            "tags": []
          },
          "execution_count": 136
        }
      ]
    },
    {
      "cell_type": "code",
      "metadata": {
        "id": "O1eBllGlOVQe",
        "colab_type": "code",
        "colab": {},
        "outputId": "01717ed7-60b6-4b97-8aaf-3a7e47108d9f"
      },
      "source": [
        "a=[1,2,3]\n",
        "a.pop(1)"
      ],
      "execution_count": null,
      "outputs": [
        {
          "output_type": "execute_result",
          "data": {
            "text/plain": [
              "2"
            ]
          },
          "metadata": {
            "tags": []
          },
          "execution_count": 137
        }
      ]
    },
    {
      "cell_type": "code",
      "metadata": {
        "id": "CfiHlN8ZOVQf",
        "colab_type": "code",
        "colab": {},
        "outputId": "a51e857d-a0b6-4876-ea3e-f88b86f9081d"
      },
      "source": [
        "a"
      ],
      "execution_count": null,
      "outputs": [
        {
          "output_type": "execute_result",
          "data": {
            "text/plain": [
              "[1, 3]"
            ]
          },
          "metadata": {
            "tags": []
          },
          "execution_count": 138
        }
      ]
    },
    {
      "cell_type": "markdown",
      "metadata": {
        "id": "kKeoYr6hOVQj",
        "colab_type": "text"
      },
      "source": [
        "### 리스트에 포함된 요소 x의 개수 세기(count)"
      ]
    },
    {
      "cell_type": "code",
      "metadata": {
        "id": "PN_etYmAOVQj",
        "colab_type": "code",
        "colab": {},
        "outputId": "a0b415c5-50a7-4c49-f59f-05d4264742b9"
      },
      "source": [
        "a=[1,2,3,1]\n",
        "a.count(1)"
      ],
      "execution_count": null,
      "outputs": [
        {
          "output_type": "execute_result",
          "data": {
            "text/plain": [
              "2"
            ]
          },
          "metadata": {
            "tags": []
          },
          "execution_count": 139
        }
      ]
    },
    {
      "cell_type": "markdown",
      "metadata": {
        "id": "xJAPSSLiOVQm",
        "colab_type": "text"
      },
      "source": [
        "### 리스트 확장 (extend)"
      ]
    },
    {
      "cell_type": "code",
      "metadata": {
        "id": "FrHjL8YoOVQm",
        "colab_type": "code",
        "colab": {}
      },
      "source": [
        "a=[1,2,3]\n",
        "a.extend([4,5])"
      ],
      "execution_count": null,
      "outputs": []
    },
    {
      "cell_type": "code",
      "metadata": {
        "id": "mIh4tuF8OVQo",
        "colab_type": "code",
        "colab": {},
        "outputId": "bd0adfa6-9313-4d2c-8870-b330a8cf54f7"
      },
      "source": [
        "a"
      ],
      "execution_count": null,
      "outputs": [
        {
          "output_type": "execute_result",
          "data": {
            "text/plain": [
              "[1, 2, 3, 4, 5]"
            ]
          },
          "metadata": {
            "tags": []
          },
          "execution_count": 141
        }
      ]
    },
    {
      "cell_type": "code",
      "metadata": {
        "id": "bsMqohykOVQr",
        "colab_type": "code",
        "colab": {}
      },
      "source": [
        "b = [6,7]\n",
        "a.extend(b)\n",
        "\n",
        "#a.extend([4,5])는 a += [4,5]와 동일하다"
      ],
      "execution_count": 11,
      "outputs": []
    },
    {
      "cell_type": "code",
      "metadata": {
        "id": "6PL0k7qcOVQs",
        "colab_type": "code",
        "colab": {},
        "outputId": "e30dbe77-021d-4ecf-8ac7-244496bb016a"
      },
      "source": [
        "a"
      ],
      "execution_count": null,
      "outputs": [
        {
          "output_type": "execute_result",
          "data": {
            "text/plain": [
              "[1, 2, 3, 4, 5, 6, 7]"
            ]
          },
          "metadata": {
            "tags": []
          },
          "execution_count": 143
        }
      ]
    },
    {
      "cell_type": "markdown",
      "metadata": {
        "id": "_FtrinmvOVQt",
        "colab_type": "text"
      },
      "source": [
        "## 튜플 자료형"
      ]
    },
    {
      "cell_type": "markdown",
      "metadata": {
        "id": "UX9dp3dgc4U-",
        "colab_type": "text"
      },
      "source": [
        "* 리스트는 [ ]로 둘러싸지만 튜플은 ( )로 둘러싼다\n",
        "* 리스트는 그 값의 생성,삭제,수정이 가능하지만 튜플은 불가능하다 "
      ]
    },
    {
      "cell_type": "code",
      "metadata": {
        "id": "XXQ0ti6dOVQt",
        "colab_type": "code",
        "colab": {}
      },
      "source": [
        "t1 = ()"
      ],
      "execution_count": null,
      "outputs": []
    },
    {
      "cell_type": "code",
      "metadata": {
        "id": "_DySy060OVQv",
        "colab_type": "code",
        "colab": {}
      },
      "source": [
        "t2 = (1,)"
      ],
      "execution_count": null,
      "outputs": []
    },
    {
      "cell_type": "code",
      "metadata": {
        "id": "0PW7436UOVQw",
        "colab_type": "code",
        "colab": {}
      },
      "source": [
        "t3 = (1,2,3)"
      ],
      "execution_count": null,
      "outputs": []
    },
    {
      "cell_type": "code",
      "metadata": {
        "id": "5Pr32q8MOVQy",
        "colab_type": "code",
        "colab": {}
      },
      "source": [
        "t4 = 1,2,3"
      ],
      "execution_count": null,
      "outputs": []
    },
    {
      "cell_type": "code",
      "metadata": {
        "id": "H4I9_wutOVQ0",
        "colab_type": "code",
        "colab": {},
        "outputId": "92642f04-fb7d-440e-c11d-e8d19cb6d5f4"
      },
      "source": [
        "t4"
      ],
      "execution_count": null,
      "outputs": [
        {
          "output_type": "execute_result",
          "data": {
            "text/plain": [
              "(1, 2, 3)"
            ]
          },
          "metadata": {
            "tags": []
          },
          "execution_count": 148
        }
      ]
    },
    {
      "cell_type": "code",
      "metadata": {
        "id": "yXBHMcyqOVQ2",
        "colab_type": "code",
        "colab": {}
      },
      "source": [
        "t5 = ('a', 'b' , ('ab', 'cd'))"
      ],
      "execution_count": null,
      "outputs": []
    },
    {
      "cell_type": "markdown",
      "metadata": {
        "id": "v9dTN6H3OVQ3",
        "colab_type": "text"
      },
      "source": [
        "### 튜플 요솟값을 삭제하려 할 때"
      ]
    },
    {
      "cell_type": "code",
      "metadata": {
        "id": "uS0K5-inOVQ3",
        "colab_type": "code",
        "colab": {}
      },
      "source": [
        "t1 = (1,2,'a','b')"
      ],
      "execution_count": null,
      "outputs": []
    },
    {
      "cell_type": "code",
      "metadata": {
        "id": "fvrVbXisOVQ5",
        "colab_type": "code",
        "colab": {
          "base_uri": "https://localhost:8080/",
          "height": 208
        },
        "outputId": "64e7ae5d-52c8-4bbe-a87c-ff1826cf6a70"
      },
      "source": [
        "del t1[0] # 튜플 t1의 첫 번째 요소를 지우려는 시도\n",
        "\n",
        "# 형 오류(type error)발생"
      ],
      "execution_count": 12,
      "outputs": [
        {
          "output_type": "error",
          "ename": "NameError",
          "evalue": "ignored",
          "traceback": [
            "\u001b[0;31m---------------------------------------------------------------------------\u001b[0m",
            "\u001b[0;31mNameError\u001b[0m                                 Traceback (most recent call last)",
            "\u001b[0;32m<ipython-input-12-afd46e1c5aac>\u001b[0m in \u001b[0;36m<module>\u001b[0;34m()\u001b[0m\n\u001b[0;32m----> 1\u001b[0;31m \u001b[0;32mdel\u001b[0m \u001b[0mt1\u001b[0m\u001b[0;34m[\u001b[0m\u001b[0;36m0\u001b[0m\u001b[0;34m]\u001b[0m \u001b[0;31m# 튜플 t1의 첫 번째 요소를 지우려는 시도\u001b[0m\u001b[0;34m\u001b[0m\u001b[0;34m\u001b[0m\u001b[0m\n\u001b[0m\u001b[1;32m      2\u001b[0m \u001b[0;34m\u001b[0m\u001b[0m\n\u001b[1;32m      3\u001b[0m \u001b[0;31m# 형 오류(type error)발생\u001b[0m\u001b[0;34m\u001b[0m\u001b[0;34m\u001b[0m\u001b[0;34m\u001b[0m\u001b[0m\n",
            "\u001b[0;31mNameError\u001b[0m: name 't1' is not defined"
          ]
        }
      ]
    },
    {
      "cell_type": "markdown",
      "metadata": {
        "id": "mxvKnnQ0OVQ6",
        "colab_type": "text"
      },
      "source": [
        "### 튜플 요솟값을 변경하려 할 때"
      ]
    },
    {
      "cell_type": "code",
      "metadata": {
        "id": "VMEjLpDQOVQ7",
        "colab_type": "code",
        "colab": {
          "base_uri": "https://localhost:8080/",
          "height": 190
        },
        "outputId": "760250b9-ef9e-4159-9b48-1b56b1372af7"
      },
      "source": [
        "t1=(1,2,'a','b')\n",
        "t1[0]='c' # 튜플 t1의 첫 번째 요소값를 변경려는 시도"
      ],
      "execution_count": 13,
      "outputs": [
        {
          "output_type": "error",
          "ename": "TypeError",
          "evalue": "ignored",
          "traceback": [
            "\u001b[0;31m---------------------------------------------------------------------------\u001b[0m",
            "\u001b[0;31mTypeError\u001b[0m                                 Traceback (most recent call last)",
            "\u001b[0;32m<ipython-input-13-10da27e46270>\u001b[0m in \u001b[0;36m<module>\u001b[0;34m()\u001b[0m\n\u001b[1;32m      1\u001b[0m \u001b[0mt1\u001b[0m\u001b[0;34m=\u001b[0m\u001b[0;34m(\u001b[0m\u001b[0;36m1\u001b[0m\u001b[0;34m,\u001b[0m\u001b[0;36m2\u001b[0m\u001b[0;34m,\u001b[0m\u001b[0;34m'a'\u001b[0m\u001b[0;34m,\u001b[0m\u001b[0;34m'b'\u001b[0m\u001b[0;34m)\u001b[0m\u001b[0;34m\u001b[0m\u001b[0;34m\u001b[0m\u001b[0m\n\u001b[0;32m----> 2\u001b[0;31m \u001b[0mt1\u001b[0m\u001b[0;34m[\u001b[0m\u001b[0;36m0\u001b[0m\u001b[0;34m]\u001b[0m\u001b[0;34m=\u001b[0m\u001b[0;34m'c'\u001b[0m \u001b[0;31m# 튜플 t1의 첫 번째 요소값를 변경려는 시도\u001b[0m\u001b[0;34m\u001b[0m\u001b[0;34m\u001b[0m\u001b[0m\n\u001b[0m",
            "\u001b[0;31mTypeError\u001b[0m: 'tuple' object does not support item assignment"
          ]
        }
      ]
    },
    {
      "cell_type": "markdown",
      "metadata": {
        "id": "r9QuU6-9OVQ8",
        "colab_type": "text"
      },
      "source": [
        "## 튜플 다루기"
      ]
    },
    {
      "cell_type": "markdown",
      "metadata": {
        "id": "LowI_rRzOVQ_",
        "colab_type": "text"
      },
      "source": [
        "### 인덱싱 하기"
      ]
    },
    {
      "cell_type": "code",
      "metadata": {
        "id": "f8amXvWtOVRA",
        "colab_type": "code",
        "colab": {}
      },
      "source": [
        "t1 = (1,2,'a','b')"
      ],
      "execution_count": null,
      "outputs": []
    },
    {
      "cell_type": "code",
      "metadata": {
        "id": "xCN3IxBVOVRB",
        "colab_type": "code",
        "colab": {},
        "outputId": "c494da34-a975-429e-cd59-dd6240dd03c3"
      },
      "source": [
        "t1[0]"
      ],
      "execution_count": null,
      "outputs": [
        {
          "output_type": "execute_result",
          "data": {
            "text/plain": [
              "1"
            ]
          },
          "metadata": {
            "tags": []
          },
          "execution_count": 154
        }
      ]
    },
    {
      "cell_type": "code",
      "metadata": {
        "id": "Ydufi2EaOVRD",
        "colab_type": "code",
        "colab": {},
        "outputId": "a93f1cb3-4abe-4b1f-c34e-bad882c8ec0c"
      },
      "source": [
        "t1[3]"
      ],
      "execution_count": null,
      "outputs": [
        {
          "output_type": "execute_result",
          "data": {
            "text/plain": [
              "'b'"
            ]
          },
          "metadata": {
            "tags": []
          },
          "execution_count": 155
        }
      ]
    },
    {
      "cell_type": "markdown",
      "metadata": {
        "id": "YbcRK_sZOVRF",
        "colab_type": "text"
      },
      "source": [
        "### 슬라이싱 하기"
      ]
    },
    {
      "cell_type": "code",
      "metadata": {
        "id": "qxGSekF3OVRF",
        "colab_type": "code",
        "colab": {},
        "outputId": "0e60e4ce-0df6-463e-831d-463f77b9d267"
      },
      "source": [
        "t1 = (1,2,'a','b')\n",
        "t1[1:]"
      ],
      "execution_count": null,
      "outputs": [
        {
          "output_type": "execute_result",
          "data": {
            "text/plain": [
              "(2, 'a', 'b')"
            ]
          },
          "metadata": {
            "tags": []
          },
          "execution_count": 157
        }
      ]
    },
    {
      "cell_type": "markdown",
      "metadata": {
        "id": "_Iamff-8OVRG",
        "colab_type": "text"
      },
      "source": [
        "### 튜플 더하기"
      ]
    },
    {
      "cell_type": "code",
      "metadata": {
        "id": "leqodFOxOVRH",
        "colab_type": "code",
        "colab": {},
        "outputId": "da2b0651-d225-4e1b-ed5e-9a199455991d"
      },
      "source": [
        "t2=(3,4)\n",
        "t1+ t2"
      ],
      "execution_count": null,
      "outputs": [
        {
          "output_type": "execute_result",
          "data": {
            "text/plain": [
              "(1, 2, 'a', 'b', 3, 4)"
            ]
          },
          "metadata": {
            "tags": []
          },
          "execution_count": 158
        }
      ]
    },
    {
      "cell_type": "markdown",
      "metadata": {
        "id": "xgmZ4-E5OVRI",
        "colab_type": "text"
      },
      "source": [
        "### 튜플 곱하기"
      ]
    },
    {
      "cell_type": "code",
      "metadata": {
        "id": "6atztj5SOVRI",
        "colab_type": "code",
        "colab": {},
        "outputId": "5457b5a3-6b00-48a6-dd07-6f56fcd154e2"
      },
      "source": [
        "t2*3"
      ],
      "execution_count": null,
      "outputs": [
        {
          "output_type": "execute_result",
          "data": {
            "text/plain": [
              "(3, 4, 3, 4, 3, 4)"
            ]
          },
          "metadata": {
            "tags": []
          },
          "execution_count": 160
        }
      ]
    },
    {
      "cell_type": "markdown",
      "metadata": {
        "id": "zpwwda44OVRJ",
        "colab_type": "text"
      },
      "source": [
        "### 튜플 길이 구하기"
      ]
    },
    {
      "cell_type": "code",
      "metadata": {
        "id": "yTr6y-uKOVRK",
        "colab_type": "code",
        "colab": {},
        "outputId": "8aa7b2ee-e08f-43b0-bbbf-a40c858e2aed"
      },
      "source": [
        "len(t1)"
      ],
      "execution_count": null,
      "outputs": [
        {
          "output_type": "execute_result",
          "data": {
            "text/plain": [
              "4"
            ]
          },
          "metadata": {
            "tags": []
          },
          "execution_count": 161
        }
      ]
    },
    {
      "cell_type": "markdown",
      "metadata": {
        "id": "KY-DGqhbOVRM",
        "colab_type": "text"
      },
      "source": [
        "## 딕셔너리 자료형"
      ]
    },
    {
      "cell_type": "code",
      "metadata": {
        "id": "OGCpcQybOVRM",
        "colab_type": "code",
        "colab": {}
      },
      "source": [
        "dic = {'name':'pey', 'phone':'010-1234-5678', 'birth':'1118'}"
      ],
      "execution_count": null,
      "outputs": []
    },
    {
      "cell_type": "code",
      "metadata": {
        "id": "2QuWWgUJOVRN",
        "colab_type": "code",
        "colab": {}
      },
      "source": [
        "a = {1:'hi'}"
      ],
      "execution_count": null,
      "outputs": []
    },
    {
      "cell_type": "code",
      "metadata": {
        "id": "u5Vh6CNjOVRP",
        "colab_type": "code",
        "colab": {}
      },
      "source": [
        "a = {'a':[1,2,3]}"
      ],
      "execution_count": null,
      "outputs": []
    },
    {
      "cell_type": "code",
      "metadata": {
        "id": "gaYDSFUMOVRP",
        "colab_type": "code",
        "colab": {},
        "outputId": "1a2005e0-777a-4527-e668-5e1b7ab0eea0"
      },
      "source": [
        "a['a']"
      ],
      "execution_count": null,
      "outputs": [
        {
          "output_type": "execute_result",
          "data": {
            "text/plain": [
              "[1, 2, 3]"
            ]
          },
          "metadata": {
            "tags": []
          },
          "execution_count": 165
        }
      ]
    },
    {
      "cell_type": "markdown",
      "metadata": {
        "id": "H7t5rsHWOVRS",
        "colab_type": "text"
      },
      "source": [
        "### 딕셔너리 쌍 추가 , 삭제 하기"
      ]
    },
    {
      "cell_type": "markdown",
      "metadata": {
        "id": "y7OYnATJdhww",
        "colab_type": "text"
      },
      "source": [
        "* 딕셔너리는 key ,value가 있다.\n",
        "* key에는 변하지 않는 값을 사용하고, value에는 값과 변하지 않는 값 모두 사용 가능"
      ]
    },
    {
      "cell_type": "code",
      "metadata": {
        "id": "kuWG3OByOVRS",
        "colab_type": "code",
        "colab": {}
      },
      "source": [
        "a = {1: 'a'}"
      ],
      "execution_count": null,
      "outputs": []
    },
    {
      "cell_type": "code",
      "metadata": {
        "id": "wjhzQC7IOVRU",
        "colab_type": "code",
        "colab": {},
        "outputId": "8bd059ea-58cb-4a86-bcdd-32576b5e8dc2"
      },
      "source": [
        "a[1]"
      ],
      "execution_count": null,
      "outputs": [
        {
          "output_type": "execute_result",
          "data": {
            "text/plain": [
              "'a'"
            ]
          },
          "metadata": {
            "tags": []
          },
          "execution_count": 167
        }
      ]
    },
    {
      "cell_type": "code",
      "metadata": {
        "id": "V8BgQvKSOVRV",
        "colab_type": "code",
        "colab": {}
      },
      "source": [
        "a[2] = 'b'"
      ],
      "execution_count": null,
      "outputs": []
    },
    {
      "cell_type": "code",
      "metadata": {
        "id": "gmk4-38BOVRW",
        "colab_type": "code",
        "colab": {},
        "outputId": "dba7828a-fb32-4553-9582-ccf9b3afe5f5"
      },
      "source": [
        "a"
      ],
      "execution_count": null,
      "outputs": [
        {
          "output_type": "execute_result",
          "data": {
            "text/plain": [
              "{1: 'a', 2: 'b'}"
            ]
          },
          "metadata": {
            "tags": []
          },
          "execution_count": 169
        }
      ]
    },
    {
      "cell_type": "code",
      "metadata": {
        "id": "dG0RnPAFOVRY",
        "colab_type": "code",
        "colab": {}
      },
      "source": [
        "a['name']='pey'"
      ],
      "execution_count": null,
      "outputs": []
    },
    {
      "cell_type": "code",
      "metadata": {
        "id": "FZxQKGFKOVRZ",
        "colab_type": "code",
        "colab": {},
        "outputId": "0bbf04a1-5809-4957-a8bf-e51b703c2f77"
      },
      "source": [
        "a"
      ],
      "execution_count": null,
      "outputs": [
        {
          "output_type": "execute_result",
          "data": {
            "text/plain": [
              "{1: 'a', 2: 'b', 'name': 'pey'}"
            ]
          },
          "metadata": {
            "tags": []
          },
          "execution_count": 171
        }
      ]
    },
    {
      "cell_type": "code",
      "metadata": {
        "id": "nLpc1JWIOVRb",
        "colab_type": "code",
        "colab": {}
      },
      "source": [
        "a[3]=[1,2,3]"
      ],
      "execution_count": null,
      "outputs": []
    },
    {
      "cell_type": "code",
      "metadata": {
        "id": "XtDxbFrCOVRc",
        "colab_type": "code",
        "colab": {},
        "outputId": "c42ca5fe-ff90-4873-a781-751243aa2aae"
      },
      "source": [
        "a"
      ],
      "execution_count": null,
      "outputs": [
        {
          "output_type": "execute_result",
          "data": {
            "text/plain": [
              "{1: 'a', 2: 'b', 'name': 'pey', 3: [1, 2, 3]}"
            ]
          },
          "metadata": {
            "tags": []
          },
          "execution_count": 173
        }
      ]
    },
    {
      "cell_type": "markdown",
      "metadata": {
        "id": "YIKoDP5SOVRe",
        "colab_type": "text"
      },
      "source": [
        "### 딕셔너리 요소 삭제하기"
      ]
    },
    {
      "cell_type": "code",
      "metadata": {
        "id": "EXf_fvnqOVRe",
        "colab_type": "code",
        "colab": {}
      },
      "source": [
        "del a[1] #key가 1인 key:value 쌍 삭제"
      ],
      "execution_count": null,
      "outputs": []
    },
    {
      "cell_type": "code",
      "metadata": {
        "id": "SotMGd3gOVRh",
        "colab_type": "code",
        "colab": {},
        "outputId": "faf528a8-6a30-48c1-c207-c9be39c78f5c"
      },
      "source": [
        "a"
      ],
      "execution_count": null,
      "outputs": [
        {
          "output_type": "execute_result",
          "data": {
            "text/plain": [
              "{2: 'b', 'name': 'pey', 3: [1, 2, 3]}"
            ]
          },
          "metadata": {
            "tags": []
          },
          "execution_count": 175
        }
      ]
    },
    {
      "cell_type": "markdown",
      "metadata": {
        "id": "PV-m0P-6OVRj",
        "colab_type": "text"
      },
      "source": [
        "### 딕셔너리에서 key를 사용해 value 얻기"
      ]
    },
    {
      "cell_type": "code",
      "metadata": {
        "id": "bDpZhiM-OVRj",
        "colab_type": "code",
        "colab": {}
      },
      "source": [
        "grade = {'pey':10, 'julliet':99}"
      ],
      "execution_count": null,
      "outputs": []
    },
    {
      "cell_type": "code",
      "metadata": {
        "id": "TJ4KqJ-sOVRl",
        "colab_type": "code",
        "colab": {},
        "outputId": "ce38a38a-198d-4acf-cdde-7ccf3426f057"
      },
      "source": [
        "grade['pey']"
      ],
      "execution_count": null,
      "outputs": [
        {
          "output_type": "execute_result",
          "data": {
            "text/plain": [
              "10"
            ]
          },
          "metadata": {
            "tags": []
          },
          "execution_count": 177
        }
      ]
    },
    {
      "cell_type": "code",
      "metadata": {
        "id": "aWTiyvjSOVRo",
        "colab_type": "code",
        "colab": {},
        "outputId": "a87d9890-4f6e-40ce-da3b-30438aad2049"
      },
      "source": [
        "grade['julliet']"
      ],
      "execution_count": null,
      "outputs": [
        {
          "output_type": "execute_result",
          "data": {
            "text/plain": [
              "99"
            ]
          },
          "metadata": {
            "tags": []
          },
          "execution_count": 178
        }
      ]
    },
    {
      "cell_type": "code",
      "metadata": {
        "id": "C5rirfxDOVRp",
        "colab_type": "code",
        "colab": {}
      },
      "source": [
        "a = {1:'a', 2:'b'}"
      ],
      "execution_count": null,
      "outputs": []
    },
    {
      "cell_type": "code",
      "metadata": {
        "id": "NIlLtx4zOVRq",
        "colab_type": "code",
        "colab": {},
        "outputId": "21d1e9f2-b687-4116-8761-b6b391714807"
      },
      "source": [
        "a[1]"
      ],
      "execution_count": null,
      "outputs": [
        {
          "output_type": "execute_result",
          "data": {
            "text/plain": [
              "'a'"
            ]
          },
          "metadata": {
            "tags": []
          },
          "execution_count": 180
        }
      ]
    },
    {
      "cell_type": "code",
      "metadata": {
        "id": "sNhRf4JnOVRt",
        "colab_type": "code",
        "colab": {},
        "outputId": "225198e2-1722-4317-bfd0-2fb7dc9a586e"
      },
      "source": [
        "a[2]"
      ],
      "execution_count": null,
      "outputs": [
        {
          "output_type": "execute_result",
          "data": {
            "text/plain": [
              "'b'"
            ]
          },
          "metadata": {
            "tags": []
          },
          "execution_count": 181
        }
      ]
    },
    {
      "cell_type": "code",
      "metadata": {
        "id": "m3A16nB0OVRt",
        "colab_type": "code",
        "colab": {}
      },
      "source": [
        "a = {'a':1, 'b':2}"
      ],
      "execution_count": null,
      "outputs": []
    },
    {
      "cell_type": "code",
      "metadata": {
        "id": "nvDgo5p1OVRu",
        "colab_type": "code",
        "colab": {},
        "outputId": "581f751b-e765-41c3-f9a3-d6db191e45b1"
      },
      "source": [
        "a['a']"
      ],
      "execution_count": null,
      "outputs": [
        {
          "output_type": "execute_result",
          "data": {
            "text/plain": [
              "1"
            ]
          },
          "metadata": {
            "tags": []
          },
          "execution_count": 183
        }
      ]
    },
    {
      "cell_type": "code",
      "metadata": {
        "id": "acGJ716lOVRv",
        "colab_type": "code",
        "colab": {},
        "outputId": "ee0cc1ca-921d-41ac-8eb9-b3539f75a619"
      },
      "source": [
        "a['b']"
      ],
      "execution_count": null,
      "outputs": [
        {
          "output_type": "execute_result",
          "data": {
            "text/plain": [
              "2"
            ]
          },
          "metadata": {
            "tags": []
          },
          "execution_count": 184
        }
      ]
    },
    {
      "cell_type": "markdown",
      "metadata": {
        "id": "MCbJINsBOVRx",
        "colab_type": "text"
      },
      "source": [
        "### 딕셔너리 만들 때 주의사항"
      ]
    },
    {
      "cell_type": "markdown",
      "metadata": {
        "id": "NSlf7izpeL6y",
        "colab_type": "text"
      },
      "source": [
        "key 값은 고유한 값이므로 중복되는 key값을 설정해 놓으면 하나를 제외한 나머지 것들이 모두 무시된다는 점을 주의해야 한다."
      ]
    },
    {
      "cell_type": "code",
      "metadata": {
        "id": "B_BFqykKOVRx",
        "colab_type": "code",
        "colab": {}
      },
      "source": [
        "a = {1:'a', 1:'b'}"
      ],
      "execution_count": null,
      "outputs": []
    },
    {
      "cell_type": "code",
      "metadata": {
        "id": "9hCqyr-NOVRy",
        "colab_type": "code",
        "colab": {},
        "outputId": "06877e1b-c707-447a-99fa-8077b68b3fb0"
      },
      "source": [
        "a"
      ],
      "execution_count": null,
      "outputs": [
        {
          "output_type": "execute_result",
          "data": {
            "text/plain": [
              "{1: 'b'}"
            ]
          },
          "metadata": {
            "tags": []
          },
          "execution_count": 186
        }
      ]
    },
    {
      "cell_type": "code",
      "metadata": {
        "id": "COd96eqSOVRz",
        "colab_type": "code",
        "colab": {},
        "outputId": "27138446-d4c7-4df5-f38f-086e3e84cd81"
      },
      "source": [
        "a[1]"
      ],
      "execution_count": null,
      "outputs": [
        {
          "output_type": "execute_result",
          "data": {
            "text/plain": [
              "'b'"
            ]
          },
          "metadata": {
            "tags": []
          },
          "execution_count": 187
        }
      ]
    },
    {
      "cell_type": "code",
      "metadata": {
        "id": "bM2XfSKMOVR0",
        "colab_type": "code",
        "colab": {},
        "outputId": "f2c0bafc-70da-4b97-ccf4-f89a3df302a2"
      },
      "source": [
        "a = {[1,2]:\"hi\"}"
      ],
      "execution_count": null,
      "outputs": [
        {
          "output_type": "error",
          "ename": "TypeError",
          "evalue": "unhashable type: 'list'",
          "traceback": [
            "\u001b[1;31m---------------------------------------------------------------------------\u001b[0m",
            "\u001b[1;31mTypeError\u001b[0m                                 Traceback (most recent call last)",
            "\u001b[1;32m<ipython-input-188-22fc8aa5be65>\u001b[0m in \u001b[0;36m<module>\u001b[1;34m\u001b[0m\n\u001b[1;32m----> 1\u001b[1;33m \u001b[0ma\u001b[0m \u001b[1;33m=\u001b[0m \u001b[1;33m{\u001b[0m\u001b[1;33m[\u001b[0m\u001b[1;36m1\u001b[0m\u001b[1;33m,\u001b[0m\u001b[1;36m2\u001b[0m\u001b[1;33m]\u001b[0m\u001b[1;33m:\u001b[0m\u001b[1;34m\"hi\"\u001b[0m\u001b[1;33m}\u001b[0m\u001b[1;33m\u001b[0m\u001b[1;33m\u001b[0m\u001b[0m\n\u001b[0m",
            "\u001b[1;31mTypeError\u001b[0m: unhashable type: 'list'"
          ]
        }
      ]
    },
    {
      "cell_type": "markdown",
      "metadata": {
        "id": "m553P8kkOVR1",
        "colab_type": "text"
      },
      "source": [
        "###  딕셔너리 관련 함수"
      ]
    },
    {
      "cell_type": "markdown",
      "metadata": {
        "id": "iJ0YwllXOVR1",
        "colab_type": "text"
      },
      "source": [
        "####  Key 리스트 만들기(key)"
      ]
    },
    {
      "cell_type": "code",
      "metadata": {
        "id": "W27-3jO_OVR1",
        "colab_type": "code",
        "colab": {},
        "outputId": "06229cea-7c20-4815-b7ab-ef872eca4666"
      },
      "source": [
        "a = {'name':'pey', 'phone':'010-1234-5678', 'birth':'1118'}\n",
        "a.keys()"
      ],
      "execution_count": null,
      "outputs": [
        {
          "output_type": "execute_result",
          "data": {
            "text/plain": [
              "dict_keys(['name', 'phone', 'birth'])"
            ]
          },
          "metadata": {
            "tags": []
          },
          "execution_count": 189
        }
      ]
    },
    {
      "cell_type": "code",
      "metadata": {
        "id": "zT4o9WXOOVR2",
        "colab_type": "code",
        "colab": {},
        "outputId": "39c31d0c-a47d-4140-b23f-11e887a7953f"
      },
      "source": [
        "for k in a.keys():\n",
        "    print(k)"
      ],
      "execution_count": null,
      "outputs": [
        {
          "output_type": "stream",
          "text": [
            "name\n",
            "phone\n",
            "birth\n"
          ],
          "name": "stdout"
        }
      ]
    },
    {
      "cell_type": "code",
      "metadata": {
        "id": "lz6i9BE4OVR3",
        "colab_type": "code",
        "colab": {},
        "outputId": "eeac58ca-cb51-439c-db6b-fed4fcea9fb0"
      },
      "source": [
        "list(a.keys())"
      ],
      "execution_count": null,
      "outputs": [
        {
          "output_type": "execute_result",
          "data": {
            "text/plain": [
              "['name', 'phone', 'birth']"
            ]
          },
          "metadata": {
            "tags": []
          },
          "execution_count": 191
        }
      ]
    },
    {
      "cell_type": "code",
      "metadata": {
        "id": "-2N6CX9lOVR4",
        "colab_type": "code",
        "colab": {},
        "outputId": "87da658d-4e53-454e-a998-a3b2e4141d9e"
      },
      "source": [
        "a.values()"
      ],
      "execution_count": null,
      "outputs": [
        {
          "output_type": "execute_result",
          "data": {
            "text/plain": [
              "dict_values(['pey', '010-1234-5678', '1118'])"
            ]
          },
          "metadata": {
            "tags": []
          },
          "execution_count": 192
        }
      ]
    },
    {
      "cell_type": "markdown",
      "metadata": {
        "id": "e7ZboahuOVR5",
        "colab_type": "text"
      },
      "source": [
        "#### Key, Value 쌍 얻기(items)"
      ]
    },
    {
      "cell_type": "code",
      "metadata": {
        "id": "uoP79gASOVR5",
        "colab_type": "code",
        "colab": {},
        "outputId": "60166393-2c14-4dae-83a6-2e07ce252e93"
      },
      "source": [
        "a.items()"
      ],
      "execution_count": null,
      "outputs": [
        {
          "output_type": "execute_result",
          "data": {
            "text/plain": [
              "dict_items([('name', 'pey'), ('phone', '010-1234-5678'), ('birth', '1118')])"
            ]
          },
          "metadata": {
            "tags": []
          },
          "execution_count": 193
        }
      ]
    },
    {
      "cell_type": "markdown",
      "metadata": {
        "id": "kHSPckBbOVR6",
        "colab_type": "text"
      },
      "source": [
        "#### key: value 쌍 모두 지우기(clear)"
      ]
    },
    {
      "cell_type": "code",
      "metadata": {
        "id": "8yxuXp1eOVR7",
        "colab_type": "code",
        "colab": {},
        "outputId": "0fd276a0-dda9-413e-dc0c-c65531244c7a"
      },
      "source": [
        "a.clear()\n",
        "a"
      ],
      "execution_count": null,
      "outputs": [
        {
          "output_type": "execute_result",
          "data": {
            "text/plain": [
              "{}"
            ]
          },
          "metadata": {
            "tags": []
          },
          "execution_count": 194
        }
      ]
    },
    {
      "cell_type": "markdown",
      "metadata": {
        "id": "D-VG7s1IOVR7",
        "colab_type": "text"
      },
      "source": [
        "#### key로 value 얻기(get)"
      ]
    },
    {
      "cell_type": "code",
      "metadata": {
        "id": "kAl2sMzlOVR8",
        "colab_type": "code",
        "colab": {},
        "outputId": "54ab65ee-0009-4d02-aa35-b796cfb36d0f"
      },
      "source": [
        "a = {'name':'pey', 'phone':'010-1234-5678', 'birth':'1118'}\n",
        "a.get('name')"
      ],
      "execution_count": null,
      "outputs": [
        {
          "output_type": "execute_result",
          "data": {
            "text/plain": [
              "'pey'"
            ]
          },
          "metadata": {
            "tags": []
          },
          "execution_count": 195
        }
      ]
    },
    {
      "cell_type": "code",
      "metadata": {
        "id": "S2Hx1e9eOVR9",
        "colab_type": "code",
        "colab": {},
        "outputId": "3abefa72-68e5-437b-8f0c-0c3c1683e7d5"
      },
      "source": [
        "a.get('phone')"
      ],
      "execution_count": null,
      "outputs": [
        {
          "output_type": "execute_result",
          "data": {
            "text/plain": [
              "'010-1234-5678'"
            ]
          },
          "metadata": {
            "tags": []
          },
          "execution_count": 196
        }
      ]
    },
    {
      "cell_type": "code",
      "metadata": {
        "id": "-bWLXKskOVR9",
        "colab_type": "code",
        "colab": {},
        "outputId": "e879e7f7-48cc-478a-af30-b72cdf0ff059"
      },
      "source": [
        "print(a.get(\"nokey\"))"
      ],
      "execution_count": null,
      "outputs": [
        {
          "output_type": "stream",
          "text": [
            "None\n"
          ],
          "name": "stdout"
        }
      ]
    },
    {
      "cell_type": "code",
      "metadata": {
        "id": "9Asomd87OVR-",
        "colab_type": "code",
        "colab": {},
        "outputId": "77ebcaaa-e09c-473b-8923-f7609c2d0e86"
      },
      "source": [
        "print(a['nokey'])"
      ],
      "execution_count": null,
      "outputs": [
        {
          "output_type": "error",
          "ename": "KeyError",
          "evalue": "'nokey'",
          "traceback": [
            "\u001b[1;31m---------------------------------------------------------------------------\u001b[0m",
            "\u001b[1;31mKeyError\u001b[0m                                  Traceback (most recent call last)",
            "\u001b[1;32m<ipython-input-199-54514d6fa670>\u001b[0m in \u001b[0;36m<module>\u001b[1;34m\u001b[0m\n\u001b[1;32m----> 1\u001b[1;33m \u001b[0mprint\u001b[0m\u001b[1;33m(\u001b[0m\u001b[0ma\u001b[0m\u001b[1;33m[\u001b[0m\u001b[1;34m'nokey'\u001b[0m\u001b[1;33m]\u001b[0m\u001b[1;33m)\u001b[0m\u001b[1;33m\u001b[0m\u001b[1;33m\u001b[0m\u001b[0m\n\u001b[0m",
            "\u001b[1;31mKeyError\u001b[0m: 'nokey'"
          ]
        }
      ]
    },
    {
      "cell_type": "code",
      "metadata": {
        "id": "hU8Lu1KFOVSA",
        "colab_type": "code",
        "colab": {},
        "outputId": "6bdd8ce8-0b5c-4fbe-d373-2185f76ac46a"
      },
      "source": [
        "a.get('foo','bar')"
      ],
      "execution_count": null,
      "outputs": [
        {
          "output_type": "execute_result",
          "data": {
            "text/plain": [
              "'bar'"
            ]
          },
          "metadata": {
            "tags": []
          },
          "execution_count": 201
        }
      ]
    },
    {
      "cell_type": "markdown",
      "metadata": {
        "id": "YVmNPTQqOVSB",
        "colab_type": "text"
      },
      "source": [
        "#### 해당 key가 딕셔너리 안에 있는지 조사하기 (in)"
      ]
    },
    {
      "cell_type": "code",
      "metadata": {
        "id": "OUnhdl5UOVSB",
        "colab_type": "code",
        "colab": {},
        "outputId": "5efaba86-7e0f-4ea0-9560-7f7026aaca1b"
      },
      "source": [
        "'name' in a"
      ],
      "execution_count": null,
      "outputs": [
        {
          "output_type": "execute_result",
          "data": {
            "text/plain": [
              "True"
            ]
          },
          "metadata": {
            "tags": []
          },
          "execution_count": 202
        }
      ]
    },
    {
      "cell_type": "code",
      "metadata": {
        "id": "jr5qOLH5OVSC",
        "colab_type": "code",
        "colab": {},
        "outputId": "0e2f4274-42ef-4390-e31a-4075f2563cc6"
      },
      "source": [
        "'email' in a"
      ],
      "execution_count": null,
      "outputs": [
        {
          "output_type": "execute_result",
          "data": {
            "text/plain": [
              "False"
            ]
          },
          "metadata": {
            "tags": []
          },
          "execution_count": 203
        }
      ]
    },
    {
      "cell_type": "markdown",
      "metadata": {
        "id": "d5Q97rdYOVSD",
        "colab_type": "text"
      },
      "source": [
        "## 집합 자료형"
      ]
    },
    {
      "cell_type": "markdown",
      "metadata": {
        "id": "FUfpXsnneiAL",
        "colab_type": "text"
      },
      "source": [
        "* 중복을 허용하지 않는다\n",
        "* 순서가 없다(unordered)"
      ]
    },
    {
      "cell_type": "code",
      "metadata": {
        "id": "2YwL8z9wOVSE",
        "colab_type": "code",
        "colab": {}
      },
      "source": [
        "s1 = set([1,2,3])"
      ],
      "execution_count": null,
      "outputs": []
    },
    {
      "cell_type": "code",
      "metadata": {
        "id": "EcQfDGc1OVSF",
        "colab_type": "code",
        "colab": {},
        "outputId": "f9dd0e50-2b07-44d5-d7b1-35f00655381c"
      },
      "source": [
        "s1"
      ],
      "execution_count": null,
      "outputs": [
        {
          "output_type": "execute_result",
          "data": {
            "text/plain": [
              "{1, 2, 3}"
            ]
          },
          "metadata": {
            "tags": []
          },
          "execution_count": 205
        }
      ]
    },
    {
      "cell_type": "code",
      "metadata": {
        "id": "126MAYDAOVSG",
        "colab_type": "code",
        "colab": {}
      },
      "source": [
        "s2 = set(\"Hello\")"
      ],
      "execution_count": null,
      "outputs": []
    },
    {
      "cell_type": "code",
      "metadata": {
        "id": "qivzJaZdOVSK",
        "colab_type": "code",
        "colab": {},
        "outputId": "0281349e-6ab9-47cd-aaac-7a9de3ec2822"
      },
      "source": [
        "s2"
      ],
      "execution_count": null,
      "outputs": [
        {
          "output_type": "execute_result",
          "data": {
            "text/plain": [
              "{'H', 'e', 'l', 'o'}"
            ]
          },
          "metadata": {
            "tags": []
          },
          "execution_count": 207
        }
      ]
    },
    {
      "cell_type": "code",
      "metadata": {
        "id": "GCZ90QBxOVSL",
        "colab_type": "code",
        "colab": {},
        "outputId": "d440f869-4062-4cce-b9f6-36294b5484db"
      },
      "source": [
        "s1 = set([1,2,3])\n",
        "s1"
      ],
      "execution_count": null,
      "outputs": [
        {
          "output_type": "execute_result",
          "data": {
            "text/plain": [
              "{1, 2, 3}"
            ]
          },
          "metadata": {
            "tags": []
          },
          "execution_count": 208
        }
      ]
    },
    {
      "cell_type": "code",
      "metadata": {
        "id": "5e7xXkXROVSO",
        "colab_type": "code",
        "colab": {},
        "outputId": "ec49a3bf-652e-429b-d913-3322ec8efc74"
      },
      "source": [
        "list(s1)"
      ],
      "execution_count": null,
      "outputs": [
        {
          "output_type": "execute_result",
          "data": {
            "text/plain": [
              "[1, 2, 3]"
            ]
          },
          "metadata": {
            "tags": []
          },
          "execution_count": 209
        }
      ]
    },
    {
      "cell_type": "code",
      "metadata": {
        "id": "IvWBszlkOVSQ",
        "colab_type": "code",
        "colab": {}
      },
      "source": [
        "t1 = tuple(s1)"
      ],
      "execution_count": null,
      "outputs": []
    },
    {
      "cell_type": "code",
      "metadata": {
        "id": "ercTDd3sOVSR",
        "colab_type": "code",
        "colab": {},
        "outputId": "37521c11-5e4e-4302-d7c5-4c64ff937c33"
      },
      "source": [
        "t1"
      ],
      "execution_count": null,
      "outputs": [
        {
          "output_type": "execute_result",
          "data": {
            "text/plain": [
              "(1, 2, 3)"
            ]
          },
          "metadata": {
            "tags": []
          },
          "execution_count": 211
        }
      ]
    },
    {
      "cell_type": "markdown",
      "metadata": {
        "id": "eckx7TO8OVSZ",
        "colab_type": "text"
      },
      "source": [
        "### 교집합, 합집합, 차집합 구하기"
      ]
    },
    {
      "cell_type": "code",
      "metadata": {
        "id": "sVJau9HJOVSZ",
        "colab_type": "code",
        "colab": {}
      },
      "source": [
        "s1 = set([1,2,3,4,5,6])\n",
        "s2 = set([4,5,6,7,8,9])"
      ],
      "execution_count": null,
      "outputs": []
    },
    {
      "cell_type": "markdown",
      "metadata": {
        "id": "KflLGBPXOVSa",
        "colab_type": "text"
      },
      "source": [
        "### 교집합"
      ]
    },
    {
      "cell_type": "code",
      "metadata": {
        "id": "e9F5q44rOVSb",
        "colab_type": "code",
        "colab": {},
        "outputId": "db19b112-125c-4a46-de34-80ae7964c1b0"
      },
      "source": [
        "s1 & s2"
      ],
      "execution_count": null,
      "outputs": [
        {
          "output_type": "execute_result",
          "data": {
            "text/plain": [
              "{4, 5, 6}"
            ]
          },
          "metadata": {
            "tags": []
          },
          "execution_count": 213
        }
      ]
    },
    {
      "cell_type": "code",
      "metadata": {
        "id": "FOST7bm9OVSd",
        "colab_type": "code",
        "colab": {},
        "outputId": "85eed291-34a8-4887-edaa-a23e490c6306"
      },
      "source": [
        "s1.intersection(s2)"
      ],
      "execution_count": null,
      "outputs": [
        {
          "output_type": "execute_result",
          "data": {
            "text/plain": [
              "{4, 5, 6}"
            ]
          },
          "metadata": {
            "tags": []
          },
          "execution_count": 214
        }
      ]
    },
    {
      "cell_type": "markdown",
      "metadata": {
        "id": "k595iQWSOVSh",
        "colab_type": "text"
      },
      "source": [
        "### 합집합"
      ]
    },
    {
      "cell_type": "code",
      "metadata": {
        "id": "dKNuY4yROVSh",
        "colab_type": "code",
        "colab": {},
        "outputId": "2217ebcc-abcc-44cc-c7bd-e5ddfb0d489a"
      },
      "source": [
        "s1 | s2"
      ],
      "execution_count": null,
      "outputs": [
        {
          "output_type": "execute_result",
          "data": {
            "text/plain": [
              "{1, 2, 3, 4, 5, 6, 7, 8, 9}"
            ]
          },
          "metadata": {
            "tags": []
          },
          "execution_count": 215
        }
      ]
    },
    {
      "cell_type": "code",
      "metadata": {
        "id": "xzoo1GWfOVSi",
        "colab_type": "code",
        "colab": {},
        "outputId": "33197e63-53ae-47d0-e298-e6f155c8fd66"
      },
      "source": [
        "s1.union(s2)"
      ],
      "execution_count": null,
      "outputs": [
        {
          "output_type": "execute_result",
          "data": {
            "text/plain": [
              "{1, 2, 3, 4, 5, 6, 7, 8, 9}"
            ]
          },
          "metadata": {
            "tags": []
          },
          "execution_count": 216
        }
      ]
    },
    {
      "cell_type": "markdown",
      "metadata": {
        "id": "iWGxy1f9OVSj",
        "colab_type": "text"
      },
      "source": [
        "### 차집합"
      ]
    },
    {
      "cell_type": "code",
      "metadata": {
        "id": "6-qBmX2iOVSj",
        "colab_type": "code",
        "colab": {},
        "outputId": "d2b031d8-0089-4ae7-b202-af779834f703"
      },
      "source": [
        "s1 - s2"
      ],
      "execution_count": null,
      "outputs": [
        {
          "output_type": "execute_result",
          "data": {
            "text/plain": [
              "{1, 2, 3}"
            ]
          },
          "metadata": {
            "tags": []
          },
          "execution_count": 217
        }
      ]
    },
    {
      "cell_type": "code",
      "metadata": {
        "id": "8JqX8allOVSk",
        "colab_type": "code",
        "colab": {},
        "outputId": "a8736b14-4050-4b3d-fa5d-2c4f5b7500ca"
      },
      "source": [
        "s1.difference(s2)"
      ],
      "execution_count": null,
      "outputs": [
        {
          "output_type": "execute_result",
          "data": {
            "text/plain": [
              "{1, 2, 3}"
            ]
          },
          "metadata": {
            "tags": []
          },
          "execution_count": 218
        }
      ]
    },
    {
      "cell_type": "code",
      "metadata": {
        "id": "twDvdwfJOVSl",
        "colab_type": "code",
        "colab": {},
        "outputId": "269b9726-6cc9-461f-867b-705dbda0f389"
      },
      "source": [
        "s2 - s1"
      ],
      "execution_count": null,
      "outputs": [
        {
          "output_type": "execute_result",
          "data": {
            "text/plain": [
              "{7, 8, 9}"
            ]
          },
          "metadata": {
            "tags": []
          },
          "execution_count": 219
        }
      ]
    },
    {
      "cell_type": "code",
      "metadata": {
        "id": "OuLedgc4OVSn",
        "colab_type": "code",
        "colab": {},
        "outputId": "3036445b-4285-4405-bad7-5ea7b6254e39"
      },
      "source": [
        "s2.difference(s1)"
      ],
      "execution_count": null,
      "outputs": [
        {
          "output_type": "execute_result",
          "data": {
            "text/plain": [
              "{7, 8, 9}"
            ]
          },
          "metadata": {
            "tags": []
          },
          "execution_count": 220
        }
      ]
    },
    {
      "cell_type": "markdown",
      "metadata": {
        "id": "0ho7iwC0OVSo",
        "colab_type": "text"
      },
      "source": [
        "###  집합 자료형 관련 함수 "
      ]
    },
    {
      "cell_type": "code",
      "metadata": {
        "id": "cJYdccEEOVSo",
        "colab_type": "code",
        "colab": {}
      },
      "source": [
        "s1 = set([1,2,3])"
      ],
      "execution_count": null,
      "outputs": []
    },
    {
      "cell_type": "code",
      "metadata": {
        "id": "RZApIINGOVSp",
        "colab_type": "code",
        "colab": {}
      },
      "source": [
        "s1.add(4)"
      ],
      "execution_count": null,
      "outputs": []
    },
    {
      "cell_type": "code",
      "metadata": {
        "id": "zK0Z_H5eOVSq",
        "colab_type": "code",
        "colab": {},
        "outputId": "fae5a395-db36-4861-fe1e-814b62a2b6b2"
      },
      "source": [
        "s1"
      ],
      "execution_count": null,
      "outputs": [
        {
          "output_type": "execute_result",
          "data": {
            "text/plain": [
              "{1, 2, 3, 4}"
            ]
          },
          "metadata": {
            "tags": []
          },
          "execution_count": 223
        }
      ]
    },
    {
      "cell_type": "code",
      "metadata": {
        "id": "3R2YrWqzOVSq",
        "colab_type": "code",
        "colab": {}
      },
      "source": [
        "s1.update([5,6,7])"
      ],
      "execution_count": null,
      "outputs": []
    },
    {
      "cell_type": "code",
      "metadata": {
        "id": "CTcrzoS0OVSr",
        "colab_type": "code",
        "colab": {},
        "outputId": "5dcb072e-2923-4692-b7d3-c2803a450faa"
      },
      "source": [
        "s1"
      ],
      "execution_count": null,
      "outputs": [
        {
          "output_type": "execute_result",
          "data": {
            "text/plain": [
              "{1, 2, 3, 4, 5, 6, 7}"
            ]
          },
          "metadata": {
            "tags": []
          },
          "execution_count": 225
        }
      ]
    },
    {
      "cell_type": "code",
      "metadata": {
        "id": "05H8ncKqOVSt",
        "colab_type": "code",
        "colab": {}
      },
      "source": [
        "s1.remove(7)"
      ],
      "execution_count": null,
      "outputs": []
    },
    {
      "cell_type": "code",
      "metadata": {
        "id": "j4yxIn6XOVSu",
        "colab_type": "code",
        "colab": {},
        "outputId": "4e2a7728-2998-4f47-9ddc-9ccf881440e4"
      },
      "source": [
        "s1"
      ],
      "execution_count": null,
      "outputs": [
        {
          "output_type": "execute_result",
          "data": {
            "text/plain": [
              "{1, 2, 3, 4, 5, 6}"
            ]
          },
          "metadata": {
            "tags": []
          },
          "execution_count": 227
        }
      ]
    },
    {
      "cell_type": "markdown",
      "metadata": {
        "id": "d82dI86EOVSv",
        "colab_type": "text"
      },
      "source": [
        "## 불 자료형"
      ]
    },
    {
      "cell_type": "markdown",
      "metadata": {
        "id": "WQ-19YM5ewli",
        "colab_type": "text"
      },
      "source": [
        "불(bool)자료형이란 참(True),거짓(False)을 나타내는 자료형이다"
      ]
    },
    {
      "cell_type": "code",
      "metadata": {
        "id": "8Az5d7iqOVSv",
        "colab_type": "code",
        "colab": {}
      },
      "source": [
        "a = True"
      ],
      "execution_count": null,
      "outputs": []
    },
    {
      "cell_type": "code",
      "metadata": {
        "id": "s6sqnBYXOVSw",
        "colab_type": "code",
        "colab": {},
        "outputId": "77d1a324-6f46-4113-b5f3-134cf2710830"
      },
      "source": [
        "a"
      ],
      "execution_count": null,
      "outputs": [
        {
          "output_type": "execute_result",
          "data": {
            "text/plain": [
              "True"
            ]
          },
          "metadata": {
            "tags": []
          },
          "execution_count": 229
        }
      ]
    },
    {
      "cell_type": "code",
      "metadata": {
        "id": "lgtQdKE4OVSx",
        "colab_type": "code",
        "colab": {}
      },
      "source": [
        "b = False"
      ],
      "execution_count": null,
      "outputs": []
    },
    {
      "cell_type": "code",
      "metadata": {
        "id": "15vD7ByqOVSx",
        "colab_type": "code",
        "colab": {},
        "outputId": "413b72a3-2f90-4072-c368-c46a27f529d1"
      },
      "source": [
        "b"
      ],
      "execution_count": null,
      "outputs": [
        {
          "output_type": "execute_result",
          "data": {
            "text/plain": [
              "False"
            ]
          },
          "metadata": {
            "tags": []
          },
          "execution_count": 233
        }
      ]
    },
    {
      "cell_type": "code",
      "metadata": {
        "id": "qvQqkIAGOVSy",
        "colab_type": "code",
        "colab": {},
        "outputId": "85f1f41e-3eec-4e4d-8deb-00cce4d978a6"
      },
      "source": [
        "type(a)"
      ],
      "execution_count": null,
      "outputs": [
        {
          "output_type": "execute_result",
          "data": {
            "text/plain": [
              "bool"
            ]
          },
          "metadata": {
            "tags": []
          },
          "execution_count": 234
        }
      ]
    },
    {
      "cell_type": "code",
      "metadata": {
        "id": "64F2dVAdOVSz",
        "colab_type": "code",
        "colab": {},
        "outputId": "32c8f437-be95-42c7-93b7-d1f5d6ef63ab"
      },
      "source": [
        "1==1"
      ],
      "execution_count": null,
      "outputs": [
        {
          "output_type": "execute_result",
          "data": {
            "text/plain": [
              "True"
            ]
          },
          "metadata": {
            "tags": []
          },
          "execution_count": 235
        }
      ]
    },
    {
      "cell_type": "code",
      "metadata": {
        "id": "_ZuOKtPPOVS0",
        "colab_type": "code",
        "colab": {},
        "outputId": "17ee34a9-f35c-47ad-fe4d-26eafb1c2110"
      },
      "source": [
        "2>1"
      ],
      "execution_count": null,
      "outputs": [
        {
          "output_type": "execute_result",
          "data": {
            "text/plain": [
              "True"
            ]
          },
          "metadata": {
            "tags": []
          },
          "execution_count": 236
        }
      ]
    },
    {
      "cell_type": "code",
      "metadata": {
        "id": "lKKr1wnPOVS1",
        "colab_type": "code",
        "colab": {},
        "outputId": "93077a8f-9c5e-40fe-c186-60387da285d0"
      },
      "source": [
        "2<1"
      ],
      "execution_count": null,
      "outputs": [
        {
          "output_type": "execute_result",
          "data": {
            "text/plain": [
              "False"
            ]
          },
          "metadata": {
            "tags": []
          },
          "execution_count": 237
        }
      ]
    },
    {
      "cell_type": "code",
      "metadata": {
        "id": "DlFKMrEgOVS2",
        "colab_type": "code",
        "colab": {},
        "outputId": "754dfb53-9928-4ac8-a38d-aac7689d5e2d"
      },
      "source": [
        "a = [1,2,3,4]\n",
        "while a:\n",
        "    print(a.pop())"
      ],
      "execution_count": null,
      "outputs": [
        {
          "output_type": "stream",
          "text": [
            "4\n",
            "3\n",
            "2\n",
            "1\n"
          ],
          "name": "stdout"
        }
      ]
    },
    {
      "cell_type": "code",
      "metadata": {
        "id": "i9my76ceOVS2",
        "colab_type": "code",
        "colab": {},
        "outputId": "c5487b8e-c986-484c-d137-f6133b7b1085"
      },
      "source": [
        "if []:\n",
        "    print(\"참\")\n",
        "else : \n",
        "    print(\"거짓\")"
      ],
      "execution_count": null,
      "outputs": [
        {
          "output_type": "stream",
          "text": [
            "거짓\n"
          ],
          "name": "stdout"
        }
      ]
    },
    {
      "cell_type": "code",
      "metadata": {
        "id": "njch6-wBOVS3",
        "colab_type": "code",
        "colab": {},
        "outputId": "6a62bb0f-6e51-45a2-861e-89517a7686fd"
      },
      "source": [
        "if [1,2,3]:\n",
        "    print(\"참\")\n",
        "else : \n",
        "    print(\"거짓\")"
      ],
      "execution_count": null,
      "outputs": [
        {
          "output_type": "stream",
          "text": [
            "참\n"
          ],
          "name": "stdout"
        }
      ]
    },
    {
      "cell_type": "code",
      "metadata": {
        "id": "Ar6k-TvCOVS4",
        "colab_type": "code",
        "colab": {},
        "outputId": "7b007e81-ac95-45ee-f738-104353b8f412"
      },
      "source": [
        "bool('python')"
      ],
      "execution_count": null,
      "outputs": [
        {
          "output_type": "execute_result",
          "data": {
            "text/plain": [
              "True"
            ]
          },
          "metadata": {
            "tags": []
          },
          "execution_count": 242
        }
      ]
    },
    {
      "cell_type": "code",
      "metadata": {
        "id": "PHsFLZS_OVS4",
        "colab_type": "code",
        "colab": {},
        "outputId": "5164b3bf-d9b4-416d-b521-b6fdf9500ef5"
      },
      "source": [
        "bool('')"
      ],
      "execution_count": null,
      "outputs": [
        {
          "output_type": "execute_result",
          "data": {
            "text/plain": [
              "False"
            ]
          },
          "metadata": {
            "tags": []
          },
          "execution_count": 243
        }
      ]
    },
    {
      "cell_type": "code",
      "metadata": {
        "id": "AAfE--dvOVS5",
        "colab_type": "code",
        "colab": {},
        "outputId": "0cf5d1ca-6e58-4f62-dff3-8c7ff86d3c51"
      },
      "source": [
        "bool(0)"
      ],
      "execution_count": null,
      "outputs": [
        {
          "output_type": "execute_result",
          "data": {
            "text/plain": [
              "False"
            ]
          },
          "metadata": {
            "tags": []
          },
          "execution_count": 244
        }
      ]
    },
    {
      "cell_type": "code",
      "metadata": {
        "id": "VuL_x7kBOVS5",
        "colab_type": "code",
        "colab": {},
        "outputId": "5dfc2d69-a1b6-4b4e-b29b-22728bc2217f"
      },
      "source": [
        "bool(-1)"
      ],
      "execution_count": null,
      "outputs": [
        {
          "output_type": "execute_result",
          "data": {
            "text/plain": [
              "True"
            ]
          },
          "metadata": {
            "tags": []
          },
          "execution_count": 245
        }
      ]
    },
    {
      "cell_type": "markdown",
      "metadata": {
        "id": "RceV_wn3OVS7",
        "colab_type": "text"
      },
      "source": [
        "## 자료형의 값을 저장하는 공간, 변수"
      ]
    },
    {
      "cell_type": "code",
      "metadata": {
        "id": "5TJt_B1cOVS7",
        "colab_type": "code",
        "colab": {}
      },
      "source": [
        "a = 1"
      ],
      "execution_count": null,
      "outputs": []
    },
    {
      "cell_type": "code",
      "metadata": {
        "id": "x5Gz_LLkOVS7",
        "colab_type": "code",
        "colab": {},
        "outputId": "53b9f871-1e82-47b1-e1ba-06115d5d944e"
      },
      "source": [
        "type(a)"
      ],
      "execution_count": null,
      "outputs": [
        {
          "output_type": "execute_result",
          "data": {
            "text/plain": [
              "int"
            ]
          },
          "metadata": {
            "tags": []
          },
          "execution_count": 249
        }
      ]
    },
    {
      "cell_type": "code",
      "metadata": {
        "id": "ZXTvJ8EFOVS8",
        "colab_type": "code",
        "colab": {}
      },
      "source": [
        "b = \"python\""
      ],
      "execution_count": null,
      "outputs": []
    },
    {
      "cell_type": "code",
      "metadata": {
        "id": "eL1EhwGkOVS9",
        "colab_type": "code",
        "colab": {},
        "outputId": "1ff5ae71-433e-4a11-d649-9f213f079c68"
      },
      "source": [
        "type(b)"
      ],
      "execution_count": null,
      "outputs": [
        {
          "output_type": "execute_result",
          "data": {
            "text/plain": [
              "str"
            ]
          },
          "metadata": {
            "tags": []
          },
          "execution_count": 251
        }
      ]
    },
    {
      "cell_type": "code",
      "metadata": {
        "id": "3W7gep6KOVS-",
        "colab_type": "code",
        "colab": {}
      },
      "source": [
        "c = [1,2,3]"
      ],
      "execution_count": null,
      "outputs": []
    },
    {
      "cell_type": "code",
      "metadata": {
        "id": "UVMQAb41OVS_",
        "colab_type": "code",
        "colab": {},
        "outputId": "249e321e-4aca-4061-ad05-5b292341f530"
      },
      "source": [
        "type(c)"
      ],
      "execution_count": null,
      "outputs": [
        {
          "output_type": "execute_result",
          "data": {
            "text/plain": [
              "list"
            ]
          },
          "metadata": {
            "tags": []
          },
          "execution_count": 253
        }
      ]
    },
    {
      "cell_type": "markdown",
      "metadata": {
        "id": "9nrO9aRROVTB",
        "colab_type": "text"
      },
      "source": [
        "### 변수란?"
      ]
    },
    {
      "cell_type": "code",
      "metadata": {
        "id": "HBsqF9nwOVTB",
        "colab_type": "code",
        "colab": {}
      },
      "source": [
        "a = [1,2,3]"
      ],
      "execution_count": null,
      "outputs": []
    },
    {
      "cell_type": "code",
      "metadata": {
        "id": "TcHnkR7TOVTC",
        "colab_type": "code",
        "colab": {},
        "outputId": "8cda4521-c2e5-48c0-a36c-30eb0f90d013"
      },
      "source": [
        "id(a)"
      ],
      "execution_count": null,
      "outputs": [
        {
          "output_type": "execute_result",
          "data": {
            "text/plain": [
              "2910374379464"
            ]
          },
          "metadata": {
            "tags": []
          },
          "execution_count": 255
        }
      ]
    },
    {
      "cell_type": "code",
      "metadata": {
        "id": "DPF9LCj3OVTC",
        "colab_type": "code",
        "colab": {}
      },
      "source": [
        "b = a"
      ],
      "execution_count": null,
      "outputs": []
    },
    {
      "cell_type": "code",
      "metadata": {
        "id": "gMpsksI5OVTD",
        "colab_type": "code",
        "colab": {},
        "outputId": "e1a70d72-b50a-45dd-887a-057be45332e5"
      },
      "source": [
        "a"
      ],
      "execution_count": null,
      "outputs": [
        {
          "output_type": "execute_result",
          "data": {
            "text/plain": [
              "[1, 2, 3]"
            ]
          },
          "metadata": {
            "tags": []
          },
          "execution_count": 257
        }
      ]
    },
    {
      "cell_type": "code",
      "metadata": {
        "id": "CC2eBf4IOVTE",
        "colab_type": "code",
        "colab": {},
        "outputId": "695985f9-4803-4761-90d7-cdbab9413372"
      },
      "source": [
        "b"
      ],
      "execution_count": null,
      "outputs": [
        {
          "output_type": "execute_result",
          "data": {
            "text/plain": [
              "[1, 2, 3]"
            ]
          },
          "metadata": {
            "tags": []
          },
          "execution_count": 258
        }
      ]
    },
    {
      "cell_type": "code",
      "metadata": {
        "id": "ki1d704OOVTF",
        "colab_type": "code",
        "colab": {}
      },
      "source": [
        "a[2]=4"
      ],
      "execution_count": null,
      "outputs": []
    },
    {
      "cell_type": "code",
      "metadata": {
        "id": "njQ1kkjGOVTG",
        "colab_type": "code",
        "colab": {},
        "outputId": "835da963-a550-409f-880e-6fbc631060ca"
      },
      "source": [
        "a"
      ],
      "execution_count": null,
      "outputs": [
        {
          "output_type": "execute_result",
          "data": {
            "text/plain": [
              "[1, 2, 4]"
            ]
          },
          "metadata": {
            "tags": []
          },
          "execution_count": 260
        }
      ]
    },
    {
      "cell_type": "code",
      "metadata": {
        "id": "NPxQgNHQOVTH",
        "colab_type": "code",
        "colab": {},
        "outputId": "16d351e8-808d-4975-ec60-649ae234dec6"
      },
      "source": [
        "b"
      ],
      "execution_count": null,
      "outputs": [
        {
          "output_type": "execute_result",
          "data": {
            "text/plain": [
              "[1, 2, 4]"
            ]
          },
          "metadata": {
            "tags": []
          },
          "execution_count": 261
        }
      ]
    },
    {
      "cell_type": "code",
      "metadata": {
        "id": "s57FgN5EOVTH",
        "colab_type": "code",
        "colab": {},
        "outputId": "0610d609-835d-46d9-dda4-b71192c02dad"
      },
      "source": [
        "id(a)"
      ],
      "execution_count": null,
      "outputs": [
        {
          "output_type": "execute_result",
          "data": {
            "text/plain": [
              "2910374379464"
            ]
          },
          "metadata": {
            "tags": []
          },
          "execution_count": 262
        }
      ]
    },
    {
      "cell_type": "code",
      "metadata": {
        "id": "v2UbfXJvOVTI",
        "colab_type": "code",
        "colab": {},
        "outputId": "7bb7d2e2-808a-4af5-d2b2-6fcd1ff05ef0"
      },
      "source": [
        "id(b)"
      ],
      "execution_count": null,
      "outputs": [
        {
          "output_type": "execute_result",
          "data": {
            "text/plain": [
              "2910374379464"
            ]
          },
          "metadata": {
            "tags": []
          },
          "execution_count": 263
        }
      ]
    },
    {
      "cell_type": "code",
      "metadata": {
        "id": "W1S4AOmkOVTJ",
        "colab_type": "code",
        "colab": {},
        "outputId": "b4183721-a1be-4ad6-cd80-da859153ef70"
      },
      "source": [
        "a is b"
      ],
      "execution_count": null,
      "outputs": [
        {
          "output_type": "execute_result",
          "data": {
            "text/plain": [
              "True"
            ]
          },
          "metadata": {
            "tags": []
          },
          "execution_count": 264
        }
      ]
    },
    {
      "cell_type": "markdown",
      "metadata": {
        "id": "3slQaN3SOVTJ",
        "colab_type": "text"
      },
      "source": [
        "### 리스트 deep copy 방법"
      ]
    },
    {
      "cell_type": "code",
      "metadata": {
        "id": "zCH0rY7XOVTJ",
        "colab_type": "code",
        "colab": {}
      },
      "source": [
        "a = [1,2,3]\n",
        "b = a[:]"
      ],
      "execution_count": null,
      "outputs": []
    },
    {
      "cell_type": "code",
      "metadata": {
        "id": "F2LzVjkxOVTK",
        "colab_type": "code",
        "colab": {},
        "outputId": "b1a96ecd-86c3-49d0-b149-d8ee55fc7b72"
      },
      "source": [
        "id(a)"
      ],
      "execution_count": null,
      "outputs": [
        {
          "output_type": "execute_result",
          "data": {
            "text/plain": [
              "2910374350472"
            ]
          },
          "metadata": {
            "tags": []
          },
          "execution_count": 266
        }
      ]
    },
    {
      "cell_type": "code",
      "metadata": {
        "id": "VHK561p1OVTK",
        "colab_type": "code",
        "colab": {},
        "outputId": "53bd5ca0-55b5-44f9-d4d0-dfd92131c6f3"
      },
      "source": [
        "id(b)"
      ],
      "execution_count": null,
      "outputs": [
        {
          "output_type": "execute_result",
          "data": {
            "text/plain": [
              "2910374493192"
            ]
          },
          "metadata": {
            "tags": []
          },
          "execution_count": 267
        }
      ]
    },
    {
      "cell_type": "code",
      "metadata": {
        "id": "NCE3nGNmOVTL",
        "colab_type": "code",
        "colab": {},
        "outputId": "af7596a7-810f-4631-bdab-526e6858377b"
      },
      "source": [
        "a[2] = 4\n",
        "a"
      ],
      "execution_count": null,
      "outputs": [
        {
          "output_type": "execute_result",
          "data": {
            "text/plain": [
              "[1, 2, 4]"
            ]
          },
          "metadata": {
            "tags": []
          },
          "execution_count": 268
        }
      ]
    },
    {
      "cell_type": "code",
      "metadata": {
        "id": "0MPMozOpOVTL",
        "colab_type": "code",
        "colab": {},
        "outputId": "f427d584-cd86-4957-cdd7-c91c3395b4c4"
      },
      "source": [
        "b"
      ],
      "execution_count": null,
      "outputs": [
        {
          "output_type": "execute_result",
          "data": {
            "text/plain": [
              "[1, 2, 3]"
            ]
          },
          "metadata": {
            "tags": []
          },
          "execution_count": 269
        }
      ]
    },
    {
      "cell_type": "code",
      "metadata": {
        "id": "q22_apBbOVTM",
        "colab_type": "code",
        "colab": {}
      },
      "source": [
        "from copy import copy\n",
        "a = [1,2,3]\n",
        "b = copy(a)"
      ],
      "execution_count": null,
      "outputs": []
    },
    {
      "cell_type": "code",
      "metadata": {
        "id": "KWw6MVsmOVTN",
        "colab_type": "code",
        "colab": {},
        "outputId": "cd7572f3-715b-4d71-d891-bd7227efe1b5"
      },
      "source": [
        "a[2]=4\n",
        "a"
      ],
      "execution_count": null,
      "outputs": [
        {
          "output_type": "execute_result",
          "data": {
            "text/plain": [
              "[1, 2, 4]"
            ]
          },
          "metadata": {
            "tags": []
          },
          "execution_count": 272
        }
      ]
    },
    {
      "cell_type": "code",
      "metadata": {
        "id": "_GUbX1bjOVTO",
        "colab_type": "code",
        "colab": {},
        "outputId": "64650f0a-6968-4b4f-94c1-2987f01c59d7"
      },
      "source": [
        "b"
      ],
      "execution_count": null,
      "outputs": [
        {
          "output_type": "execute_result",
          "data": {
            "text/plain": [
              "[1, 2, 3]"
            ]
          },
          "metadata": {
            "tags": []
          },
          "execution_count": 274
        }
      ]
    },
    {
      "cell_type": "code",
      "metadata": {
        "id": "ryrkodpeOVTP",
        "colab_type": "code",
        "colab": {}
      },
      "source": [
        "a,b = ('python', 'life')"
      ],
      "execution_count": null,
      "outputs": []
    },
    {
      "cell_type": "code",
      "metadata": {
        "id": "70H6ESjeOVTT",
        "colab_type": "code",
        "colab": {},
        "outputId": "ad6fe559-6e8d-4e61-d6b6-d0a00984206a"
      },
      "source": [
        "a"
      ],
      "execution_count": null,
      "outputs": [
        {
          "output_type": "execute_result",
          "data": {
            "text/plain": [
              "'python'"
            ]
          },
          "metadata": {
            "tags": []
          },
          "execution_count": 276
        }
      ]
    },
    {
      "cell_type": "code",
      "metadata": {
        "id": "pFu5Q4zQOVTU",
        "colab_type": "code",
        "colab": {},
        "outputId": "d30b1417-17c5-4de2-a0cd-cd39ea897e72"
      },
      "source": [
        "b"
      ],
      "execution_count": null,
      "outputs": [
        {
          "output_type": "execute_result",
          "data": {
            "text/plain": [
              "'life'"
            ]
          },
          "metadata": {
            "tags": []
          },
          "execution_count": 277
        }
      ]
    },
    {
      "cell_type": "code",
      "metadata": {
        "id": "Y5Ni7UjDOVTU",
        "colab_type": "code",
        "colab": {}
      },
      "source": [
        "[a,b] = ('python', 'life')"
      ],
      "execution_count": null,
      "outputs": []
    },
    {
      "cell_type": "code",
      "metadata": {
        "id": "aVVwyVj0OVTV",
        "colab_type": "code",
        "colab": {},
        "outputId": "b5386d91-7ec9-4606-ab2c-ae974b9f6c80"
      },
      "source": [
        "a"
      ],
      "execution_count": null,
      "outputs": [
        {
          "output_type": "execute_result",
          "data": {
            "text/plain": [
              "'python'"
            ]
          },
          "metadata": {
            "tags": []
          },
          "execution_count": 279
        }
      ]
    },
    {
      "cell_type": "code",
      "metadata": {
        "id": "zDGhz0lwOVTV",
        "colab_type": "code",
        "colab": {},
        "outputId": "18376ade-08d5-4f5d-bfa6-79ba7378c063"
      },
      "source": [
        "b"
      ],
      "execution_count": null,
      "outputs": [
        {
          "output_type": "execute_result",
          "data": {
            "text/plain": [
              "'life'"
            ]
          },
          "metadata": {
            "tags": []
          },
          "execution_count": 280
        }
      ]
    },
    {
      "cell_type": "code",
      "metadata": {
        "id": "rzthHDB6OVTW",
        "colab_type": "code",
        "colab": {}
      },
      "source": [
        "a = b = 'python'"
      ],
      "execution_count": null,
      "outputs": []
    },
    {
      "cell_type": "code",
      "metadata": {
        "id": "chNLHGfqOVTW",
        "colab_type": "code",
        "colab": {},
        "outputId": "aa5b5e3a-77ca-4c7c-afd4-6908fc9b742c"
      },
      "source": [
        "a"
      ],
      "execution_count": null,
      "outputs": [
        {
          "output_type": "execute_result",
          "data": {
            "text/plain": [
              "'python'"
            ]
          },
          "metadata": {
            "tags": []
          },
          "execution_count": 282
        }
      ]
    },
    {
      "cell_type": "code",
      "metadata": {
        "id": "9Wf-mwXxOVTX",
        "colab_type": "code",
        "colab": {},
        "outputId": "89d0c659-81eb-478d-a571-271851f23273"
      },
      "source": [
        "b"
      ],
      "execution_count": null,
      "outputs": [
        {
          "output_type": "execute_result",
          "data": {
            "text/plain": [
              "'python'"
            ]
          },
          "metadata": {
            "tags": []
          },
          "execution_count": 283
        }
      ]
    },
    {
      "cell_type": "code",
      "metadata": {
        "id": "KtgESfCeOVTY",
        "colab_type": "code",
        "colab": {}
      },
      "source": [
        "a = 3\n",
        "b = 5\n",
        "a,b = b,a"
      ],
      "execution_count": null,
      "outputs": []
    },
    {
      "cell_type": "code",
      "metadata": {
        "id": "2M43mf90OVTY",
        "colab_type": "code",
        "colab": {},
        "outputId": "9bedb61f-ac44-4915-a440-209f97fce853"
      },
      "source": [
        "a"
      ],
      "execution_count": null,
      "outputs": [
        {
          "output_type": "execute_result",
          "data": {
            "text/plain": [
              "5"
            ]
          },
          "metadata": {
            "tags": []
          },
          "execution_count": 286
        }
      ]
    },
    {
      "cell_type": "code",
      "metadata": {
        "id": "bopoNJlzOVTZ",
        "colab_type": "code",
        "colab": {},
        "outputId": "347284bf-00e8-47e8-c964-d8f698926cb4"
      },
      "source": [
        "b"
      ],
      "execution_count": null,
      "outputs": [
        {
          "output_type": "execute_result",
          "data": {
            "text/plain": [
              "3"
            ]
          },
          "metadata": {
            "tags": []
          },
          "execution_count": 287
        }
      ]
    },
    {
      "cell_type": "markdown",
      "metadata": {
        "id": "GvzIs-AOOVTZ",
        "colab_type": "text"
      },
      "source": [
        "## if문"
      ]
    },
    {
      "cell_type": "code",
      "metadata": {
        "id": "7dovSA-FOVTZ",
        "colab_type": "code",
        "colab": {},
        "outputId": "9fe71d23-cd2b-4faa-feb3-17ff5a56f9a9"
      },
      "source": [
        "money = True \n",
        "if money:\n",
        "    print('택시를 타고 가라')\n",
        "else :\n",
        "    print(\"걸어 가라\")\n",
        "    \n",
        "    "
      ],
      "execution_count": null,
      "outputs": [
        {
          "output_type": "stream",
          "text": [
            "택시를 타고 가라\n"
          ],
          "name": "stdout"
        }
      ]
    },
    {
      "cell_type": "code",
      "metadata": {
        "id": "Fz0seY50OVTa",
        "colab_type": "code",
        "colab": {},
        "outputId": "b5203211-e077-4035-fc26-4c1a9f54bb51"
      },
      "source": [
        "money = 2000\n",
        "if money>=3000:\n",
        "    print('택시를 타고 가라')\n",
        "else :\n",
        "    print(\"걸어 가라\")"
      ],
      "execution_count": null,
      "outputs": [
        {
          "output_type": "stream",
          "text": [
            "걸어 가라\n"
          ],
          "name": "stdout"
        }
      ]
    },
    {
      "cell_type": "code",
      "metadata": {
        "id": "OuthJl9mOVTa",
        "colab_type": "code",
        "colab": {},
        "outputId": "5ff34aad-3628-4dea-8e49-0bb9c830dc38"
      },
      "source": [
        "money = 2000\n",
        "card = False\n",
        "if money>=3000 or card:\n",
        "    print('택시를 타고 가라')\n",
        "else :\n",
        "    print(\"걸어 가라\")"
      ],
      "execution_count": null,
      "outputs": [
        {
          "output_type": "stream",
          "text": [
            "걸어 가라\n"
          ],
          "name": "stdout"
        }
      ]
    },
    {
      "cell_type": "code",
      "metadata": {
        "id": "Jk_6dyq7OVTb",
        "colab_type": "code",
        "colab": {},
        "outputId": "2a78e579-fd78-4f50-95b2-fc13fc82194e"
      },
      "source": [
        "1 in [1,2,3]"
      ],
      "execution_count": null,
      "outputs": [
        {
          "output_type": "execute_result",
          "data": {
            "text/plain": [
              "True"
            ]
          },
          "metadata": {
            "tags": []
          },
          "execution_count": 295
        }
      ]
    },
    {
      "cell_type": "code",
      "metadata": {
        "id": "pWXavlhXOVTc",
        "colab_type": "code",
        "colab": {},
        "outputId": "93f8e09f-af6a-4f35-ed07-e863c9f1438a"
      },
      "source": [
        "1 not in [1,2,3]"
      ],
      "execution_count": null,
      "outputs": [
        {
          "output_type": "execute_result",
          "data": {
            "text/plain": [
              "False"
            ]
          },
          "metadata": {
            "tags": []
          },
          "execution_count": 296
        }
      ]
    },
    {
      "cell_type": "code",
      "metadata": {
        "id": "ULxRb73dOVTd",
        "colab_type": "code",
        "colab": {},
        "outputId": "09bcced2-232c-4e64-9435-8766d5b554f4"
      },
      "source": [
        "4 not in [1,2,3]"
      ],
      "execution_count": null,
      "outputs": [
        {
          "output_type": "execute_result",
          "data": {
            "text/plain": [
              "True"
            ]
          },
          "metadata": {
            "tags": []
          },
          "execution_count": 297
        }
      ]
    },
    {
      "cell_type": "code",
      "metadata": {
        "id": "sEcWf--9OVTe",
        "colab_type": "code",
        "colab": {},
        "outputId": "9b0e9c31-15fe-424f-f588-7751005182b9"
      },
      "source": [
        "'a' in ['a','b','c']"
      ],
      "execution_count": null,
      "outputs": [
        {
          "output_type": "execute_result",
          "data": {
            "text/plain": [
              "True"
            ]
          },
          "metadata": {
            "tags": []
          },
          "execution_count": 298
        }
      ]
    },
    {
      "cell_type": "code",
      "metadata": {
        "id": "yK3IzQBaOVTe",
        "colab_type": "code",
        "colab": {},
        "outputId": "16c169d0-8b26-4687-ccaa-1789eac47fbe"
      },
      "source": [
        "'j' not in 'python'"
      ],
      "execution_count": null,
      "outputs": [
        {
          "output_type": "execute_result",
          "data": {
            "text/plain": [
              "True"
            ]
          },
          "metadata": {
            "tags": []
          },
          "execution_count": 299
        }
      ]
    },
    {
      "cell_type": "code",
      "metadata": {
        "id": "888GPN1kOVTf",
        "colab_type": "code",
        "colab": {},
        "outputId": "67a6cdef-9ca1-437c-b1ce-62de6349a14f"
      },
      "source": [
        "pocket = ['paer', 'cellphone', 'money']\n",
        "\n",
        "if 'money' in pocket:\n",
        "    print('택시를 타고 가라')\n",
        "else : \n",
        "    print(\"걸어 가라\")"
      ],
      "execution_count": null,
      "outputs": [
        {
          "output_type": "stream",
          "text": [
            "택시를 타고 가라\n"
          ],
          "name": "stdout"
        }
      ]
    },
    {
      "cell_type": "code",
      "metadata": {
        "id": "DrwFjWI0OVTf",
        "colab_type": "code",
        "colab": {}
      },
      "source": [
        "pocket = ['paper', 'cellphone', 'money']\n",
        "\n",
        "if 'money' in pocket:\n",
        "    pass\n",
        "else : \n",
        "    print(\"걸어 가라\")"
      ],
      "execution_count": null,
      "outputs": []
    },
    {
      "cell_type": "code",
      "metadata": {
        "id": "vpHv3pYgOVTg",
        "colab_type": "code",
        "colab": {},
        "outputId": "23271021-3843-465d-de0b-042050c6a760"
      },
      "source": [
        "pocket = ['paper', 'cellphone']\n",
        "card = True\n",
        "if 'money' in pocket:\n",
        "    print('택시를 타고 가라')\n",
        "else : \n",
        "    if card : \n",
        "        print('택시를 타고 가라')\n",
        "    else:\n",
        "        print(\"걸어 가라\")"
      ],
      "execution_count": null,
      "outputs": [
        {
          "output_type": "stream",
          "text": [
            "택시를 타고 가라\n"
          ],
          "name": "stdout"
        }
      ]
    },
    {
      "cell_type": "code",
      "metadata": {
        "id": "TxBr3XhAOVTh",
        "colab_type": "code",
        "colab": {},
        "outputId": "0786d746-1ddd-4cfc-922c-e2e08f693dc7"
      },
      "source": [
        "pocket = ['paper', 'cellphone']\n",
        "card = False\n",
        "if 'money' in pocket:\n",
        "    print('택시를 타고 가라')\n",
        "elif card : \n",
        "    print('택시를 타고 가라')\n",
        "else:\n",
        "    print(\"걸어 가라\")"
      ],
      "execution_count": null,
      "outputs": [
        {
          "output_type": "stream",
          "text": [
            "걸어 가라\n"
          ],
          "name": "stdout"
        }
      ]
    },
    {
      "cell_type": "code",
      "metadata": {
        "id": "E-hiwCxFOVTh",
        "colab_type": "code",
        "colab": {}
      },
      "source": [
        "score = 80\n",
        "\n",
        "if score >= 60:\n",
        "    message = 'success'\n",
        "else:\n",
        "    message = 'failure'"
      ],
      "execution_count": null,
      "outputs": []
    },
    {
      "cell_type": "code",
      "metadata": {
        "id": "tr3PTde3OVTi",
        "colab_type": "code",
        "colab": {},
        "outputId": "b414c463-dbf4-426d-efd4-ec01f4c72897"
      },
      "source": [
        "message"
      ],
      "execution_count": null,
      "outputs": [
        {
          "output_type": "execute_result",
          "data": {
            "text/plain": [
              "'success'"
            ]
          },
          "metadata": {
            "tags": []
          },
          "execution_count": 306
        }
      ]
    },
    {
      "cell_type": "code",
      "metadata": {
        "id": "UrfKyU7zOVTi",
        "colab_type": "code",
        "colab": {}
      },
      "source": [
        "message = \"success\" if score>=60 else \"failure\""
      ],
      "execution_count": null,
      "outputs": []
    },
    {
      "cell_type": "markdown",
      "metadata": {
        "id": "ooLek4ihgBSM",
        "colab_type": "text"
      },
      "source": [
        "조건문의 참,거짓에 따라 실행할 행동을 정의할 때, 아무런 일도 하지 않도록 설정하고 싶을 때에는 ***PASS***를 사용하면 된다"
      ]
    },
    {
      "cell_type": "markdown",
      "metadata": {
        "id": "-RsWGl_tOVTj",
        "colab_type": "text"
      },
      "source": [
        "## while 문"
      ]
    },
    {
      "cell_type": "code",
      "metadata": {
        "id": "FxUinJRoOVTj",
        "colab_type": "code",
        "colab": {},
        "outputId": "ac040b7e-3831-499f-c90f-f5d3f8709fae"
      },
      "source": [
        "treeHit = 0\n",
        "while treeHit < 10:\n",
        "    treeHit = treeHit + 1\n",
        "    print(\"나무를 %d번 찍었습니다\"% treeHit)\n",
        "    if treeHit == 10:\n",
        "        print(\"나무 넘어갑니다\")"
      ],
      "execution_count": null,
      "outputs": [
        {
          "output_type": "stream",
          "text": [
            "나무를 1번 찍었습니다\n",
            "나무를 2번 찍었습니다\n",
            "나무를 3번 찍었습니다\n",
            "나무를 4번 찍었습니다\n",
            "나무를 5번 찍었습니다\n",
            "나무를 6번 찍었습니다\n",
            "나무를 7번 찍었습니다\n",
            "나무를 8번 찍었습니다\n",
            "나무를 9번 찍었습니다\n",
            "나무를 10번 찍었습니다\n",
            "나무 넘어갑니다\n"
          ],
          "name": "stdout"
        }
      ]
    },
    {
      "cell_type": "code",
      "metadata": {
        "id": "YAM8fhlBOVTj",
        "colab_type": "code",
        "colab": {},
        "outputId": "941d4ef8-bb1a-40d9-d6e6-fb1e4ba7c6df"
      },
      "source": [
        "prompt = \"\"\"\n",
        "1. Add\n",
        "2. Del\n",
        "3. List\n",
        "4. Quit\n",
        "\n",
        "Enter number: \"\"\"\n",
        "\n",
        "prompt"
      ],
      "execution_count": null,
      "outputs": [
        {
          "output_type": "execute_result",
          "data": {
            "text/plain": [
              "'\\n1. Add\\n2. Del\\n3. List\\n4. Quit\\n\\nEnter number: '"
            ]
          },
          "metadata": {
            "tags": []
          },
          "execution_count": 309
        }
      ]
    },
    {
      "cell_type": "code",
      "metadata": {
        "id": "S4ZfakVMOVTk",
        "colab_type": "code",
        "colab": {},
        "outputId": "5c4a1105-0dcc-4d25-83e9-4a1c6e9677e7"
      },
      "source": [
        "number = 0\n",
        "while number != 4 :\n",
        "    print(prompt)\n",
        "    number = int(input())"
      ],
      "execution_count": null,
      "outputs": [
        {
          "output_type": "stream",
          "text": [
            "\n",
            "1. Add\n",
            "2. Del\n",
            "3. List\n",
            "4. Quit\n",
            "\n",
            "Enter number: \n",
            "1\n",
            "\n",
            "1. Add\n",
            "2. Del\n",
            "3. List\n",
            "4. Quit\n",
            "\n",
            "Enter number: \n",
            "2\n",
            "\n",
            "1. Add\n",
            "2. Del\n",
            "3. List\n",
            "4. Quit\n",
            "\n",
            "Enter number: \n",
            "3\n",
            "\n",
            "1. Add\n",
            "2. Del\n",
            "3. List\n",
            "4. Quit\n",
            "\n",
            "Enter number: \n",
            "4\n"
          ],
          "name": "stdout"
        }
      ]
    },
    {
      "cell_type": "code",
      "metadata": {
        "id": "9ldp3jrOOVTk",
        "colab_type": "code",
        "colab": {},
        "outputId": "8a34fc15-f0cd-48d5-dfc2-ef9fc631aabc"
      },
      "source": [
        "coffee = 10\n",
        "money = 300\n",
        "while money:\n",
        "    print(\"돈을 받았으니 커피를 줍니다\")\n",
        "    coffee = coffee - 1\n",
        "    print(\"남은 커피의 양은 %d개 입니다\"% coffee)\n",
        "    if coffee == 0:\n",
        "        print(\"커피가 다 떨어 졌습니다. 판매를 중지합니다.\")\n",
        "        break"
      ],
      "execution_count": null,
      "outputs": [
        {
          "output_type": "stream",
          "text": [
            "돈을 받았으니 커피를 줍니다\n",
            "남은 커피의 양은 9개 입니다\n",
            "돈을 받았으니 커피를 줍니다\n",
            "남은 커피의 양은 8개 입니다\n",
            "돈을 받았으니 커피를 줍니다\n",
            "남은 커피의 양은 7개 입니다\n",
            "돈을 받았으니 커피를 줍니다\n",
            "남은 커피의 양은 6개 입니다\n",
            "돈을 받았으니 커피를 줍니다\n",
            "남은 커피의 양은 5개 입니다\n",
            "돈을 받았으니 커피를 줍니다\n",
            "남은 커피의 양은 4개 입니다\n",
            "돈을 받았으니 커피를 줍니다\n",
            "남은 커피의 양은 3개 입니다\n",
            "돈을 받았으니 커피를 줍니다\n",
            "남은 커피의 양은 2개 입니다\n",
            "돈을 받았으니 커피를 줍니다\n",
            "남은 커피의 양은 1개 입니다\n",
            "돈을 받았으니 커피를 줍니다\n",
            "남은 커피의 양은 0개 입니다\n",
            "커피가 다 떨어 졌습니다. 판매를 중지합니다.\n"
          ],
          "name": "stdout"
        }
      ]
    },
    {
      "cell_type": "markdown",
      "metadata": {
        "id": "6eCJyjdCOVTl",
        "colab_type": "text"
      },
      "source": [
        "### while문의 맨처음으로 돌아가기 ( continue )"
      ]
    },
    {
      "cell_type": "code",
      "metadata": {
        "id": "pk8yY-7iOVTl",
        "colab_type": "code",
        "colab": {},
        "outputId": "f0160d5d-1464-439b-9973-31f376a0fea5"
      },
      "source": [
        "a = 0\n",
        "while a<10:\n",
        "    a = a+1 \n",
        "    if( a%2==0 ): \n",
        "        continue\n",
        "    print(a)"
      ],
      "execution_count": null,
      "outputs": [
        {
          "output_type": "stream",
          "text": [
            "1\n",
            "3\n",
            "5\n",
            "7\n",
            "9\n"
          ],
          "name": "stdout"
        }
      ]
    },
    {
      "cell_type": "markdown",
      "metadata": {
        "id": "MNN80jXrOVTm",
        "colab_type": "text"
      },
      "source": [
        "## for 문"
      ]
    },
    {
      "cell_type": "code",
      "metadata": {
        "id": "EkqGJGS7OVTm",
        "colab_type": "code",
        "colab": {
          "base_uri": "https://localhost:8080/",
          "height": 136
        },
        "outputId": "e07a7bf9-618a-4958-fdc6-712d935cf447"
      },
      "source": [
        "int i=0\n",
        "  for(i=0; i<10; i++):\n",
        "    list[i] "
      ],
      "execution_count": 15,
      "outputs": [
        {
          "output_type": "error",
          "ename": "SyntaxError",
          "evalue": "ignored",
          "traceback": [
            "\u001b[0;36m  File \u001b[0;32m\"<ipython-input-15-aa7cce48650f>\"\u001b[0;36m, line \u001b[0;32m1\u001b[0m\n\u001b[0;31m    int i=0\u001b[0m\n\u001b[0m        ^\u001b[0m\n\u001b[0;31mSyntaxError\u001b[0m\u001b[0;31m:\u001b[0m invalid syntax\n"
          ]
        }
      ]
    },
    {
      "cell_type": "code",
      "metadata": {
        "id": "ESbSU5osOVTn",
        "colab_type": "code",
        "colab": {},
        "outputId": "7a2de08d-649c-4523-d7f6-1233ccdd8d27"
      },
      "source": [
        "test_list = [\"one\",\"two\",\"three\"]\n",
        "for i in test_list:\n",
        "    print(i)"
      ],
      "execution_count": null,
      "outputs": [
        {
          "output_type": "stream",
          "text": [
            "one\n",
            "two\n",
            "three\n"
          ],
          "name": "stdout"
        }
      ]
    },
    {
      "cell_type": "code",
      "metadata": {
        "id": "vfQFI1haOVTn",
        "colab_type": "code",
        "colab": {},
        "outputId": "512e1141-a316-4159-af16-93efec47fe3a"
      },
      "source": [
        "a= [(1,2),(3,4),(5,6)]\n",
        "print(len(a))\n",
        "for (first,last) in a:\n",
        "    print(first+last)"
      ],
      "execution_count": null,
      "outputs": [
        {
          "output_type": "stream",
          "text": [
            "3\n",
            "3\n",
            "7\n",
            "11\n"
          ],
          "name": "stdout"
        }
      ]
    },
    {
      "cell_type": "code",
      "metadata": {
        "id": "fC7__73mOVTo",
        "colab_type": "code",
        "colab": {},
        "outputId": "42280ea5-5e5b-4912-cb3f-188c543b1ce4"
      },
      "source": [
        "marks = [90,25,67,45,80]\n",
        "number = 0\n",
        "for mark in marks:\n",
        "    number = number + 1\n",
        "    if mark>= 60:\n",
        "        print(\"%d번 학생은 합격입니다\" % number)\n",
        "    else:\n",
        "        print(\"%d번 학생은 불합격입니다\" % number)"
      ],
      "execution_count": null,
      "outputs": [
        {
          "output_type": "stream",
          "text": [
            "1번 학생은 합격입니다\n",
            "2번 학생은 불합격입니다\n",
            "3번 학생은 합격입니다\n",
            "4번 학생은 불합격입니다\n",
            "5번 학생은 합격입니다\n"
          ],
          "name": "stdout"
        }
      ]
    },
    {
      "cell_type": "code",
      "metadata": {
        "id": "J-F7N8UoOVTo",
        "colab_type": "code",
        "colab": {},
        "outputId": "9ce1d1c3-3102-4e4f-d092-d404c99a5b47"
      },
      "source": [
        "marks = [90,25,67,45,80]\n",
        "number = 0\n",
        "for mark in marks:\n",
        "    number = number + 1\n",
        "    if mark < 60:\n",
        "        continue\n",
        "    print(\"%d번 학생은 합격입니다\" % number)\n"
      ],
      "execution_count": null,
      "outputs": [
        {
          "output_type": "stream",
          "text": [
            "1번 학생은 합격입니다\n",
            "3번 학생은 합격입니다\n",
            "5번 학생은 합격입니다\n"
          ],
          "name": "stdout"
        }
      ]
    },
    {
      "cell_type": "code",
      "metadata": {
        "id": "sW6gexR0OVTq",
        "colab_type": "code",
        "colab": {},
        "outputId": "945fc252-ae43-4065-8d38-1e25071e1037"
      },
      "source": [
        "a = range(10)\n",
        "a # a<-0,1,2,3,4,5,6,7,8,9"
      ],
      "execution_count": null,
      "outputs": [
        {
          "output_type": "execute_result",
          "data": {
            "text/plain": [
              "range(0, 10)"
            ]
          },
          "metadata": {
            "tags": []
          },
          "execution_count": 320
        }
      ]
    },
    {
      "cell_type": "code",
      "metadata": {
        "id": "5pCfOjSjOVTr",
        "colab_type": "code",
        "colab": {},
        "outputId": "41ed3e2e-9210-45c5-d0c2-40eca0b6d769"
      },
      "source": [
        "a = range(1,11)\n",
        "a # a <- 1,2,3,4,5,6,7,8,9,10 "
      ],
      "execution_count": null,
      "outputs": [
        {
          "output_type": "execute_result",
          "data": {
            "text/plain": [
              "range(1, 11)"
            ]
          },
          "metadata": {
            "tags": []
          },
          "execution_count": 321
        }
      ]
    },
    {
      "cell_type": "code",
      "metadata": {
        "id": "5wjj3OgMOVTs",
        "colab_type": "code",
        "colab": {}
      },
      "source": [
        "add=0\n",
        "for i in range(100):\n",
        "    add = add + i + 1"
      ],
      "execution_count": null,
      "outputs": []
    },
    {
      "cell_type": "code",
      "metadata": {
        "id": "luzSSmZmOVTs",
        "colab_type": "code",
        "colab": {},
        "outputId": "8a7b7c31-f6c2-4233-e7e9-6ce687a548e3"
      },
      "source": [
        "add"
      ],
      "execution_count": null,
      "outputs": [
        {
          "output_type": "execute_result",
          "data": {
            "text/plain": [
              "5050"
            ]
          },
          "metadata": {
            "tags": []
          },
          "execution_count": 327
        }
      ]
    },
    {
      "cell_type": "code",
      "metadata": {
        "id": "EyQ5SdJ3OVTt",
        "colab_type": "code",
        "colab": {},
        "outputId": "3a1b91b9-ceef-48bf-8053-0353706cf2a5"
      },
      "source": [
        "marks = [90,25,67,45,80]\n",
        "for i in range(len(marks)):\n",
        "    if( marks[i] < 60):\n",
        "        continue\n",
        "    print(\"%d번 학생 축하합니다. \" % (i+1))"
      ],
      "execution_count": null,
      "outputs": [
        {
          "output_type": "stream",
          "text": [
            "1번 학생 축하합니다. \n",
            "3번 학생 축하합니다. \n",
            "5번 학생 축하합니다. \n"
          ],
          "name": "stdout"
        }
      ]
    },
    {
      "cell_type": "code",
      "metadata": {
        "id": "3QdQHd2eOVTu",
        "colab_type": "code",
        "colab": {},
        "outputId": "0ffd4caa-c1fb-49bf-fb7e-f95201b83ff9"
      },
      "source": [
        "for i in range(2,10):\n",
        "    for j in range(1,10):\n",
        "        print( \"%2d \"%(i*j), end=\" \")\n",
        "    print('')"
      ],
      "execution_count": null,
      "outputs": [
        {
          "output_type": "stream",
          "text": [
            " 2   4   6   8  10  12  14  16  18  \n",
            " 3   6   9  12  15  18  21  24  27  \n",
            " 4   8  12  16  20  24  28  32  36  \n",
            " 5  10  15  20  25  30  35  40  45  \n",
            " 6  12  18  24  30  36  42  48  54  \n",
            " 7  14  21  28  35  42  49  56  63  \n",
            " 8  16  24  32  40  48  56  64  72  \n",
            " 9  18  27  36  45  54  63  72  81  \n"
          ],
          "name": "stdout"
        }
      ]
    },
    {
      "cell_type": "markdown",
      "metadata": {
        "id": "gWMKtZQtOVTv",
        "colab_type": "text"
      },
      "source": [
        "### 리스트 내포(List comprehension) 사용하기 "
      ]
    },
    {
      "cell_type": "code",
      "metadata": {
        "id": "s7TrDnWFOVTv",
        "colab_type": "code",
        "colab": {},
        "outputId": "b4bec230-ac6f-4ff4-a02d-4b082dda1c97"
      },
      "source": [
        "a = [1,2,3,4]\n",
        "result = []\n",
        "for num in a:\n",
        "    result.append(num)\n",
        "print(result)"
      ],
      "execution_count": null,
      "outputs": [
        {
          "output_type": "stream",
          "text": [
            "[1, 2, 3, 4]\n"
          ],
          "name": "stdout"
        }
      ]
    },
    {
      "cell_type": "code",
      "metadata": {
        "id": "Cyyz2E60OVTw",
        "colab_type": "code",
        "colab": {}
      },
      "source": [
        "a = [1,2,3,4]\n",
        "result = [ num*3 for num in a ]"
      ],
      "execution_count": null,
      "outputs": []
    },
    {
      "cell_type": "code",
      "metadata": {
        "id": "5HJfhCRzOVTw",
        "colab_type": "code",
        "colab": {},
        "outputId": "bad95b0f-8ade-4ee3-acb9-fe71b80bef0f"
      },
      "source": [
        "result"
      ],
      "execution_count": null,
      "outputs": [
        {
          "output_type": "execute_result",
          "data": {
            "text/plain": [
              "[3, 6, 9, 12]"
            ]
          },
          "metadata": {
            "tags": []
          },
          "execution_count": 338
        }
      ]
    },
    {
      "cell_type": "code",
      "metadata": {
        "id": "W02XY6pSOVTx",
        "colab_type": "code",
        "colab": {}
      },
      "source": [
        "a = [1,2,3,4]\n",
        "result = [ num*3 for num in a if num%2 == 0  ]"
      ],
      "execution_count": null,
      "outputs": []
    },
    {
      "cell_type": "code",
      "metadata": {
        "id": "8tqV_bO-OVTy",
        "colab_type": "code",
        "colab": {},
        "outputId": "88fa36b2-eed5-4604-9c2b-ebf748d5289c"
      },
      "source": [
        "result"
      ],
      "execution_count": null,
      "outputs": [
        {
          "output_type": "execute_result",
          "data": {
            "text/plain": [
              "[6, 12]"
            ]
          },
          "metadata": {
            "tags": []
          },
          "execution_count": 340
        }
      ]
    },
    {
      "cell_type": "code",
      "metadata": {
        "id": "SOJdoB5oOVTz",
        "colab_type": "code",
        "colab": {},
        "outputId": "9e252748-ec36-4ae5-b12a-36915496620e"
      },
      "source": [
        "result = [ x for x in range(2,10)]\n",
        "result "
      ],
      "execution_count": null,
      "outputs": [
        {
          "output_type": "execute_result",
          "data": {
            "text/plain": [
              "[2, 3, 4, 5, 6, 7, 8, 9]"
            ]
          },
          "metadata": {
            "tags": []
          },
          "execution_count": 341
        }
      ]
    },
    {
      "cell_type": "code",
      "metadata": {
        "id": "4v0lthrJOVTz",
        "colab_type": "code",
        "colab": {}
      },
      "source": [
        "result = [ x*y for x in range(2,10)\n",
        "         for y in range(1,10) ]"
      ],
      "execution_count": null,
      "outputs": []
    },
    {
      "cell_type": "code",
      "metadata": {
        "id": "i5yC4z5MOVT0",
        "colab_type": "code",
        "colab": {},
        "outputId": "d056157c-443f-4926-88a9-fe0be3b1cc8c"
      },
      "source": [
        "print(result)"
      ],
      "execution_count": null,
      "outputs": [
        {
          "output_type": "stream",
          "text": [
            "[2, 4, 6, 8, 10, 12, 14, 16, 18, 3, 6, 9, 12, 15, 18, 21, 24, 27, 4, 8, 12, 16, 20, 24, 28, 32, 36, 5, 10, 15, 20, 25, 30, 35, 40, 45, 6, 12, 18, 24, 30, 36, 42, 48, 54, 7, 14, 21, 28, 35, 42, 49, 56, 63, 8, 16, 24, 32, 40, 48, 56, 64, 72, 9, 18, 27, 36, 45, 54, 63, 72, 81]\n"
          ],
          "name": "stdout"
        }
      ]
    }
  ]
}