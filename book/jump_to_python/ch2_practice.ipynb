{
  "nbformat": 4,
  "nbformat_minor": 0,
  "metadata": {
    "colab": {
      "name": "Untitled9.ipynb",
      "provenance": [],
      "private_outputs": true,
      "authorship_tag": "ABX9TyPN+IE2LsZoLmmxSLtNOO1n",
      "include_colab_link": true
    },
    "kernelspec": {
      "name": "python3",
      "display_name": "Python 3"
    }
  },
  "cells": [
    {
      "cell_type": "markdown",
      "metadata": {
        "id": "view-in-github",
        "colab_type": "text"
      },
      "source": [
        "<a href=\"https://colab.research.google.com/github/saeugeen/Python/blob/master/book/jump_to_python/ch2_practice.ipynb\" target=\"_parent\"><img src=\"https://colab.research.google.com/assets/colab-badge.svg\" alt=\"Open In Colab\"/></a>"
      ]
    },
    {
      "cell_type": "code",
      "metadata": {
        "id": "KoBOLNa2jfR1",
        "colab_type": "code",
        "colab": {}
      },
      "source": [
        ""
      ],
      "execution_count": null,
      "outputs": []
    },
    {
      "cell_type": "markdown",
      "metadata": {
        "id": "GOnGLxryjxsl",
        "colab_type": "text"
      },
      "source": [
        "# 연습문제(p112)"
      ]
    },
    {
      "cell_type": "markdown",
      "metadata": {
        "id": "NOBLnF7uj8CU",
        "colab_type": "text"
      },
      "source": [
        "##Q1"
      ]
    },
    {
      "cell_type": "markdown",
      "metadata": {
        "id": "m-2hE2Yyj-2E",
        "colab_type": "text"
      },
      "source": [
        "홍길동 씨의 과목별 점수는 다음과 같다. 홍길동 씨의 평균 점수를 구해 보자\n",
        "\n",
        "* 국어 : 80점\n",
        "* 영어 : 75점\n",
        "* 수학 : 55점"
      ]
    },
    {
      "cell_type": "markdown",
      "metadata": {
        "id": "lOga6Py3Orsm",
        "colab_type": "text"
      },
      "source": [
        "###A1"
      ]
    },
    {
      "cell_type": "code",
      "metadata": {
        "id": "-PeLMDMTOv9F",
        "colab_type": "code",
        "colab": {}
      },
      "source": [
        "a = 80\n",
        "b = 75\n",
        "c = 55\n",
        "d=(a+b+c)/3\n",
        "print(d)"
      ],
      "execution_count": null,
      "outputs": []
    },
    {
      "cell_type": "markdown",
      "metadata": {
        "id": "ZRmkBOmdkQ5z",
        "colab_type": "text"
      },
      "source": [
        "## Q2"
      ]
    },
    {
      "cell_type": "markdown",
      "metadata": {
        "id": "WI6HFYEckQ3s",
        "colab_type": "text"
      },
      "source": [
        "자연수 13이 홀수인지 짝수인지 판별할 수 있는 방법에 대해 말하기"
      ]
    },
    {
      "cell_type": "markdown",
      "metadata": {
        "id": "xQ2QxdFRO_UO",
        "colab_type": "text"
      },
      "source": [
        "### A2"
      ]
    },
    {
      "cell_type": "code",
      "metadata": {
        "id": "l2pD_x_VPB_r",
        "colab_type": "code",
        "colab": {}
      },
      "source": [
        "13%2 #2로 나눈 나머지가 1임으로 홀수"
      ],
      "execution_count": null,
      "outputs": []
    },
    {
      "cell_type": "markdown",
      "metadata": {
        "id": "4dzG3EgukQvF",
        "colab_type": "text"
      },
      "source": [
        "## Q3"
      ]
    },
    {
      "cell_type": "markdown",
      "metadata": {
        "id": "eQKGA716kQsn",
        "colab_type": "text"
      },
      "source": [
        "홍길동 씨의 주민등록번호는 881120-1068234이다. 홍길동 씨의 주민등록번호를 연월일(YYYYMMDD) 부분과 그 뒤의 숫자 부분으로 나누어 출력해 보자."
      ]
    },
    {
      "cell_type": "markdown",
      "metadata": {
        "id": "JiqWCnFcPTyG",
        "colab_type": "text"
      },
      "source": [
        "### A3"
      ]
    },
    {
      "cell_type": "code",
      "metadata": {
        "id": "FT8zVINHPTEz",
        "colab_type": "code",
        "colab": {}
      },
      "source": [
        "pin = \"881120-1068234\"\n",
        "yyyymmdd = pin[:6]\n",
        "print(yyyymmdd)\n",
        "other = pin[7:]\n",
        "print(other)"
      ],
      "execution_count": null,
      "outputs": []
    },
    {
      "cell_type": "markdown",
      "metadata": {
        "id": "B1Rp5H1UkQqA",
        "colab_type": "text"
      },
      "source": [
        "## Q4"
      ]
    },
    {
      "cell_type": "markdown",
      "metadata": {
        "id": "c6j3o8ZYkQjr",
        "colab_type": "text"
      },
      "source": [
        "주민등록번호 뒷자리의 맨 첫 번째 숫자는 성별을 나타낸다. 주민등록번호에서 성별을 나타내는 숫자를 출력해 보자.\n",
        "\n",
        "> pin = \"881120-1068234\""
      ]
    },
    {
      "cell_type": "markdown",
      "metadata": {
        "id": "7OEI-RCTP5zN",
        "colab_type": "text"
      },
      "source": [
        "### A4"
      ]
    },
    {
      "cell_type": "code",
      "metadata": {
        "id": "WXa1W7Y5P_Ya",
        "colab_type": "code",
        "colab": {}
      },
      "source": [
        "pin = \"881120-1068234\"\n",
        "print(pin[7]) \n",
        "\n",
        "# 결과값이 1임으로 남자이다"
      ],
      "execution_count": null,
      "outputs": []
    },
    {
      "cell_type": "markdown",
      "metadata": {
        "id": "7brNgMmskQh0",
        "colab_type": "text"
      },
      "source": [
        "##Q5"
      ]
    },
    {
      "cell_type": "markdown",
      "metadata": {
        "id": "rhb9WymVQJz8",
        "colab_type": "text"
      },
      "source": [
        "다음과 같은 문자열 a:b:c:d가 있다. 문자열의 replace 함수를 사용하여 a#b#c#d로 바꿔서 출력해 보자"
      ]
    },
    {
      "cell_type": "markdown",
      "metadata": {
        "id": "q_Tz91AkQMm8",
        "colab_type": "text"
      },
      "source": [
        "### A5"
      ]
    },
    {
      "cell_type": "code",
      "metadata": {
        "id": "GFetQTRmQRVM",
        "colab_type": "code",
        "colab": {}
      },
      "source": [
        "a = \"a:b:c:d\"\n",
        "b = a.replace(\":\", \"#\")\n",
        "print(b)"
      ],
      "execution_count": null,
      "outputs": []
    },
    {
      "cell_type": "markdown",
      "metadata": {
        "id": "ZjqRU-GPkQgK",
        "colab_type": "text"
      },
      "source": [
        "## Q6"
      ]
    },
    {
      "cell_type": "markdown",
      "metadata": {
        "id": "64X_FPqakQeZ",
        "colab_type": "text"
      },
      "source": [
        "[1, 3, 5, 4, 2]라는 리스트를 [5, 4, 3, 2, 1]로 만들어보자."
      ]
    },
    {
      "cell_type": "markdown",
      "metadata": {
        "id": "dq6iGw_rQfQT",
        "colab_type": "text"
      },
      "source": [
        "### A6"
      ]
    },
    {
      "cell_type": "code",
      "metadata": {
        "id": "5IVt82sUQjcj",
        "colab_type": "code",
        "colab": {}
      },
      "source": [
        "a = [1, 3, 5, 4, 2]\n",
        "a.sort( )\n",
        "a.reverse( )\n",
        "print(a)  "
      ],
      "execution_count": null,
      "outputs": []
    },
    {
      "cell_type": "markdown",
      "metadata": {
        "id": "fsZ4dLR4kQcv",
        "colab_type": "text"
      },
      "source": [
        "## Q7"
      ]
    },
    {
      "cell_type": "markdown",
      "metadata": {
        "id": "4Hzzt38zQxK9",
        "colab_type": "text"
      },
      "source": [
        "['Life', 'is', 'too', 'short'] 라는 리스트를 Life is too short라는 문자열로 만들어 출력해 보자."
      ]
    },
    {
      "cell_type": "markdown",
      "metadata": {
        "id": "9t9g668qkQaq",
        "colab_type": "text"
      },
      "source": [
        "### A7"
      ]
    },
    {
      "cell_type": "code",
      "metadata": {
        "id": "-Xql2cuzQ1QT",
        "colab_type": "code",
        "colab": {}
      },
      "source": [
        "a = ['Life', 'is', 'too', 'short']\n",
        "result = \" \".join(a)\n",
        "print(result)"
      ],
      "execution_count": null,
      "outputs": []
    },
    {
      "cell_type": "markdown",
      "metadata": {
        "id": "H8u94OFFkQY9",
        "colab_type": "text"
      },
      "source": [
        "## Q8"
      ]
    },
    {
      "cell_type": "markdown",
      "metadata": {
        "id": "w-bI5LrBkQXh",
        "colab_type": "text"
      },
      "source": [
        "(1,2,3)이라는 튜플에 4라는 값을 추가하여 (1,2,3,4)처럼 만들어 출력해 보자."
      ]
    },
    {
      "cell_type": "markdown",
      "metadata": {
        "id": "ShtxgYBTREcc",
        "colab_type": "text"
      },
      "source": [
        "###A8"
      ]
    },
    {
      "cell_type": "code",
      "metadata": {
        "id": "JGUOJDX0RIlc",
        "colab_type": "code",
        "colab": {}
      },
      "source": [
        "a = (1, 2, 3)\n",
        "a = a + (4,)\n",
        "print(a)  "
      ],
      "execution_count": null,
      "outputs": []
    },
    {
      "cell_type": "markdown",
      "metadata": {
        "id": "MucHx5MzkQTX",
        "colab_type": "text"
      },
      "source": [
        "## Q10"
      ]
    },
    {
      "cell_type": "markdown",
      "metadata": {
        "id": "0VYUhhiikQRd",
        "colab_type": "text"
      },
      "source": [
        "딕셔너리 a에서 'B'에 해당되는 값을 추출해 보자."
      ]
    },
    {
      "cell_type": "markdown",
      "metadata": {
        "id": "CQWMJIlwkQLi",
        "colab_type": "text"
      },
      "source": [
        "### A10"
      ]
    },
    {
      "cell_type": "code",
      "metadata": {
        "id": "-xK_Jm2RSjxY",
        "colab_type": "code",
        "colab": {}
      },
      "source": [
        "a = {'A':90, 'B':80, 'C':70}\n",
        "result = a.pop('B')\n",
        "print(a)           \n",
        "print(result)"
      ],
      "execution_count": null,
      "outputs": []
    },
    {
      "cell_type": "markdown",
      "metadata": {
        "id": "loYY_9ywkQKY",
        "colab_type": "text"
      },
      "source": [
        "## Q11"
      ]
    },
    {
      "cell_type": "markdown",
      "metadata": {
        "id": "oaGaixcgkQIT",
        "colab_type": "text"
      },
      "source": [
        "a 리스트에서 중복된 숫자들을 제거해 보자."
      ]
    },
    {
      "cell_type": "markdown",
      "metadata": {
        "id": "8Dm73FxCkP0b",
        "colab_type": "text"
      },
      "source": [
        "### A11"
      ]
    },
    {
      "cell_type": "code",
      "metadata": {
        "id": "TVbZOatoj7Un",
        "colab_type": "code",
        "colab": {}
      },
      "source": [
        "a = [1, 1, 1, 2, 2, 3, 3, 3, 4, 4, 5]\n",
        "aSet = set(a)     # a를 집합자료형으로 변환\n",
        "b = list(aSet)    # 리스트 자료형으로 다시 변환\n",
        "print(b)          # [1,2,3,4,5] 출력"
      ],
      "execution_count": null,
      "outputs": []
    },
    {
      "cell_type": "markdown",
      "metadata": {
        "id": "8vymS_nQS6HC",
        "colab_type": "text"
      },
      "source": [
        "##Q12"
      ]
    },
    {
      "cell_type": "markdown",
      "metadata": {
        "id": "71jwvihLS8uJ",
        "colab_type": "text"
      },
      "source": [
        ""
      ]
    },
    {
      "cell_type": "code",
      "metadata": {
        "id": "w1k7n2ySS8Rp",
        "colab_type": "code",
        "colab": {}
      },
      "source": [
        ""
      ],
      "execution_count": null,
      "outputs": []
    },
    {
      "cell_type": "code",
      "metadata": {
        "id": "DMJcrO_IS4za",
        "colab_type": "code",
        "colab": {}
      },
      "source": [
        ""
      ],
      "execution_count": null,
      "outputs": []
    }
  ]
}