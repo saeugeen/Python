{
  "nbformat": 4,
  "nbformat_minor": 0,
  "metadata": {
    "kernelspec": {
      "display_name": "Python 3",
      "language": "python",
      "name": "python3"
    },
    "language_info": {
      "codemirror_mode": {
        "name": "ipython",
        "version": 3
      },
      "file_extension": ".py",
      "mimetype": "text/x-python",
      "name": "python",
      "nbconvert_exporter": "python",
      "pygments_lexer": "ipython3",
      "version": "3.7.6"
    },
    "colab": {
      "name": "01_day.ipynb",
      "provenance": [],
      "include_colab_link": true
    },
    "accelerator": "GPU"
  },
  "cells": [
    {
      "cell_type": "markdown",
      "metadata": {
        "id": "view-in-github",
        "colab_type": "text"
      },
      "source": [
        "<a href=\"https://colab.research.google.com/github/saeugeen/Python/blob/master/book/jump_to_python/day1.ipynb\" target=\"_parent\"><img src=\"https://colab.research.google.com/assets/colab-badge.svg\" alt=\"Open In Colab\"/></a>"
      ]
    },
    {
      "cell_type": "markdown",
      "metadata": {
        "id": "XZ-sudkJJr00",
        "colab_type": "text"
      },
      "source": [
        "# 파이썬 프로그래밍 기초, 자료형\n",
        "\n",
        "\n",
        "\n"
      ]
    },
    {
      "cell_type": "markdown",
      "metadata": {
        "id": "P890jMTCKDg8",
        "colab_type": "text"
      },
      "source": [
        "### 숫자형"
      ]
    },
    {
      "cell_type": "markdown",
      "metadata": {
        "id": "beQnXOdeJ9Y9",
        "colab_type": "text"
      },
      "source": [
        "정수형 - 말 그대로 정수를 뜻하는 자료형"
      ]
    },
    {
      "cell_type": "code",
      "metadata": {
        "id": "QhTnAMvHJGIQ",
        "colab_type": "code",
        "colab": {}
      },
      "source": [
        "a = 123\n",
        "a = -178\n",
        "a = 0"
      ],
      "execution_count": null,
      "outputs": []
    },
    {
      "cell_type": "markdown",
      "metadata": {
        "id": "wm-MFlH7KOkQ",
        "colab_type": "text"
      },
      "source": [
        "실수형 - 소수점이 포함된 숫자"
      ]
    },
    {
      "cell_type": "code",
      "metadata": {
        "id": "ItcZa345JGIW",
        "colab_type": "code",
        "colab": {}
      },
      "source": [
        "a = 1.2\n",
        "a = -3.45"
      ],
      "execution_count": null,
      "outputs": []
    },
    {
      "cell_type": "code",
      "metadata": {
        "id": "5vW36EuNJGIZ",
        "colab_type": "code",
        "colab": {}
      },
      "source": [
        "a = 4.24E10\n",
        "a = 4.24e-10"
      ],
      "execution_count": null,
      "outputs": []
    },
    {
      "cell_type": "code",
      "metadata": {
        "id": "TQFNFzINJGIb",
        "colab_type": "code",
        "colab": {}
      },
      "source": [
        "a = 1234\n",
        "a = 0o177\n",
        "a = 0x8ff\n",
        "a = 0xabc"
      ],
      "execution_count": null,
      "outputs": []
    },
    {
      "cell_type": "markdown",
      "metadata": {
        "id": "9lNS9WkoKWaH",
        "colab_type": "text"
      },
      "source": [
        "사칙연산"
      ]
    },
    {
      "cell_type": "code",
      "metadata": {
        "id": "yazkRD_fJGIe",
        "colab_type": "code",
        "colab": {
          "base_uri": "https://localhost:8080/",
          "height": 35
        },
        "outputId": "84c72419-a58d-4b9a-b2ed-0a9503264b29"
      },
      "source": [
        "a = 3\n",
        "b = 4\n",
        "a+b"
      ],
      "execution_count": 1,
      "outputs": [
        {
          "output_type": "execute_result",
          "data": {
            "text/plain": [
              "7"
            ]
          },
          "metadata": {
            "tags": []
          },
          "execution_count": 1
        }
      ]
    },
    {
      "cell_type": "code",
      "metadata": {
        "id": "O2BwbV9PJGIm",
        "colab_type": "code",
        "colab": {},
        "outputId": "853d6cd5-58d8-4125-9e53-f67d1d7d7821"
      },
      "source": [
        "a*b"
      ],
      "execution_count": null,
      "outputs": [
        {
          "output_type": "execute_result",
          "data": {
            "text/plain": [
              "12"
            ]
          },
          "metadata": {
            "tags": []
          },
          "execution_count": 18
        }
      ]
    },
    {
      "cell_type": "code",
      "metadata": {
        "id": "xDRf3x1wJGIp",
        "colab_type": "code",
        "colab": {},
        "outputId": "7fc48bcb-ffc2-4550-820c-d1aa003f420a"
      },
      "source": [
        "a/b"
      ],
      "execution_count": null,
      "outputs": [
        {
          "output_type": "execute_result",
          "data": {
            "text/plain": [
              "0.75"
            ]
          },
          "metadata": {
            "tags": []
          },
          "execution_count": 19
        }
      ]
    },
    {
      "cell_type": "markdown",
      "metadata": {
        "id": "v7XTPtZ0LB6H",
        "colab_type": "text"
      },
      "source": [
        "나눗셈 후 몫을 반환"
      ]
    },
    {
      "cell_type": "code",
      "metadata": {
        "id": "McQcfVk6JGIr",
        "colab_type": "code",
        "colab": {},
        "outputId": "e4add28d-ed2d-4646-c506-e9057334bb42"
      },
      "source": [
        "a//b"
      ],
      "execution_count": null,
      "outputs": [
        {
          "output_type": "execute_result",
          "data": {
            "text/plain": [
              "0"
            ]
          },
          "metadata": {
            "tags": []
          },
          "execution_count": 20
        }
      ]
    },
    {
      "cell_type": "code",
      "metadata": {
        "id": "pfPhAFs0JGIw",
        "colab_type": "code",
        "colab": {
          "base_uri": "https://localhost:8080/",
          "height": 35
        },
        "outputId": "dcfae812-036b-4f6e-ace3-33b3f0a81444"
      },
      "source": [
        "a%b"
      ],
      "execution_count": 3,
      "outputs": [
        {
          "output_type": "execute_result",
          "data": {
            "text/plain": [
              "3"
            ]
          },
          "metadata": {
            "tags": []
          },
          "execution_count": 3
        }
      ]
    },
    {
      "cell_type": "markdown",
      "metadata": {
        "id": "YNIxzvcNK5J3",
        "colab_type": "text"
      },
      "source": [
        "x의 y제곱"
      ]
    },
    {
      "cell_type": "code",
      "metadata": {
        "id": "l9XvSIZRJGIy",
        "colab_type": "code",
        "colab": {},
        "outputId": "6e5ec15f-c16c-4c90-c3e3-94618b08cc1f"
      },
      "source": [
        "a ** b"
      ],
      "execution_count": null,
      "outputs": [
        {
          "output_type": "execute_result",
          "data": {
            "text/plain": [
              "81"
            ]
          },
          "metadata": {
            "tags": []
          },
          "execution_count": 22
        }
      ]
    },
    {
      "cell_type": "markdown",
      "metadata": {
        "id": "Bev3OaflLGSn",
        "colab_type": "text"
      },
      "source": [
        "###문자열 자료형"
      ]
    },
    {
      "cell_type": "markdown",
      "metadata": {
        "id": "UcT_xUWhLWq4",
        "colab_type": "text"
      },
      "source": [
        "문자열 만들고 사용하기"
      ]
    },
    {
      "cell_type": "code",
      "metadata": {
        "id": "IGin-HgaJGI1",
        "colab_type": "code",
        "colab": {},
        "outputId": "8d1a26db-5855-44c5-92ff-09dfc470ec87"
      },
      "source": [
        "\"Life is too short, You need Python\"\n",
        "\"a\"\n",
        "\"123\""
      ],
      "execution_count": null,
      "outputs": [
        {
          "output_type": "execute_result",
          "data": {
            "text/plain": [
              "'123'"
            ]
          },
          "metadata": {
            "tags": []
          },
          "execution_count": 23
        }
      ]
    },
    {
      "cell_type": "code",
      "metadata": {
        "id": "gGmdDUGjJGI3",
        "colab_type": "code",
        "colab": {},
        "outputId": "b29558cb-b4e1-40ae-c5ee-c352f203e967"
      },
      "source": [
        "\"Python's favorite food is perl\""
      ],
      "execution_count": null,
      "outputs": [
        {
          "output_type": "execute_result",
          "data": {
            "text/plain": [
              "\"Python's favorite food is perl\""
            ]
          },
          "metadata": {
            "tags": []
          },
          "execution_count": 24
        }
      ]
    },
    {
      "cell_type": "code",
      "metadata": {
        "id": "LPzdrk5gJGI6",
        "colab_type": "code",
        "colab": {},
        "outputId": "7a5a6361-0316-4f5d-b6e6-db0e877928f8"
      },
      "source": [
        "'Python\\'s favorite food is perl'"
      ],
      "execution_count": null,
      "outputs": [
        {
          "output_type": "execute_result",
          "data": {
            "text/plain": [
              "\"Python's favorite food is perl\""
            ]
          },
          "metadata": {
            "tags": []
          },
          "execution_count": 25
        }
      ]
    },
    {
      "cell_type": "code",
      "metadata": {
        "id": "ALYFHnRmJGI9",
        "colab_type": "code",
        "colab": {},
        "outputId": "b1ae9780-3aa9-419a-eb1e-a0ac4b0eca6d"
      },
      "source": [
        "\"Life is too short\\nYou need Python\""
      ],
      "execution_count": null,
      "outputs": [
        {
          "output_type": "execute_result",
          "data": {
            "text/plain": [
              "'Life is too short\\nYou need Python'"
            ]
          },
          "metadata": {
            "tags": []
          },
          "execution_count": 26
        }
      ]
    },
    {
      "cell_type": "code",
      "metadata": {
        "id": "mUddfDaOJGJB",
        "colab_type": "code",
        "colab": {},
        "outputId": "0dad78ce-4f79-4bbe-8e93-0b6e6264526c"
      },
      "source": [
        "'''Life is too short\n",
        "You need Python'''"
      ],
      "execution_count": null,
      "outputs": [
        {
          "output_type": "execute_result",
          "data": {
            "text/plain": [
              "'Life is too short\\nYou need Python'"
            ]
          },
          "metadata": {
            "tags": []
          },
          "execution_count": 27
        }
      ]
    },
    {
      "cell_type": "markdown",
      "metadata": {
        "id": "mYHpxvcELZKX",
        "colab_type": "text"
      },
      "source": [
        "문자열 연산하기"
      ]
    },
    {
      "cell_type": "code",
      "metadata": {
        "id": "qfkbcUaGJGJE",
        "colab_type": "code",
        "colab": {},
        "outputId": "6036af45-1168-413b-cf00-e1d22599d3b2"
      },
      "source": [
        "head = \"python\"\n",
        "tail = \" is fun!\"\n",
        "head + tail "
      ],
      "execution_count": null,
      "outputs": [
        {
          "output_type": "execute_result",
          "data": {
            "text/plain": [
              "'python is fun!'"
            ]
          },
          "metadata": {
            "tags": []
          },
          "execution_count": 28
        }
      ]
    },
    {
      "cell_type": "code",
      "metadata": {
        "id": "65EO8XezJGJG",
        "colab_type": "code",
        "colab": {},
        "outputId": "2268bd53-3040-4aef-b75b-15301c2ef6a1"
      },
      "source": [
        "a = \"python\"\n",
        "a * 2 "
      ],
      "execution_count": null,
      "outputs": [
        {
          "output_type": "execute_result",
          "data": {
            "text/plain": [
              "'pythonpython'"
            ]
          },
          "metadata": {
            "tags": []
          },
          "execution_count": 29
        }
      ]
    },
    {
      "cell_type": "code",
      "metadata": {
        "id": "cU55eVJvJGJJ",
        "colab_type": "code",
        "colab": {},
        "outputId": "bf3d6866-2617-449d-c1b0-00e98593fca7"
      },
      "source": [
        "print(\"=\"*10)\n",
        "print(\"My Program\")\n",
        "print(\"=\"*10)"
      ],
      "execution_count": null,
      "outputs": [
        {
          "output_type": "stream",
          "text": [
            "==========\n",
            "My Program\n",
            "==========\n"
          ],
          "name": "stdout"
        }
      ]
    },
    {
      "cell_type": "code",
      "metadata": {
        "id": "r8DjW95cJGJN",
        "colab_type": "code",
        "colab": {},
        "outputId": "60af7a9a-7dbd-49c7-8497-d837a367fd1d"
      },
      "source": [
        "len(\"hello\")"
      ],
      "execution_count": null,
      "outputs": [
        {
          "output_type": "execute_result",
          "data": {
            "text/plain": [
              "5"
            ]
          },
          "metadata": {
            "tags": []
          },
          "execution_count": 32
        }
      ]
    },
    {
      "cell_type": "markdown",
      "metadata": {
        "id": "kR95DL_0LeV8",
        "colab_type": "text"
      },
      "source": [
        "문자열 인덱싱(indexing)과 슬라이싱(slicing)"
      ]
    },
    {
      "cell_type": "markdown",
      "metadata": {
        "id": "0FwTnpuOLpOB",
        "colab_type": "text"
      },
      "source": [
        "문자열 인덱싱\n",
        "\n",
        "* 가리키기\n",
        "* 파이썬은 0부터 숫자를 센다\n",
        "\n",
        "\n",
        "\n"
      ]
    },
    {
      "cell_type": "code",
      "metadata": {
        "id": "xC_wRYmUJGJP",
        "colab_type": "code",
        "colab": {}
      },
      "source": [
        "a = \"Life is too short, You need Python\""
      ],
      "execution_count": null,
      "outputs": []
    },
    {
      "cell_type": "code",
      "metadata": {
        "id": "OL8MhT0oJGJS",
        "colab_type": "code",
        "colab": {},
        "outputId": "650d43f2-1d4f-4ae7-94ba-e89ac70d4a20"
      },
      "source": [
        "a[3]"
      ],
      "execution_count": null,
      "outputs": [
        {
          "output_type": "execute_result",
          "data": {
            "text/plain": [
              "'e'"
            ]
          },
          "metadata": {
            "tags": []
          },
          "execution_count": 34
        }
      ]
    },
    {
      "cell_type": "code",
      "metadata": {
        "id": "C_pDnRiQJGJU",
        "colab_type": "code",
        "colab": {},
        "outputId": "f7379505-8371-46f8-ea51-4ebe6cfc3f75"
      },
      "source": [
        "a[0]"
      ],
      "execution_count": null,
      "outputs": [
        {
          "output_type": "execute_result",
          "data": {
            "text/plain": [
              "'L'"
            ]
          },
          "metadata": {
            "tags": []
          },
          "execution_count": 35
        }
      ]
    },
    {
      "cell_type": "code",
      "metadata": {
        "id": "kkEGLoqOJGJX",
        "colab_type": "code",
        "colab": {},
        "outputId": "aa42ee71-0de1-48d1-f25e-4ee1270dca6b"
      },
      "source": [
        "a[12]"
      ],
      "execution_count": null,
      "outputs": [
        {
          "output_type": "execute_result",
          "data": {
            "text/plain": [
              "'s'"
            ]
          },
          "metadata": {
            "tags": []
          },
          "execution_count": 36
        }
      ]
    },
    {
      "cell_type": "code",
      "metadata": {
        "id": "zzyn7wLbJGJZ",
        "colab_type": "code",
        "colab": {},
        "outputId": "04e5555c-ecc5-47e5-b18f-221cdc4ccebb"
      },
      "source": [
        "a[-1]"
      ],
      "execution_count": null,
      "outputs": [
        {
          "output_type": "execute_result",
          "data": {
            "text/plain": [
              "'n'"
            ]
          },
          "metadata": {
            "tags": []
          },
          "execution_count": 37
        }
      ]
    },
    {
      "cell_type": "code",
      "metadata": {
        "id": "Cs7n8tY8JGJc",
        "colab_type": "code",
        "colab": {},
        "outputId": "0626119e-7cdf-4ec4-e85b-a5d6184fa252"
      },
      "source": [
        "a[-2]"
      ],
      "execution_count": null,
      "outputs": [
        {
          "output_type": "execute_result",
          "data": {
            "text/plain": [
              "'o'"
            ]
          },
          "metadata": {
            "tags": []
          },
          "execution_count": 39
        }
      ]
    },
    {
      "cell_type": "code",
      "metadata": {
        "id": "1-fYGAm_JGJg",
        "colab_type": "code",
        "colab": {},
        "outputId": "5ca9afa7-1018-4c6d-a3c5-78d6b80b7f94"
      },
      "source": [
        "b = a[0]+a[1]+a[2]+a[3]\n",
        "b"
      ],
      "execution_count": null,
      "outputs": [
        {
          "output_type": "execute_result",
          "data": {
            "text/plain": [
              "'Life'"
            ]
          },
          "metadata": {
            "tags": []
          },
          "execution_count": 40
        }
      ]
    },
    {
      "cell_type": "markdown",
      "metadata": {
        "id": "EILjhifMMBQW",
        "colab_type": "text"
      },
      "source": [
        "문자열 슬라이싱\n",
        "\n",
        "* a[시작 번호 : 끝번호] 로 자르기, 끝 번호는 포함하지 않는다.\n",
        "* 리스트나 튜플에서도 사용한다"
      ]
    },
    {
      "cell_type": "code",
      "metadata": {
        "id": "bVDPyA7OJGJj",
        "colab_type": "code",
        "colab": {},
        "outputId": "e94a691e-de17-4c30-a808-b1b4489d4786"
      },
      "source": [
        "b = a[0:4]\n",
        "b"
      ],
      "execution_count": null,
      "outputs": [
        {
          "output_type": "execute_result",
          "data": {
            "text/plain": [
              "'Life'"
            ]
          },
          "metadata": {
            "tags": []
          },
          "execution_count": 41
        }
      ]
    },
    {
      "cell_type": "code",
      "metadata": {
        "id": "i7nfikT9JGJm",
        "colab_type": "code",
        "colab": {},
        "outputId": "789b1fc5-c636-44be-c520-22c2b3e132a1"
      },
      "source": [
        "b = a[0:5]\n",
        "b"
      ],
      "execution_count": null,
      "outputs": [
        {
          "output_type": "execute_result",
          "data": {
            "text/plain": [
              "'Life '"
            ]
          },
          "metadata": {
            "tags": []
          },
          "execution_count": 42
        }
      ]
    },
    {
      "cell_type": "code",
      "metadata": {
        "id": "_8lCiOHWJGJp",
        "colab_type": "code",
        "colab": {},
        "outputId": "1d9a7051-db52-4887-94ff-f7fc9dbae6b1"
      },
      "source": [
        "b = a[12:17]\n",
        "b"
      ],
      "execution_count": null,
      "outputs": [
        {
          "output_type": "execute_result",
          "data": {
            "text/plain": [
              "'short'"
            ]
          },
          "metadata": {
            "tags": []
          },
          "execution_count": 43
        }
      ]
    },
    {
      "cell_type": "code",
      "metadata": {
        "id": "itv4eS83JGJr",
        "colab_type": "code",
        "colab": {},
        "outputId": "b42c2710-7fa8-4349-9197-e12e89356fe8"
      },
      "source": [
        "b = a[19:]\n",
        "b"
      ],
      "execution_count": null,
      "outputs": [
        {
          "output_type": "execute_result",
          "data": {
            "text/plain": [
              "'You need Python'"
            ]
          },
          "metadata": {
            "tags": []
          },
          "execution_count": 44
        }
      ]
    },
    {
      "cell_type": "code",
      "metadata": {
        "id": "OYrdrigTJGJu",
        "colab_type": "code",
        "colab": {},
        "outputId": "f2082d37-e11c-4c6d-94ac-87095a1f4726"
      },
      "source": [
        "b = a[:17]\n",
        "b"
      ],
      "execution_count": null,
      "outputs": [
        {
          "output_type": "execute_result",
          "data": {
            "text/plain": [
              "'Life is too short'"
            ]
          },
          "metadata": {
            "tags": []
          },
          "execution_count": 45
        }
      ]
    },
    {
      "cell_type": "code",
      "metadata": {
        "id": "zh7XGYJ8JGJy",
        "colab_type": "code",
        "colab": {},
        "outputId": "240cfb6b-8515-45cc-8983-9506e9970153"
      },
      "source": [
        "b = a[:]\n",
        "a"
      ],
      "execution_count": null,
      "outputs": [
        {
          "output_type": "execute_result",
          "data": {
            "text/plain": [
              "'Life is too short, You need Python'"
            ]
          },
          "metadata": {
            "tags": []
          },
          "execution_count": 46
        }
      ]
    },
    {
      "cell_type": "code",
      "metadata": {
        "id": "T-ZqgGYOJGJ1",
        "colab_type": "code",
        "colab": {},
        "outputId": "28c73d5e-8949-4aed-928a-77296168209f"
      },
      "source": [
        "b = a[19:-7]\n",
        "b"
      ],
      "execution_count": null,
      "outputs": [
        {
          "output_type": "execute_result",
          "data": {
            "text/plain": [
              "'You need'"
            ]
          },
          "metadata": {
            "tags": []
          },
          "execution_count": 47
        }
      ]
    },
    {
      "cell_type": "code",
      "metadata": {
        "id": "WcdZpIYvJGJ3",
        "colab_type": "code",
        "colab": {},
        "outputId": "6799b016-9bdd-46fe-8184-ce479ec7cef9"
      },
      "source": [
        "a = \"20010331Rainy\"\n",
        "date = a[:8]\n",
        "weather = a[8:]\n",
        "print(date)\n",
        "print(weather)"
      ],
      "execution_count": null,
      "outputs": [
        {
          "output_type": "stream",
          "text": [
            "20010331\n",
            "Rainy\n"
          ],
          "name": "stdout"
        }
      ]
    },
    {
      "cell_type": "code",
      "metadata": {
        "id": "8A_EFkSPJGJ6",
        "colab_type": "code",
        "colab": {},
        "outputId": "ddfc19e2-617f-47ce-a984-a047526fa563"
      },
      "source": [
        "a = \"20010331Rainy\"\n",
        "year = a[:4]\n",
        "date = a[4:8]\n",
        "weather = a[8:]\n",
        "print(year)\n",
        "print(date)\n",
        "print(weather)"
      ],
      "execution_count": null,
      "outputs": [
        {
          "output_type": "stream",
          "text": [
            "2001\n",
            "0331\n",
            "Rainy\n"
          ],
          "name": "stdout"
        }
      ]
    },
    {
      "cell_type": "code",
      "metadata": {
        "id": "WV1gVgsMJGJ8",
        "colab_type": "code",
        "colab": {},
        "outputId": "556bd138-d4b3-4256-f2cc-669db9abc35b"
      },
      "source": [
        "a = \"pithon\"\n",
        "a[1]='y'\n",
        "a"
      ],
      "execution_count": null,
      "outputs": [
        {
          "output_type": "error",
          "ename": "TypeError",
          "evalue": "'str' object does not support item assignment",
          "traceback": [
            "\u001b[1;31m---------------------------------------------------------------------------\u001b[0m",
            "\u001b[1;31mTypeError\u001b[0m                                 Traceback (most recent call last)",
            "\u001b[1;32m<ipython-input-50-9be10ab68dc9>\u001b[0m in \u001b[0;36m<module>\u001b[1;34m\u001b[0m\n\u001b[0;32m      1\u001b[0m \u001b[0ma\u001b[0m \u001b[1;33m=\u001b[0m \u001b[1;34m\"pithon\"\u001b[0m\u001b[1;33m\u001b[0m\u001b[1;33m\u001b[0m\u001b[0m\n\u001b[1;32m----> 2\u001b[1;33m \u001b[0ma\u001b[0m\u001b[1;33m[\u001b[0m\u001b[1;36m1\u001b[0m\u001b[1;33m]\u001b[0m\u001b[1;33m=\u001b[0m\u001b[1;34m'y'\u001b[0m\u001b[1;33m\u001b[0m\u001b[1;33m\u001b[0m\u001b[0m\n\u001b[0m\u001b[0;32m      3\u001b[0m \u001b[0ma\u001b[0m\u001b[1;33m\u001b[0m\u001b[1;33m\u001b[0m\u001b[0m\n",
            "\u001b[1;31mTypeError\u001b[0m: 'str' object does not support item assignment"
          ]
        }
      ]
    },
    {
      "cell_type": "code",
      "metadata": {
        "id": "TaK5SIOKJGJ-",
        "colab_type": "code",
        "colab": {},
        "outputId": "e39ed367-2a0e-4ca9-f938-86e590c15206"
      },
      "source": [
        "a = \"pithon\"\n",
        "b = a[:1]+'y'+a[2:]\n",
        "b"
      ],
      "execution_count": null,
      "outputs": [
        {
          "output_type": "execute_result",
          "data": {
            "text/plain": [
              "'python'"
            ]
          },
          "metadata": {
            "tags": []
          },
          "execution_count": 51
        }
      ]
    },
    {
      "cell_type": "markdown",
      "metadata": {
        "id": "7o3JtfMdMecH",
        "colab_type": "text"
      },
      "source": [
        "문자열 포매팅 \n",
        "* 숫자 바로 대입\n",
        "* 문자열 바로 대입 \n",
        "* 숫자 값을 나타내는 변수로 대입\n",
        "* 2개 이상의 값 넣기\n"
      ]
    },
    {
      "cell_type": "code",
      "metadata": {
        "id": "6aypC2hwJGKA",
        "colab_type": "code",
        "colab": {},
        "outputId": "cca1f8e0-e304-48b5-a658-dd996820c32e"
      },
      "source": [
        "\"I eat %d apples.\" % 3"
      ],
      "execution_count": null,
      "outputs": [
        {
          "output_type": "execute_result",
          "data": {
            "text/plain": [
              "'I eat 3 apples.'"
            ]
          },
          "metadata": {
            "tags": []
          },
          "execution_count": 52
        }
      ]
    },
    {
      "cell_type": "code",
      "metadata": {
        "id": "Aq4-P5FiJGKD",
        "colab_type": "code",
        "colab": {},
        "outputId": "108906ae-f97a-4f30-d82f-4b44c215a8ac"
      },
      "source": [
        "\"I eat %s apples.\" % \"five\""
      ],
      "execution_count": null,
      "outputs": [
        {
          "output_type": "execute_result",
          "data": {
            "text/plain": [
              "'I eat five apples.'"
            ]
          },
          "metadata": {
            "tags": []
          },
          "execution_count": 53
        }
      ]
    },
    {
      "cell_type": "code",
      "metadata": {
        "id": "aj1wvFxhJGKF",
        "colab_type": "code",
        "colab": {},
        "outputId": "370260d4-153a-4172-ad9f-ef78e78a6707"
      },
      "source": [
        "number = 3\n",
        "\"I eat %d apples.\" % number"
      ],
      "execution_count": null,
      "outputs": [
        {
          "output_type": "execute_result",
          "data": {
            "text/plain": [
              "'I eat 3 apples.'"
            ]
          },
          "metadata": {
            "tags": []
          },
          "execution_count": 54
        }
      ]
    },
    {
      "cell_type": "code",
      "metadata": {
        "id": "BsL4bBnbJGKI",
        "colab_type": "code",
        "colab": {},
        "outputId": "e56b43c4-5b9c-4fb1-aad3-102fce6f22d1"
      },
      "source": [
        "number = 10\n",
        "day = \"three\"\n",
        "\"I ate %d apples. so I was sick for %s days.\" %(number, day)"
      ],
      "execution_count": null,
      "outputs": [
        {
          "output_type": "execute_result",
          "data": {
            "text/plain": [
              "'I ate 10 apples. so I was sick for three days.'"
            ]
          },
          "metadata": {
            "tags": []
          },
          "execution_count": 55
        }
      ]
    },
    {
      "cell_type": "code",
      "metadata": {
        "id": "NE4Io3vFJGKM",
        "colab_type": "code",
        "colab": {},
        "outputId": "62dd13c6-5031-4333-d75e-6a43b2485b99"
      },
      "source": [
        "\"I have %s apples\" % 3"
      ],
      "execution_count": null,
      "outputs": [
        {
          "output_type": "execute_result",
          "data": {
            "text/plain": [
              "'I have 3 apples'"
            ]
          },
          "metadata": {
            "tags": []
          },
          "execution_count": 56
        }
      ]
    },
    {
      "cell_type": "code",
      "metadata": {
        "id": "LDxFmgSCJGKP",
        "colab_type": "code",
        "colab": {},
        "outputId": "382fbf3a-0bc2-4d37-e1b5-391555151998"
      },
      "source": [
        "\"rate is %s\" % 3.234"
      ],
      "execution_count": null,
      "outputs": [
        {
          "output_type": "execute_result",
          "data": {
            "text/plain": [
              "'rate is 3.234'"
            ]
          },
          "metadata": {
            "tags": []
          },
          "execution_count": 57
        }
      ]
    },
    {
      "cell_type": "code",
      "metadata": {
        "id": "Zi0Ycg85JGKS",
        "colab_type": "code",
        "colab": {},
        "outputId": "17029942-34b5-4de1-e57b-d1645e54c92a"
      },
      "source": [
        "\"Error is %d%%\" % 98"
      ],
      "execution_count": null,
      "outputs": [
        {
          "output_type": "execute_result",
          "data": {
            "text/plain": [
              "'Error is 98%'"
            ]
          },
          "metadata": {
            "tags": []
          },
          "execution_count": 60
        }
      ]
    },
    {
      "cell_type": "code",
      "metadata": {
        "id": "IygAlJmmJGKW",
        "colab_type": "code",
        "colab": {},
        "outputId": "3229474c-34e9-4fda-90da-b72bd25dcae4"
      },
      "source": [
        "\"[%10s]\" % \"hi\""
      ],
      "execution_count": null,
      "outputs": [
        {
          "output_type": "execute_result",
          "data": {
            "text/plain": [
              "'[        hi]'"
            ]
          },
          "metadata": {
            "tags": []
          },
          "execution_count": 63
        }
      ]
    },
    {
      "cell_type": "code",
      "metadata": {
        "id": "4mGZcPZnJGKY",
        "colab_type": "code",
        "colab": {},
        "outputId": "7574d160-34aa-40e2-d8c4-812704e8eee1"
      },
      "source": [
        "\"[%-10s]\" % \"hi\""
      ],
      "execution_count": null,
      "outputs": [
        {
          "output_type": "execute_result",
          "data": {
            "text/plain": [
              "'[hi        ]'"
            ]
          },
          "metadata": {
            "tags": []
          },
          "execution_count": 64
        }
      ]
    },
    {
      "cell_type": "code",
      "metadata": {
        "id": "vcUVVfO8JGKb",
        "colab_type": "code",
        "colab": {},
        "outputId": "58ef1d4b-99cc-4903-8d1e-462fb1892a15"
      },
      "source": [
        "\"%f\" % 3.42134274"
      ],
      "execution_count": null,
      "outputs": [
        {
          "output_type": "execute_result",
          "data": {
            "text/plain": [
              "'3.421343'"
            ]
          },
          "metadata": {
            "tags": []
          },
          "execution_count": 66
        }
      ]
    },
    {
      "cell_type": "code",
      "metadata": {
        "id": "zgBZt2FRJGKd",
        "colab_type": "code",
        "colab": {},
        "outputId": "78ce4be4-fae0-4f2b-ce3e-db22533c4224"
      },
      "source": [
        "\"%0.4f\" % 3.42137274"
      ],
      "execution_count": null,
      "outputs": [
        {
          "output_type": "execute_result",
          "data": {
            "text/plain": [
              "'3.4214'"
            ]
          },
          "metadata": {
            "tags": []
          },
          "execution_count": 69
        }
      ]
    },
    {
      "cell_type": "code",
      "metadata": {
        "id": "ph2gHdVIJGKf",
        "colab_type": "code",
        "colab": {},
        "outputId": "05086a48-19f2-4cdf-81e2-528b0d212b9f"
      },
      "source": [
        "\"%10.4f\" % 3.42137274"
      ],
      "execution_count": null,
      "outputs": [
        {
          "output_type": "execute_result",
          "data": {
            "text/plain": [
              "'    3.4214'"
            ]
          },
          "metadata": {
            "tags": []
          },
          "execution_count": 70
        }
      ]
    },
    {
      "cell_type": "code",
      "metadata": {
        "id": "n3-OoRwXJGKh",
        "colab_type": "code",
        "colab": {},
        "outputId": "021fcc75-a7e3-441d-ebf3-0d01a4a9270f"
      },
      "source": [
        "\"%-10.4f\" % 3.42137274"
      ],
      "execution_count": null,
      "outputs": [
        {
          "output_type": "execute_result",
          "data": {
            "text/plain": [
              "'3.4214    '"
            ]
          },
          "metadata": {
            "tags": []
          },
          "execution_count": 71
        }
      ]
    },
    {
      "cell_type": "code",
      "metadata": {
        "id": "xFmLRvj7JGKi",
        "colab_type": "code",
        "colab": {}
      },
      "source": [
        ""
      ],
      "execution_count": null,
      "outputs": []
    },
    {
      "cell_type": "code",
      "metadata": {
        "id": "p5093OwbJGKl",
        "colab_type": "code",
        "colab": {}
      },
      "source": [
        ""
      ],
      "execution_count": null,
      "outputs": []
    }
  ]
}