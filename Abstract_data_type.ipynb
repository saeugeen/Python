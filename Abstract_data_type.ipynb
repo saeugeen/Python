{
  "nbformat": 4,
  "nbformat_minor": 0,
  "metadata": {
    "colab": {
      "name": "Untitled0.ipynb",
      "provenance": [],
      "collapsed_sections": [],
      "toc_visible": true,
      "authorship_tag": "ABX9TyNIOZ0k6cqsXk7dGz9FSEZG",
      "include_colab_link": true
    },
    "kernelspec": {
      "name": "python3",
      "display_name": "Python 3"
    }
  },
  "cells": [
    {
      "cell_type": "markdown",
      "metadata": {
        "id": "view-in-github",
        "colab_type": "text"
      },
      "source": [
        "<a href=\"https://colab.research.google.com/github/saeugeen/Python_data-structure_algorithm/blob/master/Abstract_data_type.ipynb\" target=\"_parent\"><img src=\"https://colab.research.google.com/assets/colab-badge.svg\" alt=\"Open In Colab\"/></a>"
      ]
    },
    {
      "cell_type": "code",
      "metadata": {
        "id": "GY1jT_ScgMRg",
        "colab_type": "code",
        "colab": {}
      },
      "source": [
        ""
      ],
      "execution_count": null,
      "outputs": []
    },
    {
      "cell_type": "markdown",
      "metadata": {
        "id": "lACkpiOMiNVs",
        "colab_type": "text"
      },
      "source": [
        "# 추상 데이터 타입"
      ]
    },
    {
      "cell_type": "markdown",
      "metadata": {
        "id": "Y7vS2OOiiTIj",
        "colab_type": "text"
      },
      "source": [
        "1.스택\n",
        "\n",
        "*   배열의 끝에서만 데이터를 접근할 수 있는 선형 자료구조이다.\n",
        "*   후입 선출 구조이다 (LIFO)\n",
        "\n",
        "\n"
      ]
    },
    {
      "cell_type": "markdown",
      "metadata": {
        "id": "JHXKmX3Io6TT",
        "colab_type": "text"
      },
      "source": [
        "**스택 만들기**\n",
        "\n",
        "\n",
        "*   리스트의 append()와 pop() 메서드로 스택을 구현 할 수 있다\n",
        "\n"
      ]
    },
    {
      "cell_type": "code",
      "metadata": {
        "id": "RQ6ZdluaiQ67",
        "colab_type": "code",
        "colab": {
          "base_uri": "https://localhost:8080/",
          "height": 538
        },
        "outputId": "1c308ec8-0531-42e1-86bc-0722e19c6530"
      },
      "source": [
        "class Stack(object):\n",
        "    def __init__(self):\n",
        "        self.items = []\n",
        "        \n",
        "    def isEmpty(self):\n",
        "        return not bool(self.items)\n",
        "    \n",
        "    def push(self, value):\n",
        "        self.items.append(value)\n",
        "        \n",
        "    def pop(self):\n",
        "        value = self.items.pop()\n",
        "        if value is not None:\n",
        "            return value\n",
        "        else:\n",
        "            print(\"Stack is empty.\")\n",
        "    \n",
        "    def size(self):\n",
        "        return len(self.items)\n",
        "    \n",
        "    def peek(self):\n",
        "        if self.items:\n",
        "            return self.items[-1]\n",
        "        else:\n",
        "            print(\"Stack is empty.\")\n",
        "            \n",
        "    def __repr__(self):\n",
        "        return repr(self.items)\n",
        "    \n",
        "if __name__ == \"__main__\":\n",
        "    stack = Stack()\n",
        "    print(stack)\n",
        "    for i in range(10):\n",
        "        stack.push(i)\n",
        "    print(stack)\n",
        "    for i in range(10):\n",
        "        print(\"pop : {0}\".format(stack.pop()))\n",
        "    print(\"pop : {0}\".format(stack.pop()))"
      ],
      "execution_count": 1,
      "outputs": [
        {
          "output_type": "stream",
          "text": [
            "[]\n",
            "[0, 1, 2, 3, 4, 5, 6, 7, 8, 9]\n",
            "pop : 9\n",
            "pop : 8\n",
            "pop : 7\n",
            "pop : 6\n",
            "pop : 5\n",
            "pop : 4\n",
            "pop : 3\n",
            "pop : 2\n",
            "pop : 1\n",
            "pop : 0\n"
          ],
          "name": "stdout"
        },
        {
          "output_type": "error",
          "ename": "IndexError",
          "evalue": "ignored",
          "traceback": [
            "\u001b[0;31m---------------------------------------------------------------------------\u001b[0m",
            "\u001b[0;31mIndexError\u001b[0m                                Traceback (most recent call last)",
            "\u001b[0;32m<ipython-input-1-b68ef9784549>\u001b[0m in \u001b[0;36m<module>\u001b[0;34m()\u001b[0m\n\u001b[1;32m     36\u001b[0m     \u001b[0;32mfor\u001b[0m \u001b[0mi\u001b[0m \u001b[0;32min\u001b[0m \u001b[0mrange\u001b[0m\u001b[0;34m(\u001b[0m\u001b[0;36m10\u001b[0m\u001b[0;34m)\u001b[0m\u001b[0;34m:\u001b[0m\u001b[0;34m\u001b[0m\u001b[0;34m\u001b[0m\u001b[0m\n\u001b[1;32m     37\u001b[0m         \u001b[0mprint\u001b[0m\u001b[0;34m(\u001b[0m\u001b[0;34m\"pop : {0}\"\u001b[0m\u001b[0;34m.\u001b[0m\u001b[0mformat\u001b[0m\u001b[0;34m(\u001b[0m\u001b[0mstack\u001b[0m\u001b[0;34m.\u001b[0m\u001b[0mpop\u001b[0m\u001b[0;34m(\u001b[0m\u001b[0;34m)\u001b[0m\u001b[0;34m)\u001b[0m\u001b[0;34m)\u001b[0m\u001b[0;34m\u001b[0m\u001b[0;34m\u001b[0m\u001b[0m\n\u001b[0;32m---> 38\u001b[0;31m     \u001b[0mprint\u001b[0m\u001b[0;34m(\u001b[0m\u001b[0;34m\"pop : {0}\"\u001b[0m\u001b[0;34m.\u001b[0m\u001b[0mformat\u001b[0m\u001b[0;34m(\u001b[0m\u001b[0mstack\u001b[0m\u001b[0;34m.\u001b[0m\u001b[0mpop\u001b[0m\u001b[0;34m(\u001b[0m\u001b[0;34m)\u001b[0m\u001b[0;34m)\u001b[0m\u001b[0;34m)\u001b[0m\u001b[0;34m\u001b[0m\u001b[0;34m\u001b[0m\u001b[0m\n\u001b[0m",
            "\u001b[0;32m<ipython-input-1-b68ef9784549>\u001b[0m in \u001b[0;36mpop\u001b[0;34m(self)\u001b[0m\n\u001b[1;32m     10\u001b[0m \u001b[0;34m\u001b[0m\u001b[0m\n\u001b[1;32m     11\u001b[0m     \u001b[0;32mdef\u001b[0m \u001b[0mpop\u001b[0m\u001b[0;34m(\u001b[0m\u001b[0mself\u001b[0m\u001b[0;34m)\u001b[0m\u001b[0;34m:\u001b[0m\u001b[0;34m\u001b[0m\u001b[0;34m\u001b[0m\u001b[0m\n\u001b[0;32m---> 12\u001b[0;31m         \u001b[0mvalue\u001b[0m \u001b[0;34m=\u001b[0m \u001b[0mself\u001b[0m\u001b[0;34m.\u001b[0m\u001b[0mitems\u001b[0m\u001b[0;34m.\u001b[0m\u001b[0mpop\u001b[0m\u001b[0;34m(\u001b[0m\u001b[0;34m)\u001b[0m\u001b[0;34m\u001b[0m\u001b[0;34m\u001b[0m\u001b[0m\n\u001b[0m\u001b[1;32m     13\u001b[0m         \u001b[0;32mif\u001b[0m \u001b[0mvalue\u001b[0m \u001b[0;32mis\u001b[0m \u001b[0;32mnot\u001b[0m \u001b[0;32mNone\u001b[0m\u001b[0;34m:\u001b[0m\u001b[0;34m\u001b[0m\u001b[0;34m\u001b[0m\u001b[0m\n\u001b[1;32m     14\u001b[0m             \u001b[0;32mreturn\u001b[0m \u001b[0mvalue\u001b[0m\u001b[0;34m\u001b[0m\u001b[0;34m\u001b[0m\u001b[0m\n",
            "\u001b[0;31mIndexError\u001b[0m: pop from empty list"
          ]
        }
      ]
    },
    {
      "cell_type": "markdown",
      "metadata": {
        "id": "aPof4H3kpWmK",
        "colab_type": "text"
      },
      "source": [
        "\n",
        "\n",
        "*   노드(객체)의 컨테이너로 스택을 구현\n",
        "\n"
      ]
    },
    {
      "cell_type": "code",
      "metadata": {
        "id": "HzwWvUFSpAgo",
        "colab_type": "code",
        "colab": {
          "base_uri": "https://localhost:8080/",
          "height": 263
        },
        "outputId": "38f75546-11ea-4767-bae8-814facc28f63"
      },
      "source": [
        "class Node(object):\n",
        "    def __init__(self, value=None, pointer=None ):\n",
        "        self.value = value\n",
        "        self.pointer = pointer\n",
        "\n",
        "class Stack(object):\n",
        "    def __init__(self):\n",
        "        self.head = None\n",
        "        self.count = 0\n",
        "        \n",
        "    def isEmpty(self):\n",
        "        return not bool(self.head)\n",
        "    \n",
        "    def push(self, item):\n",
        "        self.head = Node(item, self.head)\n",
        "        self.count += 1\n",
        "        \n",
        "    def pop(self):\n",
        "        if( self.count>0 and self.head ):\n",
        "            node = self.head\n",
        "            self.head = node.pointer\n",
        "            self.count -= 1\n",
        "            return node.value\n",
        "        else:\n",
        "            print(\"Stack is empty.\")\n",
        "    \n",
        "    def size(self):\n",
        "        return self.count\n",
        "    \n",
        "    def peek(self):\n",
        "        if( self.count>0 and self.head ):\n",
        "            return self.head.value\n",
        "        else:\n",
        "            print(\"Stack is empty.\")\n",
        "            \n",
        "    def _printList(self):\n",
        "        node = self.head\n",
        "        while node:\n",
        "            print(node.value, end=\" \")\n",
        "            node = node.pointer\n",
        "        print()\n",
        "    \n",
        "if __name__ == \"__main__\":\n",
        "    stack = Stack()\n",
        "    print(stack)\n",
        "    for i in range(10):\n",
        "        stack.push(i)\n",
        "    print(stack)\n",
        "    for i in range(10):\n",
        "        print(\"pop : {0}\".format(stack.pop()))\n",
        "    print(\"pop : {0}\".format(stack.pop()))"
      ],
      "execution_count": 2,
      "outputs": [
        {
          "output_type": "stream",
          "text": [
            "<__main__.Stack object at 0x7fb5aa063ac8>\n",
            "<__main__.Stack object at 0x7fb5aa063ac8>\n",
            "pop : 9\n",
            "pop : 8\n",
            "pop : 7\n",
            "pop : 6\n",
            "pop : 5\n",
            "pop : 4\n",
            "pop : 3\n",
            "pop : 2\n",
            "pop : 1\n",
            "pop : 0\n",
            "Stack is empty.\n",
            "pop : None\n"
          ],
          "name": "stdout"
        }
      ]
    },
    {
      "cell_type": "code",
      "metadata": {
        "id": "i7IQTYk_pgbW",
        "colab_type": "code",
        "colab": {}
      },
      "source": [
        ""
      ],
      "execution_count": null,
      "outputs": []
    }
  ]
}