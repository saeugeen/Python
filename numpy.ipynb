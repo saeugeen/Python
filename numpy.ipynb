{
  "nbformat": 4,
  "nbformat_minor": 0,
  "metadata": {
    "colab": {
      "name": "Untitled8.ipynb",
      "provenance": [],
      "private_outputs": true,
      "authorship_tag": "ABX9TyOZ+trCeQdgnWe44guLBSn5",
      "include_colab_link": true
    },
    "kernelspec": {
      "name": "python3",
      "display_name": "Python 3"
    }
  },
  "cells": [
    {
      "cell_type": "markdown",
      "metadata": {
        "id": "view-in-github",
        "colab_type": "text"
      },
      "source": [
        "<a href=\"https://colab.research.google.com/github/saeugeen/Python/blob/master/numpy.ipynb\" target=\"_parent\"><img src=\"https://colab.research.google.com/assets/colab-badge.svg\" alt=\"Open In Colab\"/></a>"
      ]
    },
    {
      "cell_type": "markdown",
      "metadata": {
        "id": "iAJY3lz_TUYy",
        "colab_type": "text"
      },
      "source": [
        "넘파이 임포트"
      ]
    },
    {
      "cell_type": "code",
      "metadata": {
        "id": "l25nP_aLTTRG",
        "colab_type": "code",
        "colab": {}
      },
      "source": [
        "import numpy as np"
      ],
      "execution_count": null,
      "outputs": []
    },
    {
      "cell_type": "markdown",
      "metadata": {
        "id": "fmCQiSQSTaWI",
        "colab_type": "text"
      },
      "source": [
        "생성 함수"
      ]
    },
    {
      "cell_type": "code",
      "metadata": {
        "id": "dOAkIa4gTZnH",
        "colab_type": "code",
        "colab": {}
      },
      "source": [
        "li = [1,2,3,4,5]\n",
        "type(li)\n",
        "arr = np.array(li) #ndarray 로 변환\n",
        "arr"
      ],
      "execution_count": null,
      "outputs": []
    },
    {
      "cell_type": "code",
      "metadata": {
        "id": "QQ1nAFyLTj_9",
        "colab_type": "code",
        "colab": {}
      },
      "source": [
        "print(type(arr))\n",
        "print(type(li))"
      ],
      "execution_count": null,
      "outputs": []
    },
    {
      "cell_type": "markdown",
      "metadata": {
        "id": "25WiIuitUu-l",
        "colab_type": "text"
      },
      "source": [
        "np.arange()"
      ]
    },
    {
      "cell_type": "markdown",
      "metadata": {
        "id": "y5sQVtxOVGO7",
        "colab_type": "text"
      },
      "source": [
        "파이썬 range 함수와 같지만 ndarray 객체를 생성한다."
      ]
    },
    {
      "cell_type": "code",
      "metadata": {
        "id": "TXFxfUJjT3Q1",
        "colab_type": "code",
        "colab": {}
      },
      "source": [
        "np.arange(1,7)"
      ],
      "execution_count": null,
      "outputs": []
    },
    {
      "cell_type": "markdown",
      "metadata": {
        "id": "O3d-xuFHVR2S",
        "colab_type": "text"
      },
      "source": [
        "np.zeros(), np.ones(), np.full()"
      ]
    },
    {
      "cell_type": "code",
      "metadata": {
        "id": "vKuQ3Z5QU1vx",
        "colab_type": "code",
        "colab": {}
      },
      "source": [
        "np.zeros(10)"
      ],
      "execution_count": null,
      "outputs": []
    },
    {
      "cell_type": "code",
      "metadata": {
        "id": "ytvhct_dVacg",
        "colab_type": "code",
        "colab": {}
      },
      "source": [
        "np.zeros((2,3))"
      ],
      "execution_count": null,
      "outputs": []
    },
    {
      "cell_type": "code",
      "metadata": {
        "id": "tJcUlJCGVi9I",
        "colab_type": "code",
        "colab": {}
      },
      "source": [
        "arr = np.zeros((2,3))"
      ],
      "execution_count": null,
      "outputs": []
    },
    {
      "cell_type": "code",
      "metadata": {
        "id": "-m7tzo9DV9Be",
        "colab_type": "code",
        "colab": {}
      },
      "source": [
        "arr.shape"
      ],
      "execution_count": null,
      "outputs": []
    },
    {
      "cell_type": "code",
      "metadata": {
        "id": "47T-Y7KkV-jO",
        "colab_type": "code",
        "colab": {}
      },
      "source": [
        "arr = np.zeros((2,2,2))"
      ],
      "execution_count": null,
      "outputs": []
    },
    {
      "cell_type": "code",
      "metadata": {
        "id": "RIUXPHLXWEhe",
        "colab_type": "code",
        "colab": {}
      },
      "source": [
        "arr.shape"
      ],
      "execution_count": null,
      "outputs": []
    },
    {
      "cell_type": "code",
      "metadata": {
        "id": "wlEJBjwjWF82",
        "colab_type": "code",
        "colab": {}
      },
      "source": [
        "arr = np.ones((2,2,2))"
      ],
      "execution_count": null,
      "outputs": []
    },
    {
      "cell_type": "code",
      "metadata": {
        "id": "fhZNw6IoWQ6e",
        "colab_type": "code",
        "colab": {}
      },
      "source": [
        "arr"
      ],
      "execution_count": null,
      "outputs": []
    },
    {
      "cell_type": "code",
      "metadata": {
        "id": "iHh6ZS9eWRTd",
        "colab_type": "code",
        "colab": {}
      },
      "source": [
        "arr = np.full((2,2,2),7)\n",
        "arr"
      ],
      "execution_count": null,
      "outputs": []
    },
    {
      "cell_type": "markdown",
      "metadata": {
        "id": "oL-oHPHSXHQl",
        "colab_type": "text"
      },
      "source": [
        "형상 관련 함수"
      ]
    },
    {
      "cell_type": "code",
      "metadata": {
        "id": "qhmhWwH4XG6W",
        "colab_type": "code",
        "colab": {}
      },
      "source": [
        "arr = np.arange(1,6)"
      ],
      "execution_count": null,
      "outputs": []
    },
    {
      "cell_type": "code",
      "metadata": {
        "id": "W4imrxt3WYmV",
        "colab_type": "code",
        "colab": {}
      },
      "source": [
        "arr.shape"
      ],
      "execution_count": null,
      "outputs": []
    },
    {
      "cell_type": "code",
      "metadata": {
        "id": "GM5kDwSaXNXD",
        "colab_type": "code",
        "colab": {}
      },
      "source": [
        "len(arr)"
      ],
      "execution_count": null,
      "outputs": []
    },
    {
      "cell_type": "markdown",
      "metadata": {
        "id": "ZzKk2JqsXXWN",
        "colab_type": "text"
      },
      "source": [
        "np.reshape함수"
      ]
    },
    {
      "cell_type": "code",
      "metadata": {
        "id": "fLLvP2_OXOzb",
        "colab_type": "code",
        "colab": {}
      },
      "source": [
        "arr = np.arange(1,7)\n",
        "arr"
      ],
      "execution_count": null,
      "outputs": []
    },
    {
      "cell_type": "code",
      "metadata": {
        "id": "33HgMy3wXeZ6",
        "colab_type": "code",
        "colab": {}
      },
      "source": [
        "arr = np.reshape(arr,(2,3))"
      ],
      "execution_count": null,
      "outputs": []
    },
    {
      "cell_type": "code",
      "metadata": {
        "id": "9yF0P4krXiAR",
        "colab_type": "code",
        "colab": {}
      },
      "source": [
        "arr"
      ],
      "execution_count": null,
      "outputs": []
    },
    {
      "cell_type": "code",
      "metadata": {
        "id": "pPMHu28hXpap",
        "colab_type": "code",
        "colab": {}
      },
      "source": [
        "arr[1,1]"
      ],
      "execution_count": null,
      "outputs": []
    },
    {
      "cell_type": "code",
      "metadata": {
        "id": "pSXijgKHYdp6",
        "colab_type": "code",
        "colab": {}
      },
      "source": [
        "arr[1][1]"
      ],
      "execution_count": null,
      "outputs": []
    },
    {
      "cell_type": "code",
      "metadata": {
        "id": "AwA28f1mYm3o",
        "colab_type": "code",
        "colab": {}
      },
      "source": [
        "arr = np.reshape(arr,(3,2))"
      ],
      "execution_count": null,
      "outputs": []
    },
    {
      "cell_type": "code",
      "metadata": {
        "id": "tlPJdcNhY9rF",
        "colab_type": "code",
        "colab": {}
      },
      "source": [
        "arr"
      ],
      "execution_count": null,
      "outputs": []
    },
    {
      "cell_type": "markdown",
      "metadata": {
        "id": "AAhjiUBSZUp8",
        "colab_type": "text"
      },
      "source": [
        "-1은 그 행이나 열은 그대로 두고라는 뜻이다"
      ]
    },
    {
      "cell_type": "code",
      "metadata": {
        "id": "aBSV96q8ZOzc",
        "colab_type": "code",
        "colab": {}
      },
      "source": [
        "arr = np.reshape(arr,(-1,3))"
      ],
      "execution_count": null,
      "outputs": []
    },
    {
      "cell_type": "code",
      "metadata": {
        "id": "FlKAdU8GZc_z",
        "colab_type": "code",
        "colab": {}
      },
      "source": [
        "arr"
      ],
      "execution_count": null,
      "outputs": []
    },
    {
      "cell_type": "code",
      "metadata": {
        "id": "52gUCckBZez7",
        "colab_type": "code",
        "colab": {}
      },
      "source": [
        "arr = np.reshape(arr,(3,-1))\n",
        "arr"
      ],
      "execution_count": null,
      "outputs": []
    },
    {
      "cell_type": "markdown",
      "metadata": {
        "id": "iuz3EoBiZrm1",
        "colab_type": "text"
      },
      "source": [
        "행 벡터를 열 벡터로 바꾼다"
      ]
    },
    {
      "cell_type": "code",
      "metadata": {
        "id": "QxBDxXtPZodm",
        "colab_type": "code",
        "colab": {}
      },
      "source": [
        "arr = np.arange(1,7)\n",
        "arr"
      ],
      "execution_count": null,
      "outputs": []
    },
    {
      "cell_type": "markdown",
      "metadata": {
        "id": "tY-VOoQGaiSF",
        "colab_type": "text"
      },
      "source": [
        "arr.shape(6,) 과arr.shape(6,1)은 차원이 다른 함수이다."
      ]
    },
    {
      "cell_type": "code",
      "metadata": {
        "id": "wXp20ACCZ0Qa",
        "colab_type": "code",
        "colab": {}
      },
      "source": [
        "arr = np.reshape(arr,(-1,1))\n",
        "arr.shape"
      ],
      "execution_count": null,
      "outputs": []
    },
    {
      "cell_type": "code",
      "metadata": {
        "id": "NKyUX3zta0ng",
        "colab_type": "code",
        "colab": {}
      },
      "source": [
        "arr = np.reshape(arr,(-1,1))\n",
        "arr.shape"
      ],
      "execution_count": null,
      "outputs": []
    },
    {
      "cell_type": "markdown",
      "metadata": {
        "id": "my73pT0ObEhI",
        "colab_type": "text"
      },
      "source": [
        "행렬의 전치"
      ]
    },
    {
      "cell_type": "code",
      "metadata": {
        "id": "fGcW1NFDa7fR",
        "colab_type": "code",
        "colab": {}
      },
      "source": [
        "arr = np.arange(1,7)\n",
        "arr = np.reshape(arr,(-1,3))\n",
        "arr"
      ],
      "execution_count": null,
      "outputs": []
    },
    {
      "cell_type": "code",
      "metadata": {
        "id": "K1l1Vj-nbS6G",
        "colab_type": "code",
        "colab": {}
      },
      "source": [
        "arr.T"
      ],
      "execution_count": null,
      "outputs": []
    },
    {
      "cell_type": "code",
      "metadata": {
        "id": "EHYjfL0ZcAv8",
        "colab_type": "code",
        "colab": {}
      },
      "source": [
        "np.reshape(arr,(-1,2))"
      ],
      "execution_count": null,
      "outputs": []
    },
    {
      "cell_type": "code",
      "metadata": {
        "id": "-UgsgCJfcEC1",
        "colab_type": "code",
        "colab": {}
      },
      "source": [
        "arr = np.arange(1,7)\n",
        "arr"
      ],
      "execution_count": null,
      "outputs": []
    },
    {
      "cell_type": "code",
      "metadata": {
        "id": "nsOv0kbicS7c",
        "colab_type": "code",
        "colab": {}
      },
      "source": [
        "arr.T #1차원은 변하지 않는다"
      ],
      "execution_count": null,
      "outputs": []
    },
    {
      "cell_type": "code",
      "metadata": {
        "id": "delNgWkzcUWb",
        "colab_type": "code",
        "colab": {}
      },
      "source": [
        "np.reshape(arr,(-1,1))"
      ],
      "execution_count": null,
      "outputs": []
    },
    {
      "cell_type": "markdown",
      "metadata": {
        "id": "g8xAlstzf7YP",
        "colab_type": "text"
      },
      "source": [
        "난수 발생 함수"
      ]
    },
    {
      "cell_type": "code",
      "metadata": {
        "id": "eqnP9r4dcx5Z",
        "colab_type": "code",
        "colab": {}
      },
      "source": [
        "np.random.randint(1,10)"
      ],
      "execution_count": null,
      "outputs": []
    },
    {
      "cell_type": "code",
      "metadata": {
        "id": "ogP_pkTngBzZ",
        "colab_type": "code",
        "colab": {}
      },
      "source": [
        "np.random.randint(1,10,5)"
      ],
      "execution_count": null,
      "outputs": []
    },
    {
      "cell_type": "markdown",
      "metadata": {
        "id": "W0AIP7H3hJPn",
        "colab_type": "text"
      },
      "source": [
        "평균은 0에 수렴하고 표준 편차는 1에 수렴하는 랜덤 수 생성(가우시안 정규분포)"
      ]
    },
    {
      "cell_type": "code",
      "metadata": {
        "id": "NgJpencCgQCX",
        "colab_type": "code",
        "colab": {}
      },
      "source": [
        "np.random.randn(5)"
      ],
      "execution_count": null,
      "outputs": []
    },
    {
      "cell_type": "code",
      "metadata": {
        "id": "r4K-bLQigTRH",
        "colab_type": "code",
        "colab": {}
      },
      "source": [
        "arr = np.random.randn(5) #난수가 클수록 0으로 수렴하게 된다"
      ],
      "execution_count": null,
      "outputs": []
    },
    {
      "cell_type": "code",
      "metadata": {
        "id": "5Ux1d5SUgfWH",
        "colab_type": "code",
        "colab": {}
      },
      "source": [
        "np.mean(arr)"
      ],
      "execution_count": null,
      "outputs": []
    },
    {
      "cell_type": "code",
      "metadata": {
        "id": "nqEfvx30gjK3",
        "colab_type": "code",
        "colab": {}
      },
      "source": [
        "np.std(arr)"
      ],
      "execution_count": null,
      "outputs": []
    },
    {
      "cell_type": "markdown",
      "metadata": {
        "id": "bxVAeNdYheg2",
        "colab_type": "text"
      },
      "source": [
        "랜덤 seed 지정하기"
      ]
    },
    {
      "cell_type": "code",
      "metadata": {
        "id": "VgfX9_cLg7U1",
        "colab_type": "code",
        "colab": {}
      },
      "source": [
        "np.random.seed(42)"
      ],
      "execution_count": null,
      "outputs": []
    },
    {
      "cell_type": "markdown",
      "metadata": {
        "id": "fQvfxV4Lh31P",
        "colab_type": "text"
      },
      "source": [
        "넘파이 연산 함수"
      ]
    },
    {
      "cell_type": "code",
      "metadata": {
        "id": "_AHAEcsrhl9K",
        "colab_type": "code",
        "colab": {}
      },
      "source": [
        "a = np.array([1,2,3])\n",
        "b = np.array([4,5,6])\n",
        "\n",
        "a+b"
      ],
      "execution_count": null,
      "outputs": []
    },
    {
      "cell_type": "markdown",
      "metadata": {
        "id": "ZjvuZoxfia1t",
        "colab_type": "text"
      },
      "source": [
        "넘파이 브로드캐스트 연산"
      ]
    },
    {
      "cell_type": "code",
      "metadata": {
        "id": "NGfP8LyLiGmZ",
        "colab_type": "code",
        "colab": {}
      },
      "source": [
        "a = np.array([1,2,3])\n",
        "b = 10\n",
        "c=a+b\n",
        "c"
      ],
      "execution_count": null,
      "outputs": []
    },
    {
      "cell_type": "code",
      "metadata": {
        "id": "MKumPidVi_YD",
        "colab_type": "code",
        "colab": {}
      },
      "source": [
        "a = np.array([[1,2],[3,4]])\n",
        "b = 10\n",
        "c=a+b\n",
        "c"
      ],
      "execution_count": null,
      "outputs": []
    },
    {
      "cell_type": "code",
      "metadata": {
        "id": "7eXr6KrQjDb_",
        "colab_type": "code",
        "colab": {}
      },
      "source": [
        "a = np.array([[1,2],[3,4]])\n",
        "b = np.array([10,20])\n",
        "c=a+b\n",
        "c"
      ],
      "execution_count": null,
      "outputs": []
    },
    {
      "cell_type": "markdown",
      "metadata": {
        "id": "DWf78wX-5h3w",
        "colab_type": "text"
      },
      "source": [
        "넘파이 array의 인덱싱"
      ]
    },
    {
      "cell_type": "code",
      "metadata": {
        "id": "Cr9Qov_T5uz2",
        "colab_type": "code",
        "colab": {}
      },
      "source": [
        "import numpy as np"
      ],
      "execution_count": null,
      "outputs": []
    },
    {
      "cell_type": "code",
      "metadata": {
        "id": "ZMhm8roZjOav",
        "colab_type": "code",
        "colab": {}
      },
      "source": [
        "arr1 = np.arange(10)\n",
        "arr1"
      ],
      "execution_count": null,
      "outputs": []
    },
    {
      "cell_type": "code",
      "metadata": {
        "id": "9OkvHOm95rqd",
        "colab_type": "code",
        "colab": {}
      },
      "source": [
        "arr1[0]"
      ],
      "execution_count": null,
      "outputs": []
    },
    {
      "cell_type": "code",
      "metadata": {
        "id": "5sptIvAf57Ky",
        "colab_type": "code",
        "colab": {}
      },
      "source": [
        "type(arr1[0])"
      ],
      "execution_count": null,
      "outputs": []
    },
    {
      "cell_type": "code",
      "metadata": {
        "id": "UQC8anp-6Fg6",
        "colab_type": "code",
        "colab": {}
      },
      "source": [
        "arr1[3:9]"
      ],
      "execution_count": null,
      "outputs": []
    },
    {
      "cell_type": "code",
      "metadata": {
        "id": "cK4ahLHB6Wyh",
        "colab_type": "code",
        "colab": {}
      },
      "source": [
        "type(arr1[3:9])"
      ],
      "execution_count": null,
      "outputs": []
    },
    {
      "cell_type": "markdown",
      "metadata": {
        "id": "KalJQK7q694o",
        "colab_type": "text"
      },
      "source": [
        "2차원 배열의 인덱싱"
      ]
    },
    {
      "cell_type": "code",
      "metadata": {
        "id": "ZOAMSoZD6Yqx",
        "colab_type": "code",
        "colab": {}
      },
      "source": [
        "arr2 = np.array([[1,2,3,4],\n",
        "                 [5,6,7,8],\n",
        "                 [9,10,11,12]])\n",
        "arr2"
      ],
      "execution_count": null,
      "outputs": []
    },
    {
      "cell_type": "code",
      "metadata": {
        "id": "Snn3KMXS7P9O",
        "colab_type": "code",
        "colab": {}
      },
      "source": [
        "arr2.shape"
      ],
      "execution_count": null,
      "outputs": []
    },
    {
      "cell_type": "code",
      "metadata": {
        "id": "yVGqOWpe7tnU",
        "colab_type": "code",
        "colab": {}
      },
      "source": [
        "arr2.ndim"
      ],
      "execution_count": null,
      "outputs": []
    },
    {
      "cell_type": "code",
      "metadata": {
        "id": "nBLz-Oew7vj0",
        "colab_type": "code",
        "colab": {}
      },
      "source": [
        "arr2[:2]"
      ],
      "execution_count": null,
      "outputs": []
    },
    {
      "cell_type": "code",
      "metadata": {
        "id": "0FKXUJ-98Gnk",
        "colab_type": "code",
        "colab": {}
      },
      "source": [
        "arr2[:,2]\n"
      ],
      "execution_count": null,
      "outputs": []
    },
    {
      "cell_type": "code",
      "metadata": {
        "id": "OrqkvY1Z8Lub",
        "colab_type": "code",
        "colab": {}
      },
      "source": [
        "arr2[:,2].shape"
      ],
      "execution_count": null,
      "outputs": []
    },
    {
      "cell_type": "code",
      "metadata": {
        "id": "i3Kfsnfg8sBq",
        "colab_type": "code",
        "colab": {}
      },
      "source": [
        "arr2[2,:]"
      ],
      "execution_count": null,
      "outputs": []
    },
    {
      "cell_type": "code",
      "metadata": {
        "id": "yNmx8RBg837h",
        "colab_type": "code",
        "colab": {}
      },
      "source": [
        "arr2[:,1:3]"
      ],
      "execution_count": null,
      "outputs": []
    },
    {
      "cell_type": "code",
      "metadata": {
        "id": "xpSaiFBh9RZ4",
        "colab_type": "code",
        "colab": {}
      },
      "source": [
        "arr2[:,[1,3]]"
      ],
      "execution_count": null,
      "outputs": []
    },
    {
      "cell_type": "code",
      "metadata": {
        "id": "EZv3yuTX-EYu",
        "colab_type": "code",
        "colab": {}
      },
      "source": [
        "temp=[1,3]\n",
        "arr2[:,temp]"
      ],
      "execution_count": null,
      "outputs": []
    },
    {
      "cell_type": "code",
      "metadata": {
        "id": "w1BQaK8x-VtM",
        "colab_type": "code",
        "colab": {}
      },
      "source": [
        "arr2[[0,2],1]"
      ],
      "execution_count": null,
      "outputs": []
    },
    {
      "cell_type": "code",
      "metadata": {
        "id": "qZv3MuQ9_Jii",
        "colab_type": "code",
        "colab": {}
      },
      "source": [
        "arr2[[0,2],[1,3]]"
      ],
      "execution_count": null,
      "outputs": []
    },
    {
      "cell_type": "code",
      "metadata": {
        "id": "30im3mcFAKF6",
        "colab_type": "code",
        "colab": {}
      },
      "source": [
        "index = np.array([0,2])\n",
        "arr2[index,:]"
      ],
      "execution_count": null,
      "outputs": []
    },
    {
      "cell_type": "markdown",
      "metadata": {
        "id": "RJNAKufcFa3q",
        "colab_type": "text"
      },
      "source": [
        "array boolean 인데싱( 마스크 )"
      ]
    },
    {
      "cell_type": "code",
      "metadata": {
        "id": "46WGCJtrARD2",
        "colab_type": "code",
        "colab": {}
      },
      "source": [
        "data = np.arange(16).reshape((4,4))\n",
        "data"
      ],
      "execution_count": null,
      "outputs": []
    },
    {
      "cell_type": "code",
      "metadata": {
        "id": "rbHPhwZsFnoO",
        "colab_type": "code",
        "colab": {}
      },
      "source": [
        "data[:,2]"
      ],
      "execution_count": null,
      "outputs": []
    },
    {
      "cell_type": "code",
      "metadata": {
        "id": "tWF6RzlZF6Lt",
        "colab_type": "code",
        "colab": {}
      },
      "source": [
        "names = np.array(['Kim' ,'Lee' ,'Park' ,'Choi' ])\n",
        "names"
      ],
      "execution_count": null,
      "outputs": []
    },
    {
      "cell_type": "code",
      "metadata": {
        "id": "tBhuf8j2GOsk",
        "colab_type": "code",
        "colab": {}
      },
      "source": [
        "names_mask = (names =='Lee')"
      ],
      "execution_count": null,
      "outputs": []
    }
  ]
}