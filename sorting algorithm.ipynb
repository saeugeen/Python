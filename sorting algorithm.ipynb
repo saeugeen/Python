{
  "nbformat": 4,
  "nbformat_minor": 0,
  "metadata": {
    "colab": {
      "name": "Untitled0.ipynb",
      "provenance": [],
      "collapsed_sections": [],
      "toc_visible": true,
      "authorship_tag": "ABX9TyNd7lngphtZDROhafdwY657",
      "include_colab_link": true
    },
    "kernelspec": {
      "name": "python3",
      "display_name": "Python 3"
    }
  },
  "cells": [
    {
      "cell_type": "markdown",
      "metadata": {
        "id": "view-in-github",
        "colab_type": "text"
      },
      "source": [
        "<a href=\"https://colab.research.google.com/github/saeugeen/Python_data-structure_algorithm/blob/master/sorting%20algorithm.ipynb\" target=\"_parent\"><img src=\"https://colab.research.google.com/assets/colab-badge.svg\" alt=\"Open In Colab\"/></a>"
      ]
    },
    {
      "cell_type": "markdown",
      "metadata": {
        "id": "lACkpiOMiNVs",
        "colab_type": "text"
      },
      "source": [
        "# 추상 데이터 타입"
      ]
    },
    {
      "cell_type": "markdown",
      "metadata": {
        "id": "Y7vS2OOiiTIj",
        "colab_type": "text"
      },
      "source": [
        "1.스택\n",
        "\n",
        "*   배열의 끝에서만 데이터를 접근할 수 있는 선형 자료구조이다.\n",
        "*   후입 선출 구조이다 (LIFO)\n",
        "\n",
        "\n"
      ]
    },
    {
      "cell_type": "markdown",
      "metadata": {
        "id": "JHXKmX3Io6TT",
        "colab_type": "text"
      },
      "source": [
        "**스택 만들기**\n",
        "\n",
        "\n",
        "*   리스트의 append()와 pop() 메서드로 스택을 구현 할 수 있다\n",
        "\n"
      ]
    },
    {
      "cell_type": "code",
      "metadata": {
        "id": "RQ6ZdluaiQ67",
        "colab_type": "code",
        "colab": {
          "base_uri": "https://localhost:8080/",
          "height": 538
        },
        "outputId": "1c308ec8-0531-42e1-86bc-0722e19c6530"
      },
      "source": [
        "class Stack(object):\n",
        "    def __init__(self):\n",
        "        self.items = []\n",
        "        \n",
        "    def isEmpty(self):\n",
        "        return not bool(self.items)\n",
        "    \n",
        "    def push(self, value):\n",
        "        self.items.append(value)\n",
        "        \n",
        "    def pop(self):\n",
        "        value = self.items.pop()\n",
        "        if value is not None:\n",
        "            return value\n",
        "        else:\n",
        "            print(\"Stack is empty.\")\n",
        "    \n",
        "    def size(self):\n",
        "        return len(self.items)\n",
        "    \n",
        "    def peek(self):\n",
        "        if self.items:\n",
        "            return self.items[-1]\n",
        "        else:\n",
        "            print(\"Stack is empty.\")\n",
        "            \n",
        "    def __repr__(self):\n",
        "        return repr(self.items)\n",
        "    \n",
        "if __name__ == \"__main__\":\n",
        "    stack = Stack()\n",
        "    print(stack)\n",
        "    for i in range(10):\n",
        "        stack.push(i)\n",
        "    print(stack)\n",
        "    for i in range(10):\n",
        "        print(\"pop : {0}\".format(stack.pop()))\n",
        "    print(\"pop : {0}\".format(stack.pop()))"
      ],
      "execution_count": 1,
      "outputs": [
        {
          "output_type": "stream",
          "text": [
            "[]\n",
            "[0, 1, 2, 3, 4, 5, 6, 7, 8, 9]\n",
            "pop : 9\n",
            "pop : 8\n",
            "pop : 7\n",
            "pop : 6\n",
            "pop : 5\n",
            "pop : 4\n",
            "pop : 3\n",
            "pop : 2\n",
            "pop : 1\n",
            "pop : 0\n"
          ],
          "name": "stdout"
        },
        {
          "output_type": "error",
          "ename": "IndexError",
          "evalue": "ignored",
          "traceback": [
            "\u001b[0;31m---------------------------------------------------------------------------\u001b[0m",
            "\u001b[0;31mIndexError\u001b[0m                                Traceback (most recent call last)",
            "\u001b[0;32m<ipython-input-1-b68ef9784549>\u001b[0m in \u001b[0;36m<module>\u001b[0;34m()\u001b[0m\n\u001b[1;32m     36\u001b[0m     \u001b[0;32mfor\u001b[0m \u001b[0mi\u001b[0m \u001b[0;32min\u001b[0m \u001b[0mrange\u001b[0m\u001b[0;34m(\u001b[0m\u001b[0;36m10\u001b[0m\u001b[0;34m)\u001b[0m\u001b[0;34m:\u001b[0m\u001b[0;34m\u001b[0m\u001b[0;34m\u001b[0m\u001b[0m\n\u001b[1;32m     37\u001b[0m         \u001b[0mprint\u001b[0m\u001b[0;34m(\u001b[0m\u001b[0;34m\"pop : {0}\"\u001b[0m\u001b[0;34m.\u001b[0m\u001b[0mformat\u001b[0m\u001b[0;34m(\u001b[0m\u001b[0mstack\u001b[0m\u001b[0;34m.\u001b[0m\u001b[0mpop\u001b[0m\u001b[0;34m(\u001b[0m\u001b[0;34m)\u001b[0m\u001b[0;34m)\u001b[0m\u001b[0;34m)\u001b[0m\u001b[0;34m\u001b[0m\u001b[0;34m\u001b[0m\u001b[0m\n\u001b[0;32m---> 38\u001b[0;31m     \u001b[0mprint\u001b[0m\u001b[0;34m(\u001b[0m\u001b[0;34m\"pop : {0}\"\u001b[0m\u001b[0;34m.\u001b[0m\u001b[0mformat\u001b[0m\u001b[0;34m(\u001b[0m\u001b[0mstack\u001b[0m\u001b[0;34m.\u001b[0m\u001b[0mpop\u001b[0m\u001b[0;34m(\u001b[0m\u001b[0;34m)\u001b[0m\u001b[0;34m)\u001b[0m\u001b[0;34m)\u001b[0m\u001b[0;34m\u001b[0m\u001b[0;34m\u001b[0m\u001b[0m\n\u001b[0m",
            "\u001b[0;32m<ipython-input-1-b68ef9784549>\u001b[0m in \u001b[0;36mpop\u001b[0;34m(self)\u001b[0m\n\u001b[1;32m     10\u001b[0m \u001b[0;34m\u001b[0m\u001b[0m\n\u001b[1;32m     11\u001b[0m     \u001b[0;32mdef\u001b[0m \u001b[0mpop\u001b[0m\u001b[0;34m(\u001b[0m\u001b[0mself\u001b[0m\u001b[0;34m)\u001b[0m\u001b[0;34m:\u001b[0m\u001b[0;34m\u001b[0m\u001b[0;34m\u001b[0m\u001b[0m\n\u001b[0;32m---> 12\u001b[0;31m         \u001b[0mvalue\u001b[0m \u001b[0;34m=\u001b[0m \u001b[0mself\u001b[0m\u001b[0;34m.\u001b[0m\u001b[0mitems\u001b[0m\u001b[0;34m.\u001b[0m\u001b[0mpop\u001b[0m\u001b[0;34m(\u001b[0m\u001b[0;34m)\u001b[0m\u001b[0;34m\u001b[0m\u001b[0;34m\u001b[0m\u001b[0m\n\u001b[0m\u001b[1;32m     13\u001b[0m         \u001b[0;32mif\u001b[0m \u001b[0mvalue\u001b[0m \u001b[0;32mis\u001b[0m \u001b[0;32mnot\u001b[0m \u001b[0;32mNone\u001b[0m\u001b[0;34m:\u001b[0m\u001b[0;34m\u001b[0m\u001b[0;34m\u001b[0m\u001b[0m\n\u001b[1;32m     14\u001b[0m             \u001b[0;32mreturn\u001b[0m \u001b[0mvalue\u001b[0m\u001b[0;34m\u001b[0m\u001b[0;34m\u001b[0m\u001b[0m\n",
            "\u001b[0;31mIndexError\u001b[0m: pop from empty list"
          ]
        }
      ]
    },
    {
      "cell_type": "markdown",
      "metadata": {
        "id": "aPof4H3kpWmK",
        "colab_type": "text"
      },
      "source": [
        "\n",
        "\n",
        "*   노드(객체)의 컨테이너로 스택을 구현\n",
        "\n"
      ]
    },
    {
      "cell_type": "code",
      "metadata": {
        "id": "HzwWvUFSpAgo",
        "colab_type": "code",
        "colab": {
          "base_uri": "https://localhost:8080/",
          "height": 263
        },
        "outputId": "38f75546-11ea-4767-bae8-814facc28f63"
      },
      "source": [
        "class Node(object):\n",
        "    def __init__(self, value=None, pointer=None ):\n",
        "        self.value = value\n",
        "        self.pointer = pointer\n",
        "\n",
        "class Stack(object):\n",
        "    def __init__(self):\n",
        "        self.head = None\n",
        "        self.count = 0\n",
        "        \n",
        "    def isEmpty(self):\n",
        "        return not bool(self.head)\n",
        "    \n",
        "    def push(self, item):\n",
        "        self.head = Node(item, self.head)\n",
        "        self.count += 1\n",
        "        \n",
        "    def pop(self):\n",
        "        if( self.count>0 and self.head ):\n",
        "            node = self.head\n",
        "            self.head = node.pointer\n",
        "            self.count -= 1\n",
        "            return node.value\n",
        "        else:\n",
        "            print(\"Stack is empty.\")\n",
        "    \n",
        "    def size(self):\n",
        "        return self.count\n",
        "    \n",
        "    def peek(self):\n",
        "        if( self.count>0 and self.head ):\n",
        "            return self.head.value\n",
        "        else:\n",
        "            print(\"Stack is empty.\")\n",
        "            \n",
        "    def _printList(self):\n",
        "        node = self.head\n",
        "        while node:\n",
        "            print(node.value, end=\" \")\n",
        "            node = node.pointer\n",
        "        print()\n",
        "    \n",
        "if __name__ == \"__main__\":\n",
        "    stack = Stack()\n",
        "    print(stack)\n",
        "    for i in range(10):\n",
        "        stack.push(i)\n",
        "    print(stack)\n",
        "    for i in range(10):\n",
        "        print(\"pop : {0}\".format(stack.pop()))\n",
        "    print(\"pop : {0}\".format(stack.pop()))"
      ],
      "execution_count": 2,
      "outputs": [
        {
          "output_type": "stream",
          "text": [
            "<__main__.Stack object at 0x7fb5aa063ac8>\n",
            "<__main__.Stack object at 0x7fb5aa063ac8>\n",
            "pop : 9\n",
            "pop : 8\n",
            "pop : 7\n",
            "pop : 6\n",
            "pop : 5\n",
            "pop : 4\n",
            "pop : 3\n",
            "pop : 2\n",
            "pop : 1\n",
            "pop : 0\n",
            "Stack is empty.\n",
            "pop : None\n"
          ],
          "name": "stdout"
        }
      ]
    },
    {
      "cell_type": "markdown",
      "metadata": {
        "id": "bMT-tPOiqUqv",
        "colab_type": "text"
      },
      "source": [
        "2.**큐**\n",
        "\n",
        "*   스택과 다르게 항목이 들어온 순서대로 접근 가능\n",
        "*   선입선출(FIFO)\n",
        "\n"
      ]
    },
    {
      "cell_type": "markdown",
      "metadata": {
        "id": "QRwNGg3PqsDf",
        "colab_type": "text"
      },
      "source": [
        "**Queue(큐) 만들기**\n"
      ]
    },
    {
      "cell_type": "code",
      "metadata": {
        "id": "RtX_W-kWqr2P",
        "colab_type": "code",
        "colab": {
          "base_uri": "https://localhost:8080/",
          "height": 240
        },
        "outputId": "fc4d4da8-ed9e-4823-d3e1-52fd7ef05e7c"
      },
      "source": [
        "class Queue(object):\n",
        "    def __init__(self):\n",
        "        self.items = []\n",
        "        \n",
        "    def isEmpty(self):\n",
        "        return not bool(self.items)\n",
        "    \n",
        "    def enqueue(self, value):\n",
        "        self.items.insert(0, value)\n",
        "        \n",
        "    def dequeue(self):\n",
        "        value = self.items.pop()\n",
        "        if value is not None:\n",
        "            return value\n",
        "        else:\n",
        "            print(\"Queue is empty.\")\n",
        "    \n",
        "    def size(self):\n",
        "        return len(self.items)\n",
        "    \n",
        "    def peek(self):\n",
        "        if self.items:\n",
        "            return self.items[-1]\n",
        "        else:\n",
        "            print(\"Queue is empty.\")\n",
        "            \n",
        "    def __repr__(self):\n",
        "        return repr(self.items)\n",
        "    \n",
        "if __name__ == \"__main__\":\n",
        "    queue = Queue()\n",
        "    print(queue)\n",
        "    for i in range(10):\n",
        "        queue.enqueue(i)\n",
        "    print(queue)\n",
        "    for i in range(10):\n",
        "        print(\"dequeue : {0}\".format(queue.dequeue()))"
      ],
      "execution_count": 3,
      "outputs": [
        {
          "output_type": "stream",
          "text": [
            "[]\n",
            "[9, 8, 7, 6, 5, 4, 3, 2, 1, 0]\n",
            "dequeue : 0\n",
            "dequeue : 1\n",
            "dequeue : 2\n",
            "dequeue : 3\n",
            "dequeue : 4\n",
            "dequeue : 5\n",
            "dequeue : 6\n",
            "dequeue : 7\n",
            "dequeue : 8\n",
            "dequeue : 9\n"
          ],
          "name": "stdout"
        }
      ]
    },
    {
      "cell_type": "markdown",
      "metadata": {
        "id": "wnCPy94aq6jI",
        "colab_type": "text"
      },
      "source": [
        " 위 코드는 리스트의 insert() 메서드를 사용 했지만, 이는 모든 요소가 메모리에서 이동할 수 있으므로 비 효율적이다."
      ]
    },
    {
      "cell_type": "markdown",
      "metadata": {
        "id": "lBhrF6r7rGia",
        "colab_type": "text"
      },
      "source": [
        "아래는 두 개의 스택을 사용하여 효율적인 큐를 만들었다."
      ]
    },
    {
      "cell_type": "code",
      "metadata": {
        "id": "mrh3s8jaqUMi",
        "colab_type": "code",
        "colab": {
          "base_uri": "https://localhost:8080/",
          "height": 565
        },
        "outputId": "5e27fc20-917c-4775-ba7a-d2ca3e701eff"
      },
      "source": [
        "class Node(object):\n",
        "    def __init__(self, value=None, pointer=None ):\n",
        "        self.value = value\n",
        "        self.pointer = pointer\n",
        "\n",
        "class LinkedQueue(object):\n",
        "    def __init__(self):\n",
        "        self.head = None\n",
        "        self.tail= None\n",
        "        self.count = 0\n",
        "        \n",
        "    def isEmpty(self):\n",
        "        return not bool(self.head)\n",
        "\n",
        "    def dequeue(self):\n",
        "        if( self.head ):\n",
        "            value = self.head.value\n",
        "            self.head = self.head.pointer\n",
        "            self.count -= 1\n",
        "            return value\n",
        "        else:\n",
        "            print(\"Queue is empty.\")\n",
        "    \n",
        "    \n",
        "    def enqueue(self, value):\n",
        "        node = Node(value)\n",
        "        if not self.head:\n",
        "            self.head = node\n",
        "            self.tail = node\n",
        "        else:\n",
        "            if self.tail:\n",
        "                self.tail.pointer = node\n",
        "            self.tail = node\n",
        "        self.count += 1\n",
        "        \n",
        "    def size(self):\n",
        "        return self.count\n",
        "    \n",
        "    def peek(self):\n",
        "        if( self.count>0 ):\n",
        "            return self.head.value\n",
        "        else:\n",
        "            print(\"Queue is empty.\")\n",
        "            \n",
        "    def print(self):\n",
        "        node = self.head\n",
        "        while node:\n",
        "            print(node.value, end=\" \")\n",
        "            node = node.pointer\n",
        "        print()\n",
        "    \n",
        "if __name__ == \"__main__\":\n",
        "    queue = Queue()\n",
        "    print(queue)\n",
        "    for i in range(10):\n",
        "        queue.enqueue(i)\n",
        "    print(queue)\n",
        "    for i in range(10):\n",
        "        print(\"pop : {0}\".format(queue.dequeue()))\n",
        "    print(\"pop : {0}\".format(queue.dequeue()))"
      ],
      "execution_count": 4,
      "outputs": [
        {
          "output_type": "stream",
          "text": [
            "[]\n",
            "[9, 8, 7, 6, 5, 4, 3, 2, 1, 0]\n",
            "pop : 0\n",
            "pop : 1\n",
            "pop : 2\n",
            "pop : 3\n",
            "pop : 4\n",
            "pop : 5\n",
            "pop : 6\n",
            "pop : 7\n",
            "pop : 8\n",
            "pop : 9\n"
          ],
          "name": "stdout"
        },
        {
          "output_type": "error",
          "ename": "IndexError",
          "evalue": "ignored",
          "traceback": [
            "\u001b[0;31m---------------------------------------------------------------------------\u001b[0m",
            "\u001b[0;31mIndexError\u001b[0m                                Traceback (most recent call last)",
            "\u001b[0;32m<ipython-input-4-ac8b29df8f2e>\u001b[0m in \u001b[0;36m<module>\u001b[0;34m()\u001b[0m\n\u001b[1;32m     58\u001b[0m     \u001b[0;32mfor\u001b[0m \u001b[0mi\u001b[0m \u001b[0;32min\u001b[0m \u001b[0mrange\u001b[0m\u001b[0;34m(\u001b[0m\u001b[0;36m10\u001b[0m\u001b[0;34m)\u001b[0m\u001b[0;34m:\u001b[0m\u001b[0;34m\u001b[0m\u001b[0;34m\u001b[0m\u001b[0m\n\u001b[1;32m     59\u001b[0m         \u001b[0mprint\u001b[0m\u001b[0;34m(\u001b[0m\u001b[0;34m\"pop : {0}\"\u001b[0m\u001b[0;34m.\u001b[0m\u001b[0mformat\u001b[0m\u001b[0;34m(\u001b[0m\u001b[0mqueue\u001b[0m\u001b[0;34m.\u001b[0m\u001b[0mdequeue\u001b[0m\u001b[0;34m(\u001b[0m\u001b[0;34m)\u001b[0m\u001b[0;34m)\u001b[0m\u001b[0;34m)\u001b[0m\u001b[0;34m\u001b[0m\u001b[0;34m\u001b[0m\u001b[0m\n\u001b[0;32m---> 60\u001b[0;31m     \u001b[0mprint\u001b[0m\u001b[0;34m(\u001b[0m\u001b[0;34m\"pop : {0}\"\u001b[0m\u001b[0;34m.\u001b[0m\u001b[0mformat\u001b[0m\u001b[0;34m(\u001b[0m\u001b[0mqueue\u001b[0m\u001b[0;34m.\u001b[0m\u001b[0mdequeue\u001b[0m\u001b[0;34m(\u001b[0m\u001b[0;34m)\u001b[0m\u001b[0;34m)\u001b[0m\u001b[0;34m)\u001b[0m\u001b[0;34m\u001b[0m\u001b[0;34m\u001b[0m\u001b[0m\n\u001b[0m",
            "\u001b[0;32m<ipython-input-3-4ccd077dae4e>\u001b[0m in \u001b[0;36mdequeue\u001b[0;34m(self)\u001b[0m\n\u001b[1;32m     10\u001b[0m \u001b[0;34m\u001b[0m\u001b[0m\n\u001b[1;32m     11\u001b[0m     \u001b[0;32mdef\u001b[0m \u001b[0mdequeue\u001b[0m\u001b[0;34m(\u001b[0m\u001b[0mself\u001b[0m\u001b[0;34m)\u001b[0m\u001b[0;34m:\u001b[0m\u001b[0;34m\u001b[0m\u001b[0;34m\u001b[0m\u001b[0m\n\u001b[0;32m---> 12\u001b[0;31m         \u001b[0mvalue\u001b[0m \u001b[0;34m=\u001b[0m \u001b[0mself\u001b[0m\u001b[0;34m.\u001b[0m\u001b[0mitems\u001b[0m\u001b[0;34m.\u001b[0m\u001b[0mpop\u001b[0m\u001b[0;34m(\u001b[0m\u001b[0;34m)\u001b[0m\u001b[0;34m\u001b[0m\u001b[0;34m\u001b[0m\u001b[0m\n\u001b[0m\u001b[1;32m     13\u001b[0m         \u001b[0;32mif\u001b[0m \u001b[0mvalue\u001b[0m \u001b[0;32mis\u001b[0m \u001b[0;32mnot\u001b[0m \u001b[0;32mNone\u001b[0m\u001b[0;34m:\u001b[0m\u001b[0;34m\u001b[0m\u001b[0;34m\u001b[0m\u001b[0m\n\u001b[1;32m     14\u001b[0m             \u001b[0;32mreturn\u001b[0m \u001b[0mvalue\u001b[0m\u001b[0;34m\u001b[0m\u001b[0;34m\u001b[0m\u001b[0m\n",
            "\u001b[0;31mIndexError\u001b[0m: pop from empty list"
          ]
        }
      ]
    },
    {
      "cell_type": "markdown",
      "metadata": {
        "id": "3oWlmka4raAk",
        "colab_type": "text"
      },
      "source": [
        "3.**heapq 모듈**\n",
        "\n",
        "*   heapq 모듈은 효율적으로 시퀀스를 힙으로 유지하면서 항목을 삽입하고 제거하는 함수를 제공한다.\n"
      ]
    },
    {
      "cell_type": "markdown",
      "metadata": {
        "id": "FHWZpii9rvTP",
        "colab_type": "text"
      },
      "source": [
        "heapq 구현"
      ]
    },
    {
      "cell_type": "code",
      "metadata": {
        "id": "i7IQTYk_pgbW",
        "colab_type": "code",
        "colab": {
          "base_uri": "https://localhost:8080/",
          "height": 36
        },
        "outputId": "5e2d6e54-1b76-4c86-b244-65c50295d67c"
      },
      "source": [
        "left = 7\n",
        "i = 3\n",
        "largest = ( False ) and left or i\n",
        "print(largest)"
      ],
      "execution_count": 5,
      "outputs": [
        {
          "output_type": "stream",
          "text": [
            "3\n"
          ],
          "name": "stdout"
        }
      ]
    },
    {
      "cell_type": "markdown",
      "metadata": {
        "id": "M7o_NGyyr9tH",
        "colab_type": "text"
      },
      "source": [
        "최대 힙 구현하기"
      ]
    },
    {
      "cell_type": "code",
      "metadata": {
        "id": "V0pGqzqwr8iV",
        "colab_type": "code",
        "colab": {
          "base_uri": "https://localhost:8080/",
          "height": 128
        },
        "outputId": "c0548526-f490-4a57-a946-cc82e82529d7"
      },
      "source": [
        "class Heapify(object):\n",
        "    def __init__(self, data=None):\n",
        "        self.data = data or []\n",
        "        for i in range(len(data)//2, -1, -1):\n",
        "#             print(i)\n",
        "            self.__max_heapify__(i)\n",
        "            \n",
        "    def parent(self, i):\n",
        "        if i & 1:\n",
        "            return i >> 1\n",
        "        else:\n",
        "            return (i>>1) - 1\n",
        "        \n",
        "    def left_child(self, i):\n",
        "        return (i<<1) + 1\n",
        "    \n",
        "    def right_child(self, i):\n",
        "        return (i<<1) + 2\n",
        "    \n",
        "    def __max_heapify__(self, i):\n",
        "        largest = i  # 현재 노드\n",
        "        left = self.left_child(i)\n",
        "        right = self.right_child(i)\n",
        "        n = len(self.data)\n",
        "        \n",
        "        #왼쪽 자식\n",
        "        largest = (left<n and self.data[left] > self.data[i]) and left or i\n",
        "        #오른쪽 자식\n",
        "        largest = (right<n and self.data[right] > self.data[largest]) and right or largest\n",
        "        \n",
        "        #현재 노드가 자식들보다 크다면 Skip,자식이 크다면 Swap\n",
        "        if i is not largest:\n",
        "            self.data[i] , self.data[largest] = self.data[largest], self.data[i]\n",
        "            print(self.data)\n",
        "            self.__max_heapify__(largest)\n",
        "\n",
        "    def extract_max(self):\n",
        "        n = len(self.data)\n",
        "        max_element = self.data[0]\n",
        "        #첫 번째 노드에 마지막 노드를 삽입\n",
        "        self.data[0] = self.data[n-1]\n",
        "        self.data = self.data[:n-1]\n",
        "        self.__max_heapify__(0)\n",
        "\n",
        "        return max_element \n",
        "    \n",
        "    def insert(self, item):\n",
        "        i = len(self.data)\n",
        "        self.data.append(item)\n",
        "        while( i != 0 ) and item > self.data[self.parent(i)]:\n",
        "            \n",
        "            self.data[i] = self.data[self.parent(i)]\n",
        "            i = self.parent(i)\n",
        "        self.data[i] = item\n",
        "        \n",
        "def test_heapify():\n",
        "    l1 = [1, 2, 3, 4, 5, 6, 7]\n",
        "    h = Heapify(l1)\n",
        "    print(h.extract_max())\n",
        "#     print(h.extract_max())\n",
        "#     print(h.extract_max())\n",
        "#     h.insert(9)\n",
        "#     print(h.data)\n",
        "\n",
        "if __name__ == \"__main__\":\n",
        "    test_heapify()"
      ],
      "execution_count": 7,
      "outputs": [
        {
          "output_type": "stream",
          "text": [
            "[1, 2, 7, 4, 5, 6, 3]\n",
            "[1, 5, 7, 4, 2, 6, 3]\n",
            "[7, 5, 1, 4, 2, 6, 3]\n",
            "[7, 5, 6, 4, 2, 1, 3]\n",
            "[6, 5, 3, 4, 2, 1]\n",
            "7\n"
          ],
          "name": "stdout"
        }
      ]
    },
    {
      "cell_type": "markdown",
      "metadata": {
        "id": "7e1rYR9itOJP",
        "colab_type": "text"
      },
      "source": [
        "4.**연결 리스트**\n",
        "\n",
        "*   연결 리스트는 값과 다음 노드에 대한 포인터가 포함된 노드로 이루어진 선형 리스트이다.\n",
        "*   연결 리스트로 스택과 큐를 구현할 수 있다."
      ]
    },
    {
      "cell_type": "markdown",
      "metadata": {
        "id": "FGv-G9hztyZe",
        "colab_type": "text"
      },
      "source": [
        "**연결 리스트 구현**"
      ]
    },
    {
      "cell_type": "code",
      "metadata": {
        "id": "h2xCVhMQtyCA",
        "colab_type": "code",
        "colab": {
          "base_uri": "https://localhost:8080/",
          "height": 91
        },
        "outputId": "68cf3a58-cf54-4b5a-a627-0609150afbc4"
      },
      "source": [
        "class Node(object):\n",
        "    def __init__(self, value=None, pointer=None):\n",
        "        self.value = value\n",
        "        self.pointer = pointer\n",
        "        \n",
        "    def getData(self):\n",
        "        return self.value\n",
        "    \n",
        "    def getNext(self):\n",
        "        return self.pointer\n",
        "    \n",
        "    def setData(self, newdata):\n",
        "        self.value = newdata\n",
        "        \n",
        "    def setNext(self, newpointer):\n",
        "        self.pointer = newpointer\n",
        "        \n",
        "if __name__ == '__main__':\n",
        "    L = Node(\"a\", Node(\"b\", Node(\"c\", Node(\"d\"))))\n",
        "    assert( L.pointer.pointer.value==\"c\")\n",
        "    \n",
        "    print(L.getData())\n",
        "    print(L.getNext().getData())\n",
        "    L.setData('aa')\n",
        "    L.setNext(Node(\"e\"))\n",
        "    print(L.getData())\n",
        "    print(L.getNext().getData())"
      ],
      "execution_count": 8,
      "outputs": [
        {
          "output_type": "stream",
          "text": [
            "a\n",
            "b\n",
            "aa\n",
            "e\n"
          ],
          "name": "stdout"
        }
      ]
    },
    {
      "cell_type": "markdown",
      "metadata": {
        "id": "ArWimOMCt9KB",
        "colab_type": "text"
      },
      "source": [
        "이 노드들로 이루어진 후입선출(LIFO) 연결 리스트 구현"
      ]
    },
    {
      "cell_type": "code",
      "metadata": {
        "id": "QFKGAj-AsF4v",
        "colab_type": "code",
        "colab": {
          "base_uri": "https://localhost:8080/",
          "height": 91
        },
        "outputId": "6671d250-7437-4c37-c69d-4ba2a58f42fb"
      },
      "source": [
        "class LinkedListLIFO(object):\n",
        "    def __init__(self):\n",
        "        self.head = None\n",
        "        self.length = 0\n",
        "\n",
        "    #헤드부터 각 노드의 값을 출력한다.    \n",
        "    def _printList(self):\n",
        "        node = self.head\n",
        "        print(\"Head\", end=\"\")\n",
        "        while node:\n",
        "            print(\"->[%d]\"%node.value, end=\"\")\n",
        "            node = node.pointer\n",
        "        print()\n",
        "\n",
        "    #이전 노드(prev)를 기반으로 노드(node)를 삭제한다.    \n",
        "    def _delete(self, prev, node):\n",
        "        self.length -= 1\n",
        "        if not prev :\n",
        "            self.head = node.pointer\n",
        "        else:\n",
        "            prev.pointer = node.pointer\n",
        "            \n",
        "    #새 노드를 추가한다. 다음 노드로 헤드를 가리키고,\n",
        "    #헤드는 새 노드를 가리킨다.\n",
        "    def _add(self, value):\n",
        "        self.length += 1\n",
        "        self.head = Node(value, self.head)\n",
        "        \n",
        "    #인덱스로 노드를 찾는다.\n",
        "    def _find(self, index):\n",
        "        prev = None\n",
        "        node = self.head\n",
        "        i = 0\n",
        "        while node and i < index:\n",
        "            prev = node\n",
        "            node = node.pointer\n",
        "            i+=1\n",
        "        return node, prev, i \n",
        "    \n",
        "    #값으로 노드를 찾는다.\n",
        "    def _find_by_value(self, value):\n",
        "        prev = None\n",
        "        node = self.head\n",
        "        found = False\n",
        "        while node and not found:\n",
        "            if node.value == value:\n",
        "                found= True\n",
        "            else:\n",
        "                prev = node\n",
        "                node = node.pointer\n",
        "        return node, prev, found\n",
        "    \n",
        "    #인덱스에 해당하는 노드를 찾아서 삭제한다.\n",
        "    def deleteNode(self, index):\n",
        "        node, prev, i = self._find(index)\n",
        "        if index == i:\n",
        "            self._delete(prev, node)\n",
        "        else:\n",
        "            print(f\"인덱스 {index}에 해당하는 노드가 없습니다.\")\n",
        "    \n",
        "    #값에 해당하는 노드를 찾아서 삭제한다.\n",
        "    def deleteNodeByValue(self, value):\n",
        "        node, prev, found = self._find_by_value(value)\n",
        "        if found:\n",
        "            self._delete(prev, node)\n",
        "        else:\n",
        "            print(f\"값 {value}에 해당하는 노드가 없습니다.\")\n",
        "        \n",
        "        \n",
        "if __name__ == '__main__':\n",
        "    l1 = LinkedListLIFO()\n",
        "    for i in range(1, 5):\n",
        "        l1._add(i)\n",
        "    print(\"연결 리스트 출력:\")\n",
        "    l1._printList()\n",
        "    l1.deleteNode(2)\n",
        "    l1._printList()\n",
        "    l1.deleteNodeByValue(3)\n",
        "    l1._printList()"
      ],
      "execution_count": 9,
      "outputs": [
        {
          "output_type": "stream",
          "text": [
            "연결 리스트 출력:\n",
            "Head->[4]->[3]->[2]->[1]\n",
            "Head->[4]->[3]->[1]\n",
            "Head->[4]->[1]\n"
          ],
          "name": "stdout"
        }
      ]
    },
    {
      "cell_type": "markdown",
      "metadata": {
        "id": "x0mo-U0OvH6M",
        "colab_type": "text"
      },
      "source": [
        "선입선출(FIFO) 형식의 연결리스트"
      ]
    },
    {
      "cell_type": "code",
      "metadata": {
        "id": "jj_0AyxAuw8g",
        "colab_type": "code",
        "colab": {
          "base_uri": "https://localhost:8080/",
          "height": 91
        },
        "outputId": "11d876aa-a75b-4c9a-a9fa-dfb2d9cbaf50"
      },
      "source": [
        "class LinkedListFIFO(object):\n",
        "    def __init__(self):\n",
        "        self.head = None\n",
        "        self.length = 0\n",
        "        self.tail = None\n",
        "        \n",
        "    #헤드부터 각 노드의 값을 출력한다.    \n",
        "    def _printList(self):\n",
        "        node = self.head\n",
        "        while node:\n",
        "            print(\"->[%d]\"%node.value, end=\"\")\n",
        "            node = node.pointer\n",
        "        print()\n",
        "\n",
        "    #첫 번째 위치에 노드를 추가한다.\n",
        "    def _addFirst(self, value):\n",
        "        self.length = 1\n",
        "        node = Node(value)\n",
        "        self.head = node\n",
        "        self.tail = node\n",
        "        \n",
        "    #첫 번째 위치의 노드를 삭제한다.\n",
        "    def _deleteFirst(self):\n",
        "        self.length = 0\n",
        "        self.head = None\n",
        "        self.tail = None\n",
        "        print(\"연결 리스트가 비었습니다.\")\n",
        "    \n",
        "\n",
        "    #새 노드를 추가한다. 테일이 있다면,테일의 다음 노드는 \n",
        "    #새 노드를 가리키고,테일은 새 노드를 가리킨다.\n",
        "    def _add(self, value):\n",
        "        self.length += 1\n",
        "        node = Node(value)\n",
        "        if self.tail:\n",
        "            self.tail.pointer = node\n",
        "        self.tail = node\n",
        "    \n",
        "    #새 노드를 추가한다.\n",
        "    def addNode(self, value):\n",
        "        if not self.head:\n",
        "            self._addFirst(value)\n",
        "        else:\n",
        "            self._add(value)\n",
        "            \n",
        "    #인덱스로 노드를 찾는다.\n",
        "    def _find(self, index):\n",
        "        prev = None\n",
        "        node = self.head\n",
        "        i = 0\n",
        "        while node and i < index:\n",
        "            prev = node\n",
        "            node = node.pointer\n",
        "            i+=1\n",
        "        return node, prev, i \n",
        "    \n",
        "    #값으로 노드를 찾는다.\n",
        "    def _find_by_value(self, value):\n",
        "        prev = None\n",
        "        node = self.head\n",
        "        found = False\n",
        "        while node and not found:\n",
        "            if node.value == value:\n",
        "                found= True\n",
        "            else:\n",
        "                prev = node\n",
        "                node = node.pointer\n",
        "        return node, prev, found\n",
        "    \n",
        "    #인덱스에 해당하는 노드를 삭제한다.\n",
        "    def deleteNode(self, index):\n",
        "        if not self.head or not self.head.pointer:\n",
        "            self._deleteFirst()\n",
        "        else:\n",
        "            node, prev, i = self._find(index)\n",
        "            if i == index and node:\n",
        "                self.length -= 1\n",
        "                if i==0 or not prev:\n",
        "                    self.head = node.pointer\n",
        "                    self.tail = node.pointer\n",
        "                else:\n",
        "                     prev.pointer = node.pointer\n",
        "            else :\n",
        "                print(\"인데스 {0}에 해당하는 노드가 없습니다.\".format(index))\n",
        "    \n",
        "    #값에 해당하는 노드를 삭제한다.\n",
        "    def deleteNodeByValue(self, value):\n",
        "        if not self.head or not self.head.pointer:\n",
        "            self._deleteFirst()\n",
        "        else:\n",
        "            node, prev, i = self._find_by_value(value)\n",
        "            if node and node.value == value:\n",
        "                self.length -= 1\n",
        "            \n",
        "                if i == 0 or not prev:\n",
        "                    self.head = node.pointer\n",
        "                    self.tail = node.pointer\n",
        "                else:\n",
        "                    prev.pointer = node.pointer\n",
        "            \n",
        "            else:\n",
        "                print(\"값 {0}에 해당하는 노드가 없습니다.\".format(value))\n",
        "       \n",
        "        \n",
        "if __name__ == '__main__':\n",
        "    l1 = LinkedListFIFO()\n",
        "    for i in range(1, 5):\n",
        "        l1.addNode(i)\n",
        "    print(\"연결 리스트 출력:\")\n",
        "    l1._printList()\n",
        "    l1.deleteNode(2)\n",
        "    l1._printList()\n",
        "    l1.deleteNodeByValue(2)\n",
        "    l1._printList()"
      ],
      "execution_count": 11,
      "outputs": [
        {
          "output_type": "stream",
          "text": [
            "연결 리스트 출력:\n",
            "->[1]->[2]->[3]->[4]\n",
            "->[1]->[2]->[4]\n",
            "->[1]->[4]\n"
          ],
          "name": "stdout"
        }
      ]
    },
    {
      "cell_type": "markdown",
      "metadata": {
        "id": "kwwaJvtWwaf2",
        "colab_type": "text"
      },
      "source": [
        "5.**해시 테이블**\n",
        "\n",
        "*   해시 테이블은 키를 값에 연결하여, 하나의 키가 0 또는 1개의 값과 연관된다.\n",
        "*   두 개의 키가 동일한 버킷에 해시될 때, 해시 충돌이 발생한다.\n"
      ]
    },
    {
      "cell_type": "markdown",
      "metadata": {
        "id": "GY3gtVOyxB89",
        "colab_type": "text"
      },
      "source": [
        "해시 테이블"
      ]
    },
    {
      "cell_type": "code",
      "metadata": {
        "id": "BTzXqOjyvPjl",
        "colab_type": "code",
        "colab": {
          "base_uri": "https://localhost:8080/",
          "height": 663
        },
        "outputId": "5fb29ed1-8b94-4a77-9f7f-1551cee77f2d"
      },
      "source": [
        "import os\n",
        "def clear():\n",
        "    os.system('cls')   # 콘솔화면 지우기\n",
        "\n",
        "class HashTableLL(object):\n",
        "    def __init__(self, size):\n",
        "        self.size = size\n",
        "        self.slots = []\n",
        "        self._creatHashTable()\n",
        "    \n",
        "    def _creatHashTable(self):\n",
        "        for i in range( self.size ):\n",
        "            self.slots.append(LinkedListFIFO())\n",
        "            \n",
        "    def _find(self, item):\n",
        "        GOLDEN_RATIO_PRIME_32 = 0x9e370001\n",
        "        item = item * GOLDEN_RATIO_PRIME_32\n",
        "        bits = 3\n",
        "        item = item >> (32 - bits)\n",
        "\n",
        "        return item\n",
        "        \n",
        "    def _add(self, item):\n",
        "        index = self._find(item)\n",
        "        self.slots[index].addNode(item)\n",
        "            \n",
        "    def _delete(self, item):\n",
        "        index = self._find(item)\n",
        "        self.slots[index].deleteNodeByValue(item)\n",
        "            \n",
        "    def _print(self):\n",
        "        clear()\n",
        "        for i in range(self.size):\n",
        "            print(\"[[{0}]]\".format(i), end=\"\")\n",
        "            self.slots[i]._printList()\n",
        "        \n",
        "                \n",
        "        \n",
        "def test_hash_tables():\n",
        "    H1 = HashTableLL(8)\n",
        "    for i in range(0,20):\n",
        "        H1._add(i)\n",
        "        H1._print()\n",
        "\n",
        "if __name__ == '__main__':\n",
        "    test_hash_tables()"
      ],
      "execution_count": 13,
      "outputs": [
        {
          "output_type": "stream",
          "text": [
            "[[0]]->[0]\n",
            "[[1]]\n",
            "[[2]]\n",
            "[[3]]\n",
            "[[4]]\n",
            "[[5]]\n",
            "[[6]]\n",
            "[[7]]\n",
            "[[0]]->[0]\n",
            "[[1]]\n",
            "[[2]]\n",
            "[[3]]\n",
            "[[4]]->[1]\n",
            "[[5]]\n",
            "[[6]]\n",
            "[[7]]\n"
          ],
          "name": "stdout"
        },
        {
          "output_type": "error",
          "ename": "IndexError",
          "evalue": "ignored",
          "traceback": [
            "\u001b[0;31m---------------------------------------------------------------------------\u001b[0m",
            "\u001b[0;31mIndexError\u001b[0m                                Traceback (most recent call last)",
            "\u001b[0;32m<ipython-input-13-8af16486e219>\u001b[0m in \u001b[0;36m<module>\u001b[0;34m()\u001b[0m\n\u001b[1;32m     44\u001b[0m \u001b[0;34m\u001b[0m\u001b[0m\n\u001b[1;32m     45\u001b[0m \u001b[0;32mif\u001b[0m \u001b[0m__name__\u001b[0m \u001b[0;34m==\u001b[0m \u001b[0;34m'__main__'\u001b[0m\u001b[0;34m:\u001b[0m\u001b[0;34m\u001b[0m\u001b[0;34m\u001b[0m\u001b[0m\n\u001b[0;32m---> 46\u001b[0;31m     \u001b[0mtest_hash_tables\u001b[0m\u001b[0;34m(\u001b[0m\u001b[0;34m)\u001b[0m\u001b[0;34m\u001b[0m\u001b[0;34m\u001b[0m\u001b[0m\n\u001b[0m",
            "\u001b[0;32m<ipython-input-13-8af16486e219>\u001b[0m in \u001b[0;36mtest_hash_tables\u001b[0;34m()\u001b[0m\n\u001b[1;32m     40\u001b[0m     \u001b[0mH1\u001b[0m \u001b[0;34m=\u001b[0m \u001b[0mHashTableLL\u001b[0m\u001b[0;34m(\u001b[0m\u001b[0;36m8\u001b[0m\u001b[0;34m)\u001b[0m\u001b[0;34m\u001b[0m\u001b[0;34m\u001b[0m\u001b[0m\n\u001b[1;32m     41\u001b[0m     \u001b[0;32mfor\u001b[0m \u001b[0mi\u001b[0m \u001b[0;32min\u001b[0m \u001b[0mrange\u001b[0m\u001b[0;34m(\u001b[0m\u001b[0;36m0\u001b[0m\u001b[0;34m,\u001b[0m\u001b[0;36m20\u001b[0m\u001b[0;34m)\u001b[0m\u001b[0;34m:\u001b[0m\u001b[0;34m\u001b[0m\u001b[0;34m\u001b[0m\u001b[0m\n\u001b[0;32m---> 42\u001b[0;31m         \u001b[0mH1\u001b[0m\u001b[0;34m.\u001b[0m\u001b[0m_add\u001b[0m\u001b[0;34m(\u001b[0m\u001b[0mi\u001b[0m\u001b[0;34m)\u001b[0m\u001b[0;34m\u001b[0m\u001b[0;34m\u001b[0m\u001b[0m\n\u001b[0m\u001b[1;32m     43\u001b[0m         \u001b[0mH1\u001b[0m\u001b[0;34m.\u001b[0m\u001b[0m_print\u001b[0m\u001b[0;34m(\u001b[0m\u001b[0;34m)\u001b[0m\u001b[0;34m\u001b[0m\u001b[0;34m\u001b[0m\u001b[0m\n\u001b[1;32m     44\u001b[0m \u001b[0;34m\u001b[0m\u001b[0m\n",
            "\u001b[0;32m<ipython-input-13-8af16486e219>\u001b[0m in \u001b[0;36m_add\u001b[0;34m(self, item)\u001b[0m\n\u001b[1;32m     23\u001b[0m     \u001b[0;32mdef\u001b[0m \u001b[0m_add\u001b[0m\u001b[0;34m(\u001b[0m\u001b[0mself\u001b[0m\u001b[0;34m,\u001b[0m \u001b[0mitem\u001b[0m\u001b[0;34m)\u001b[0m\u001b[0;34m:\u001b[0m\u001b[0;34m\u001b[0m\u001b[0;34m\u001b[0m\u001b[0m\n\u001b[1;32m     24\u001b[0m         \u001b[0mindex\u001b[0m \u001b[0;34m=\u001b[0m \u001b[0mself\u001b[0m\u001b[0;34m.\u001b[0m\u001b[0m_find\u001b[0m\u001b[0;34m(\u001b[0m\u001b[0mitem\u001b[0m\u001b[0;34m)\u001b[0m\u001b[0;34m\u001b[0m\u001b[0;34m\u001b[0m\u001b[0m\n\u001b[0;32m---> 25\u001b[0;31m         \u001b[0mself\u001b[0m\u001b[0;34m.\u001b[0m\u001b[0mslots\u001b[0m\u001b[0;34m[\u001b[0m\u001b[0mindex\u001b[0m\u001b[0;34m]\u001b[0m\u001b[0;34m.\u001b[0m\u001b[0maddNode\u001b[0m\u001b[0;34m(\u001b[0m\u001b[0mitem\u001b[0m\u001b[0;34m)\u001b[0m\u001b[0;34m\u001b[0m\u001b[0;34m\u001b[0m\u001b[0m\n\u001b[0m\u001b[1;32m     26\u001b[0m \u001b[0;34m\u001b[0m\u001b[0m\n\u001b[1;32m     27\u001b[0m     \u001b[0;32mdef\u001b[0m \u001b[0m_delete\u001b[0m\u001b[0;34m(\u001b[0m\u001b[0mself\u001b[0m\u001b[0;34m,\u001b[0m \u001b[0mitem\u001b[0m\u001b[0;34m)\u001b[0m\u001b[0;34m:\u001b[0m\u001b[0;34m\u001b[0m\u001b[0;34m\u001b[0m\u001b[0m\n",
            "\u001b[0;31mIndexError\u001b[0m: list index out of range"
          ]
        }
      ]
    },
    {
      "cell_type": "code",
      "metadata": {
        "id": "3xkc4CjzxFra",
        "colab_type": "code",
        "colab": {}
      },
      "source": [
        ""
      ],
      "execution_count": null,
      "outputs": []
    },
    {
      "cell_type": "markdown",
      "metadata": {
        "id": "E8G6xHo60qlx",
        "colab_type": "text"
      },
      "source": [
        "# 정렬"
      ]
    },
    {
      "cell_type": "code",
      "metadata": {
        "id": "j3-TMwNi0ul7",
        "colab_type": "code",
        "colab": {}
      },
      "source": [
        ""
      ],
      "execution_count": null,
      "outputs": []
    }
  ]
}